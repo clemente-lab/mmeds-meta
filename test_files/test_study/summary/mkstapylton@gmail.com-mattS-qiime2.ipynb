{
 "cells": [
  {
   "cell_type": "code",
   "execution_count": null,
   "id": "0862bdd4",
   "metadata": {
    "hide_input": true
   },
   "outputs": [],
   "source": [
    "from pathlib import Path\n",
    "from copy import deepcopy\n",
    "import pandas as pd\n",
    "import rpy2.rinterface\n",
    "from math import floor\n",
    "from warnings import filterwarnings\n",
    "from IPython.display import Image\n",
    "from random import shuffle\n",
    "from PIL import Image as PImage\n",
    "from PIL import ImageDraw, ImageFont\n",
    "from mmeds.util import load_config\n",
    "\n",
    "filterwarnings('ignore', category=rpy2.rinterface.RRuntimeWarning)\n",
    "\n",
    "# Load the configuration\n",
    "config = load_config(Path('config_file.yaml'), Path('metadata.tsv'), True)\n",
    "\n",
    "# Load metadata file\n",
    "if 'qiime2' == 'qiime2':\n",
    "    mdf = pd.read_csv('qiime_mapping_file.tsv', skiprows=[1], sep='\\t', dtype={'#SampleID': 'str'})\n",
    "else:\n",
    "    mdf = pd.read_csv('qiime_mapping_file.tsv', sep='\\t')\n",
    "mdf.set_index('#SampleID', inplace=True)\n",
    "\n",
    "# Load the columns to use for analysis\n",
    "metadata_columns = sorted(config['metadata'])\n",
    "metadata_discrete = sorted([x for x in config['metadata'] if not config['metadata_continuous'][x]])\n",
    "metadata_continuous = sorted([x for x in config['metadata'] if config['metadata_continuous'][x]])\n",
    "\n",
    "# Calculate needed number of discrete colors, equal to the number of values across all discrete variables\n",
    "max_colors = 0\n",
    "for group_name in metadata_discrete:\n",
    "    if group_name in mdf and not mdf[group_name].isnull().all():\n",
    "        grouping = mdf[group_name]\n",
    "        max_colors += grouping.nunique()\n",
    "\n",
    "all_colors = ['color{}'.format(i) for i in range(max_colors)]\n",
    "\n",
    "# Load the extention for jupyter\n",
    "%load_ext rpy2.ipython"
   ]
  },
  {
   "cell_type": "code",
   "execution_count": null,
   "id": "d0a6e44b",
   "metadata": {
    "hide_input": true
   },
   "outputs": [],
   "source": [
    "%%R -i all_colors -o allRGB\n",
    "library(ggplot2)\n",
    "library(RColorBrewer)\n",
    "library(GGally)\n",
    "library(ggrepel)\n",
    "\n",
    "# Create custom color palette from brewer \"Set1\"\n",
    "myColors <- brewer.pal(8, \"Set1\")\n",
    "\n",
    "# Extrapolate extra colors only if number of vars exceeds the number of colors in the initial palette\n",
    "if (length(myColors) >= length(unique(all_colors))) {\n",
    "    allColors <- myColors[0 : length(unique(all_colors))]\n",
    "} else {\n",
    "    colorMaker <- colorRampPalette(myColors)\n",
    "    allColors <- colorMaker(length(unique(all_colors)))\n",
    "}\n",
    "\n",
    "# Rename the colors to match with the groups\n",
    "names(allColors) <- all_colors\n",
    "\n",
    "# Create the objects for graphing with the colors\n",
    "colScale <- scale_color_manual(name = ~GroupID, values = allColors)\n",
    "colFill <- scale_fill_manual(name = ~GroupID, values = allColors)\n",
    "\n",
    "# Rename the colors to match with the groups\n",
    "# Get the RGB values for the colors\n",
    "allRGB <- data.frame(apply(data.frame(allColors), 1, col2rgb))"
   ]
  },
  {
   "cell_type": "code",
   "execution_count": null,
   "id": "5a6cbed6",
   "metadata": {
    "hide_input": true
   },
   "outputs": [],
   "source": [
    "# Assign colors to discrete values\n",
    "color_maps = {}\n",
    "color_max = 0\n",
    "for group_name in metadata_discrete:\n",
    "    if not mdf[group_name].isnull().all():\n",
    "        grouping = mdf[group_name]\n",
    "        color_maps[group_name] = {str(x):'color{}'.format(color_max + i)\n",
    "                                      for i, x in enumerate(grouping.drop_duplicates())} \n",
    "        color_max += grouping.nunique() # Unique grouping vals"
   ]
  },
  {
   "cell_type": "markdown",
   "id": "effebb82",
   "metadata": {},
   "source": [
    "# Demultiplexing Summary"
   ]
  },
  {
   "cell_type": "markdown",
   "id": "62e88428",
   "metadata": {},
   "source": [
    "# Table Statistics Summary"
   ]
  },
  {
   "cell_type": "markdown",
   "id": "08b21587",
   "metadata": {},
   "source": [
    "# Taxonomy Summary"
   ]
  },
  {
   "cell_type": "markdown",
   "id": "ee8950b8",
   "metadata": {},
   "source": [
    "## Interpreting Taxonomy Results"
   ]
  },
  {
   "cell_type": "markdown",
   "id": "c7276ff8",
   "metadata": {},
   "source": [
    "Taxonomy plots represent the abundance of different taxa using stacked plots on a per-sample or per-group (averaged) basis. Data is normalized so that abundances per sample or per group add up to 100%. When using group-based taxonomy plots, it should be noted that only average abundances are shown per group and taxa: this can induce visual biases when a small number of samples in a group have significantly higher abundance of a given taxa compared to the rest of samples in the group, and give the (incorrect) impression that the group as a whole has high high abundance of the taxa."
   ]
  },
  {
   "cell_type": "markdown",
   "id": "735cb4d0",
   "metadata": {},
   "source": [
    "## Phylum Level"
   ]
  },
  {
   "cell_type": "code",
   "execution_count": null,
   "id": "06e16f97",
   "metadata": {
    "hide_input": true
   },
   "outputs": [],
   "source": [
    "df = pd.read_csv('level-2.csv', sep=',')\n",
    "# Remove unnecessary metadata\n",
    "headers = list(filter(lambda x: 'k__' in x, df.columns)) + ['index']\n",
    "df = df.filter(headers).set_index('index').T\n",
    "# Calculate relative abundances\n",
    "df = df.apply(lambda x: x / x.sum(), axis='index')\n",
    "# Transpose the dataframe and convert to long format\n",
    "df = df.T.reset_index(level=0).melt('index')\n",
    "# Rename the columns\n",
    "df.rename({'index': 'variable', 'variable': 'X.OTU.ID'}, axis='columns', inplace=True)\n",
    "df = df.astype({'variable': 'str'})\n",
    "# Modify the metadata\n",
    "mdf_lite = mdf.reset_index()\n",
    "mdf_lite = mdf_lite[['#SampleID', 'SpecimenBodySite']].rename({'#SampleID': 'variable'}, axis='columns')\n",
    "# Merge with the data\n",
    "df = df.merge(mdf_lite, how='inner')\n",
    "df.SpecimenBodySite = df.SpecimenBodySite.astype(str)\n",
    "# Add colors for plotting\n",
    "otu_max_colors_Phylum = sorted(df['X.OTU.ID'].unique())"
   ]
  },
  {
   "cell_type": "code",
   "execution_count": null,
   "id": "84bc60ce",
   "metadata": {
    "hide_input": true
   },
   "outputs": [],
   "source": [
    "%%R -i otu_max_colors_Phylum -o otuAllRGBPhylum\n",
    "\n",
    "# Create custom color palette\n",
    "otuColorsPhylum <- brewer.pal(12, \"Paired\")\n",
    "otuColorMakerPhylum <- colorRampPalette(otuColorsPhylum)\n",
    "otuAllColorsPhylum <- otuColorMakerPhylum(length(otu_max_colors_Phylum))\n",
    "names(otuAllColorsPhylum) <- otu_max_colors_Phylum\n",
    "# Create the functions for applying it to plots\n",
    "otuColScalePhylum <- scale_color_manual(name = ~X.OTU.ID, values = otuAllColorsPhylum)\n",
    "otuColFillPhylum <- scale_fill_manual(name = ~X.OTU.ID, values = otuAllColorsPhylum)\n",
    "# Get the RGB values for the colors\n",
    "otuAllRGBPhylum <- data.frame(apply(data.frame(otuAllColorsPhylum), 1, col2rgb))\n",
    "names(otuAllRGBPhylum) <- otu_max_colors_Phylum"
   ]
  },
  {
   "cell_type": "code",
   "execution_count": null,
   "id": "8e7831e9",
   "metadata": {
    "hide_input": true
   },
   "outputs": [],
   "source": [
    "\n",
    "with open('mod_revtex.tplx', 'r') as f:\n",
    "    lines = f.readlines()\n",
    "for i, line in enumerate(lines):\n",
    "    if '((* block packages *))' in line:\n",
    "        packages_start = i\n",
    "    elif '((* endblock packages *))' in line:\n",
    "        packages_end = i\n",
    "# Filter by abundance\n",
    "filtered_df = df[df.value > float(config['abundance_threshold'])]\n",
    "\n",
    "groups = filtered_df.groupby('SpecimenBodySite')\n",
    "latex = []\n",
    "for name, group in groups:\n",
    "    # Get the means for each group\n",
    "    means = group.groupby('X.OTU.ID').mean()\n",
    "    line_latex = []\n",
    "    for row in means.itertuples():\n",
    "        perc = 100 * float(row.value)\n",
    "        # Align sample names\n",
    "        if perc < 10:\n",
    "            line_text = '{}/ {:.2f}'.format(row.Index.replace('_', '\\_'), perc)\n",
    "        else:\n",
    "            line_text = '{}/{:.2f}'.format(row.Index.replace('_', '\\_'), perc)\n",
    "        line_latex.append(line_text)\n",
    "    latex.append('\\\\def\\\\{colorset}{{{colors}}}\\n'.format(colorset='otuPhylumSpecimenBodySite',\n",
    "                                                          colors=','.join(line_latex)))\n",
    "\n",
    "new_lines = lines[:packages_end] + latex + lines[packages_end:]\n",
    "\n",
    "with open('mod_revtex.tplx', 'w') as f:\n",
    "    for line in new_lines:\n",
    "        f.write(line)"
   ]
  },
  {
   "cell_type": "code",
   "execution_count": null,
   "id": "c4f968b1",
   "metadata": {
    "hide_input": true
   },
   "outputs": [],
   "source": [
    "%%R -i df\n",
    "p <- ggplot(df, aes(x = variable, y = value, fill = X.OTU.ID)) +\n",
    "     geom_bar(stat = \"identity\") +\n",
    "     labs(x = \"Sample ID\",\n",
    "          title = 'Taxa Summary',\n",
    "          subtitle = 'Grouped by SpecimenBodySite') +\n",
    "     scale_y_discrete(name = \"OTU Percentage\",\n",
    "                      limits = c(0, 1),\n",
    "                      expand = c(0, 0)) +\n",
    "     theme(text = element_text(size = 8.5,\n",
    "                               face = \"bold\"),\n",
    "           element_line(size = 0.1),\n",
    "           legend.position = \"none\",\n",
    "           axis.text.x = element_text(angle = 300),\n",
    "           plot.title = element_text(hjust = 0.5),\n",
    "           plot.subtitle = element_text(hjust = 0.5)) +\n",
    "     guides(fill = guide_legend(ncol = 4)) +\n",
    "     facet_grid(~SpecimenBodySite, scales = \"free\", space = \"free\") +\n",
    "     otuColScalePhylum + otuColFillPhylum\n",
    "\n",
    "ggsave(\"level-2-SpecimenBodySite.png\", height = 6, width = 8)"
   ]
  },
  {
   "cell_type": "code",
   "execution_count": null,
   "id": "eb7ec631",
   "metadata": {
    "PhylumSpecimenBodySite": true,
    "hide_input": true
   },
   "outputs": [],
   "source": [
    "Image(\"level-2-SpecimenBodySite.png\")"
   ]
  },
  {
   "cell_type": "code",
   "execution_count": null,
   "id": "7c699703",
   "metadata": {
    "hide_input": true
   },
   "outputs": [],
   "source": [
    "with open('mod_revtex.tplx', 'r') as f:\n",
    "    lines = f.readlines()\n",
    "for i, line in enumerate(lines):\n",
    "    if '((* block packages *))' in line:\n",
    "        packages_start = i\n",
    "    elif '((* endblock packages *))' in line:\n",
    "        packages_end = i\n",
    "\n",
    "\n",
    "# Get the mean percentage of each taxon\n",
    "otu_percs = df[df.value > float(config['abundance_threshold'])].groupby('X.OTU.ID').mean()\n",
    "\n",
    "entries = []\n",
    "# Remove duplicate values\n",
    "for row in otu_percs.itertuples():\n",
    "    otu = row.Index\n",
    "\n",
    "    # Get the color\n",
    "    RGB = tuple(otuAllRGBPhylum[otu])\n",
    "\n",
    "    # Align sample names\n",
    "    perc = 100 * float(otu_percs.loc[otu]['value'])\n",
    "    if perc < 1:\n",
    "        perc_text = '<0.01'\n",
    "    elif perc < 10:\n",
    "        perc_text = ' {:.2f}'.format(perc)\n",
    "    else:\n",
    "        perc_text = '{:.2f}'.format(perc)\n",
    "\n",
    "    entries.append([otu, RGB, perc_text])\n",
    "\n",
    "\n",
    "# Create the latex for the legends\n",
    "latex = []\n",
    "colors = []\n",
    "for key, value, perc in entries:\n",
    "    latex.append('\\\\definecolor{{{key}}}{{RGB}}{{{r},{g},{b}}}\\n'.format(key=key.replace('_', '\\_'),\n",
    "                                                                      r=value[0],\n",
    "                                                                      g=value[1],\n",
    "                                                                      b=value[2]\n",
    "                                                                     ))\n",
    "    colors.append('{}/{}'.format(key.replace('_', '\\_'), perc))\n",
    "\n",
    "\n",
    "latex.append('\\\\def\\\\{colorset}{{{colors}}}\\n'.format(colorset='otuPhylum',\n",
    "                                                      colors=','.join(colors)))\n",
    "new_lines = lines[:packages_end] + latex + lines[packages_end:]\n",
    "\n",
    "with open('mod_revtex.tplx', 'w') as f:\n",
    "    for line in new_lines:\n",
    "        f.write(line)\n"
   ]
  },
  {
   "cell_type": "markdown",
   "id": "113677d1",
   "metadata": {},
   "source": [
    "The above plot represents the percentage of each sample belonging to particular taxon summarized at the Phylum level."
   ]
  },
  {
   "cell_type": "markdown",
   "id": "ce4cbdd8",
   "metadata": {},
   "source": [
    "\\pagebreak"
   ]
  },
  {
   "cell_type": "code",
   "execution_count": null,
   "id": "9ca19cfa",
   "metadata": {
    "hide_input": true
   },
   "outputs": [],
   "source": [
    "df = pd.read_csv('level-2.csv', sep=',')\n",
    "# Remove unnecessary metadata\n",
    "headers = list(filter(lambda x: 'k__' in x, df.columns)) + ['index']\n",
    "df = df.filter(headers).set_index('index').T\n",
    "# Calculate relative abundances\n",
    "df = df.apply(lambda x: x / x.sum(), axis='index')\n",
    "# Transpose the dataframe and convert to long format\n",
    "df = df.T.reset_index(level=0).melt('index')\n",
    "# Rename the columns\n",
    "df.rename({'index': 'variable', 'variable': 'X.OTU.ID'}, axis='columns', inplace=True)\n",
    "df = df.astype({'variable': 'str'})\n",
    "# Modify the metadata\n",
    "mdf_lite = mdf.reset_index()\n",
    "mdf_lite = mdf_lite[['#SampleID', 'SpecimenType']].rename({'#SampleID': 'variable'}, axis='columns')\n",
    "# Merge with the data\n",
    "df = df.merge(mdf_lite, how='inner')\n",
    "df.SpecimenType = df.SpecimenType.astype(str)\n",
    "# Add colors for plotting\n",
    "otu_max_colors_Phylum = sorted(df['X.OTU.ID'].unique())"
   ]
  },
  {
   "cell_type": "code",
   "execution_count": null,
   "id": "115a97b6",
   "metadata": {
    "hide_input": true
   },
   "outputs": [],
   "source": [
    "\n",
    "with open('mod_revtex.tplx', 'r') as f:\n",
    "    lines = f.readlines()\n",
    "for i, line in enumerate(lines):\n",
    "    if '((* block packages *))' in line:\n",
    "        packages_start = i\n",
    "    elif '((* endblock packages *))' in line:\n",
    "        packages_end = i\n",
    "# Filter by abundance\n",
    "filtered_df = df[df.value > float(config['abundance_threshold'])]\n",
    "\n",
    "groups = filtered_df.groupby('SpecimenType')\n",
    "latex = []\n",
    "for name, group in groups:\n",
    "    # Get the means for each group\n",
    "    means = group.groupby('X.OTU.ID').mean()\n",
    "    line_latex = []\n",
    "    for row in means.itertuples():\n",
    "        perc = 100 * float(row.value)\n",
    "        # Align sample names\n",
    "        if perc < 10:\n",
    "            line_text = '{}/ {:.2f}'.format(row.Index.replace('_', '\\_'), perc)\n",
    "        else:\n",
    "            line_text = '{}/{:.2f}'.format(row.Index.replace('_', '\\_'), perc)\n",
    "        line_latex.append(line_text)\n",
    "    latex.append('\\\\def\\\\{colorset}{{{colors}}}\\n'.format(colorset='otuPhylumSpecimenType',\n",
    "                                                          colors=','.join(line_latex)))\n",
    "\n",
    "new_lines = lines[:packages_end] + latex + lines[packages_end:]\n",
    "\n",
    "with open('mod_revtex.tplx', 'w') as f:\n",
    "    for line in new_lines:\n",
    "        f.write(line)"
   ]
  },
  {
   "cell_type": "code",
   "execution_count": null,
   "id": "6a37fe67",
   "metadata": {
    "hide_input": true
   },
   "outputs": [],
   "source": [
    "%%R -i df\n",
    "p <- ggplot(df, aes(x = variable, y = value, fill = X.OTU.ID)) +\n",
    "     geom_bar(stat = \"identity\") +\n",
    "     labs(x = \"Sample ID\",\n",
    "          title = 'Taxa Summary',\n",
    "          subtitle = 'Grouped by SpecimenType') +\n",
    "     scale_y_discrete(name = \"OTU Percentage\",\n",
    "                      limits = c(0, 1),\n",
    "                      expand = c(0, 0)) +\n",
    "     theme(text = element_text(size = 8.5,\n",
    "                               face = \"bold\"),\n",
    "           element_line(size = 0.1),\n",
    "           legend.position = \"none\",\n",
    "           axis.text.x = element_text(angle = 300),\n",
    "           plot.title = element_text(hjust = 0.5),\n",
    "           plot.subtitle = element_text(hjust = 0.5)) +\n",
    "     guides(fill = guide_legend(ncol = 4)) +\n",
    "     facet_grid(~SpecimenType, scales = \"free\", space = \"free\") +\n",
    "     otuColScalePhylum + otuColFillPhylum\n",
    "\n",
    "ggsave(\"level-2-SpecimenType.png\", height = 6, width = 8)"
   ]
  },
  {
   "cell_type": "code",
   "execution_count": null,
   "id": "0ea6e0e4",
   "metadata": {
    "PhylumSpecimenType": true,
    "hide_input": true
   },
   "outputs": [],
   "source": [
    "Image(\"level-2-SpecimenType.png\")"
   ]
  },
  {
   "cell_type": "code",
   "execution_count": null,
   "id": "f5d8e423",
   "metadata": {
    "hide_input": true
   },
   "outputs": [],
   "source": [
    "with open('mod_revtex.tplx', 'r') as f:\n",
    "    lines = f.readlines()\n",
    "for i, line in enumerate(lines):\n",
    "    if '((* block packages *))' in line:\n",
    "        packages_start = i\n",
    "    elif '((* endblock packages *))' in line:\n",
    "        packages_end = i\n",
    "\n",
    "\n",
    "# Get the mean percentage of each taxon\n",
    "otu_percs = df[df.value > float(config['abundance_threshold'])].groupby('X.OTU.ID').mean()\n",
    "\n",
    "entries = []\n",
    "# Remove duplicate values\n",
    "for row in otu_percs.itertuples():\n",
    "    otu = row.Index\n",
    "\n",
    "    # Get the color\n",
    "    RGB = tuple(otuAllRGBPhylum[otu])\n",
    "\n",
    "    # Align sample names\n",
    "    perc = 100 * float(otu_percs.loc[otu]['value'])\n",
    "    if perc < 1:\n",
    "        perc_text = '<0.01'\n",
    "    elif perc < 10:\n",
    "        perc_text = ' {:.2f}'.format(perc)\n",
    "    else:\n",
    "        perc_text = '{:.2f}'.format(perc)\n",
    "\n",
    "    entries.append([otu, RGB, perc_text])\n",
    "\n",
    "\n",
    "# Create the latex for the legends\n",
    "latex = []\n",
    "colors = []\n",
    "for key, value, perc in entries:\n",
    "    latex.append('\\\\definecolor{{{key}}}{{RGB}}{{{r},{g},{b}}}\\n'.format(key=key.replace('_', '\\_'),\n",
    "                                                                      r=value[0],\n",
    "                                                                      g=value[1],\n",
    "                                                                      b=value[2]\n",
    "                                                                     ))\n",
    "    colors.append('{}/{}'.format(key.replace('_', '\\_'), perc))\n",
    "\n",
    "\n",
    "latex.append('\\\\def\\\\{colorset}{{{colors}}}\\n'.format(colorset='otuPhylum',\n",
    "                                                      colors=','.join(colors)))\n",
    "new_lines = lines[:packages_end] + latex + lines[packages_end:]\n",
    "\n",
    "with open('mod_revtex.tplx', 'w') as f:\n",
    "    for line in new_lines:\n",
    "        f.write(line)\n"
   ]
  },
  {
   "cell_type": "markdown",
   "id": "47c385da",
   "metadata": {},
   "source": [
    "The above plot represents the percentage of each sample belonging to particular taxon summarized at the Phylum level."
   ]
  },
  {
   "cell_type": "markdown",
   "id": "853dd58a",
   "metadata": {},
   "source": [
    "\\pagebreak"
   ]
  },
  {
   "cell_type": "code",
   "execution_count": null,
   "id": "5e17056e",
   "metadata": {
    "hide_input": true
   },
   "outputs": [],
   "source": [
    "df = pd.read_csv('level-2.csv', sep=',')\n",
    "# Remove unnecessary metadata\n",
    "headers = list(filter(lambda x: 'k__' in x, df.columns)) + ['index']\n",
    "df = df.filter(headers).set_index('index').T\n",
    "# Calculate relative abundances\n",
    "df = df.apply(lambda x: x / x.sum(), axis='index')\n",
    "# Transpose the dataframe and convert to long format\n",
    "df = df.T.reset_index(level=0).melt('index')\n",
    "# Rename the columns\n",
    "df.rename({'index': 'variable', 'variable': 'X.OTU.ID'}, axis='columns', inplace=True)\n",
    "df = df.astype({'variable': 'str'})\n",
    "# Modify the metadata\n",
    "mdf_lite = mdf.reset_index()\n",
    "mdf_lite = mdf_lite[['#SampleID', 'Ethnicity']].rename({'#SampleID': 'variable'}, axis='columns')\n",
    "# Merge with the data\n",
    "df = df.merge(mdf_lite, how='inner')\n",
    "df.Ethnicity = df.Ethnicity.astype(str)\n",
    "# Add colors for plotting\n",
    "otu_max_colors_Phylum = sorted(df['X.OTU.ID'].unique())"
   ]
  },
  {
   "cell_type": "code",
   "execution_count": null,
   "id": "88428d23",
   "metadata": {
    "hide_input": true
   },
   "outputs": [],
   "source": [
    "\n",
    "with open('mod_revtex.tplx', 'r') as f:\n",
    "    lines = f.readlines()\n",
    "for i, line in enumerate(lines):\n",
    "    if '((* block packages *))' in line:\n",
    "        packages_start = i\n",
    "    elif '((* endblock packages *))' in line:\n",
    "        packages_end = i\n",
    "# Filter by abundance\n",
    "filtered_df = df[df.value > float(config['abundance_threshold'])]\n",
    "\n",
    "groups = filtered_df.groupby('Ethnicity')\n",
    "latex = []\n",
    "for name, group in groups:\n",
    "    # Get the means for each group\n",
    "    means = group.groupby('X.OTU.ID').mean()\n",
    "    line_latex = []\n",
    "    for row in means.itertuples():\n",
    "        perc = 100 * float(row.value)\n",
    "        # Align sample names\n",
    "        if perc < 10:\n",
    "            line_text = '{}/ {:.2f}'.format(row.Index.replace('_', '\\_'), perc)\n",
    "        else:\n",
    "            line_text = '{}/{:.2f}'.format(row.Index.replace('_', '\\_'), perc)\n",
    "        line_latex.append(line_text)\n",
    "    latex.append('\\\\def\\\\{colorset}{{{colors}}}\\n'.format(colorset='otuPhylumEthnicity',\n",
    "                                                          colors=','.join(line_latex)))\n",
    "\n",
    "new_lines = lines[:packages_end] + latex + lines[packages_end:]\n",
    "\n",
    "with open('mod_revtex.tplx', 'w') as f:\n",
    "    for line in new_lines:\n",
    "        f.write(line)"
   ]
  },
  {
   "cell_type": "code",
   "execution_count": null,
   "id": "afc1fdc8",
   "metadata": {
    "hide_input": true
   },
   "outputs": [],
   "source": [
    "%%R -i df\n",
    "p <- ggplot(df, aes(x = variable, y = value, fill = X.OTU.ID)) +\n",
    "     geom_bar(stat = \"identity\") +\n",
    "     labs(x = \"Sample ID\",\n",
    "          title = 'Taxa Summary',\n",
    "          subtitle = 'Grouped by Ethnicity') +\n",
    "     scale_y_discrete(name = \"OTU Percentage\",\n",
    "                      limits = c(0, 1),\n",
    "                      expand = c(0, 0)) +\n",
    "     theme(text = element_text(size = 8.5,\n",
    "                               face = \"bold\"),\n",
    "           element_line(size = 0.1),\n",
    "           legend.position = \"none\",\n",
    "           axis.text.x = element_text(angle = 300),\n",
    "           plot.title = element_text(hjust = 0.5),\n",
    "           plot.subtitle = element_text(hjust = 0.5)) +\n",
    "     guides(fill = guide_legend(ncol = 4)) +\n",
    "     facet_grid(~Ethnicity, scales = \"free\", space = \"free\") +\n",
    "     otuColScalePhylum + otuColFillPhylum\n",
    "\n",
    "ggsave(\"level-2-Ethnicity.png\", height = 6, width = 8)"
   ]
  },
  {
   "cell_type": "code",
   "execution_count": null,
   "id": "58253d41",
   "metadata": {
    "PhylumEthnicity": true,
    "hide_input": true
   },
   "outputs": [],
   "source": [
    "Image(\"level-2-Ethnicity.png\")"
   ]
  },
  {
   "cell_type": "code",
   "execution_count": null,
   "id": "84e44b04",
   "metadata": {
    "hide_input": true
   },
   "outputs": [],
   "source": [
    "with open('mod_revtex.tplx', 'r') as f:\n",
    "    lines = f.readlines()\n",
    "for i, line in enumerate(lines):\n",
    "    if '((* block packages *))' in line:\n",
    "        packages_start = i\n",
    "    elif '((* endblock packages *))' in line:\n",
    "        packages_end = i\n",
    "\n",
    "\n",
    "# Get the mean percentage of each taxon\n",
    "otu_percs = df[df.value > float(config['abundance_threshold'])].groupby('X.OTU.ID').mean()\n",
    "\n",
    "entries = []\n",
    "# Remove duplicate values\n",
    "for row in otu_percs.itertuples():\n",
    "    otu = row.Index\n",
    "\n",
    "    # Get the color\n",
    "    RGB = tuple(otuAllRGBPhylum[otu])\n",
    "\n",
    "    # Align sample names\n",
    "    perc = 100 * float(otu_percs.loc[otu]['value'])\n",
    "    if perc < 1:\n",
    "        perc_text = '<0.01'\n",
    "    elif perc < 10:\n",
    "        perc_text = ' {:.2f}'.format(perc)\n",
    "    else:\n",
    "        perc_text = '{:.2f}'.format(perc)\n",
    "\n",
    "    entries.append([otu, RGB, perc_text])\n",
    "\n",
    "\n",
    "# Create the latex for the legends\n",
    "latex = []\n",
    "colors = []\n",
    "for key, value, perc in entries:\n",
    "    latex.append('\\\\definecolor{{{key}}}{{RGB}}{{{r},{g},{b}}}\\n'.format(key=key.replace('_', '\\_'),\n",
    "                                                                      r=value[0],\n",
    "                                                                      g=value[1],\n",
    "                                                                      b=value[2]\n",
    "                                                                     ))\n",
    "    colors.append('{}/{}'.format(key.replace('_', '\\_'), perc))\n",
    "\n",
    "\n",
    "latex.append('\\\\def\\\\{colorset}{{{colors}}}\\n'.format(colorset='otuPhylum',\n",
    "                                                      colors=','.join(colors)))\n",
    "new_lines = lines[:packages_end] + latex + lines[packages_end:]\n",
    "\n",
    "with open('mod_revtex.tplx', 'w') as f:\n",
    "    for line in new_lines:\n",
    "        f.write(line)\n"
   ]
  },
  {
   "cell_type": "markdown",
   "id": "a4704118",
   "metadata": {},
   "source": [
    "The above plot represents the percentage of each sample belonging to particular taxon summarized at the Phylum level."
   ]
  },
  {
   "cell_type": "markdown",
   "id": "fdb2285d",
   "metadata": {},
   "source": [
    "\\pagebreak"
   ]
  },
  {
   "cell_type": "code",
   "execution_count": null,
   "id": "9776ef76",
   "metadata": {
    "hide_input": true
   },
   "outputs": [],
   "source": [
    "df = pd.read_csv('level-2.csv', sep=',')\n",
    "# Remove unnecessary metadata\n",
    "headers = list(filter(lambda x: 'k__' in x, df.columns)) + ['index']\n",
    "df = df.filter(headers).set_index('index').T\n",
    "# Calculate relative abundances\n",
    "df = df.apply(lambda x: x / x.sum(), axis='index')\n",
    "# Transpose the dataframe and convert to long format\n",
    "df = df.T.reset_index(level=0).melt('index')\n",
    "# Rename the columns\n",
    "df.rename({'index': 'variable', 'variable': 'X.OTU.ID'}, axis='columns', inplace=True)\n",
    "df = df.astype({'variable': 'str'})\n",
    "# Modify the metadata\n",
    "mdf_lite = mdf.reset_index()\n",
    "mdf_lite = mdf_lite[['#SampleID', 'InterventionCode']].rename({'#SampleID': 'variable'}, axis='columns')\n",
    "# Merge with the data\n",
    "df = df.merge(mdf_lite, how='inner')\n",
    "df.InterventionCode = df.InterventionCode.astype(str)\n",
    "# Add colors for plotting\n",
    "otu_max_colors_Phylum = sorted(df['X.OTU.ID'].unique())"
   ]
  },
  {
   "cell_type": "code",
   "execution_count": null,
   "id": "e72c848e",
   "metadata": {
    "hide_input": true
   },
   "outputs": [],
   "source": [
    "\n",
    "with open('mod_revtex.tplx', 'r') as f:\n",
    "    lines = f.readlines()\n",
    "for i, line in enumerate(lines):\n",
    "    if '((* block packages *))' in line:\n",
    "        packages_start = i\n",
    "    elif '((* endblock packages *))' in line:\n",
    "        packages_end = i\n",
    "# Filter by abundance\n",
    "filtered_df = df[df.value > float(config['abundance_threshold'])]\n",
    "\n",
    "groups = filtered_df.groupby('InterventionCode')\n",
    "latex = []\n",
    "for name, group in groups:\n",
    "    # Get the means for each group\n",
    "    means = group.groupby('X.OTU.ID').mean()\n",
    "    line_latex = []\n",
    "    for row in means.itertuples():\n",
    "        perc = 100 * float(row.value)\n",
    "        # Align sample names\n",
    "        if perc < 10:\n",
    "            line_text = '{}/ {:.2f}'.format(row.Index.replace('_', '\\_'), perc)\n",
    "        else:\n",
    "            line_text = '{}/{:.2f}'.format(row.Index.replace('_', '\\_'), perc)\n",
    "        line_latex.append(line_text)\n",
    "    latex.append('\\\\def\\\\{colorset}{{{colors}}}\\n'.format(colorset='otuPhylumInterventionCode',\n",
    "                                                          colors=','.join(line_latex)))\n",
    "\n",
    "new_lines = lines[:packages_end] + latex + lines[packages_end:]\n",
    "\n",
    "with open('mod_revtex.tplx', 'w') as f:\n",
    "    for line in new_lines:\n",
    "        f.write(line)"
   ]
  },
  {
   "cell_type": "code",
   "execution_count": null,
   "id": "debb7f71",
   "metadata": {
    "hide_input": true
   },
   "outputs": [],
   "source": [
    "%%R -i df\n",
    "p <- ggplot(df, aes(x = variable, y = value, fill = X.OTU.ID)) +\n",
    "     geom_bar(stat = \"identity\") +\n",
    "     labs(x = \"Sample ID\",\n",
    "          title = 'Taxa Summary',\n",
    "          subtitle = 'Grouped by InterventionCode') +\n",
    "     scale_y_discrete(name = \"OTU Percentage\",\n",
    "                      limits = c(0, 1),\n",
    "                      expand = c(0, 0)) +\n",
    "     theme(text = element_text(size = 8.5,\n",
    "                               face = \"bold\"),\n",
    "           element_line(size = 0.1),\n",
    "           legend.position = \"none\",\n",
    "           axis.text.x = element_text(angle = 300),\n",
    "           plot.title = element_text(hjust = 0.5),\n",
    "           plot.subtitle = element_text(hjust = 0.5)) +\n",
    "     guides(fill = guide_legend(ncol = 4)) +\n",
    "     facet_grid(~InterventionCode, scales = \"free\", space = \"free\") +\n",
    "     otuColScalePhylum + otuColFillPhylum\n",
    "\n",
    "ggsave(\"level-2-InterventionCode.png\", height = 6, width = 8)"
   ]
  },
  {
   "cell_type": "code",
   "execution_count": null,
   "id": "c6f2a157",
   "metadata": {
    "PhylumInterventionCode": true,
    "hide_input": true
   },
   "outputs": [],
   "source": [
    "Image(\"level-2-InterventionCode.png\")"
   ]
  },
  {
   "cell_type": "code",
   "execution_count": null,
   "id": "0f985f79",
   "metadata": {
    "hide_input": true
   },
   "outputs": [],
   "source": [
    "with open('mod_revtex.tplx', 'r') as f:\n",
    "    lines = f.readlines()\n",
    "for i, line in enumerate(lines):\n",
    "    if '((* block packages *))' in line:\n",
    "        packages_start = i\n",
    "    elif '((* endblock packages *))' in line:\n",
    "        packages_end = i\n",
    "\n",
    "\n",
    "# Get the mean percentage of each taxon\n",
    "otu_percs = df[df.value > float(config['abundance_threshold'])].groupby('X.OTU.ID').mean()\n",
    "\n",
    "entries = []\n",
    "# Remove duplicate values\n",
    "for row in otu_percs.itertuples():\n",
    "    otu = row.Index\n",
    "\n",
    "    # Get the color\n",
    "    RGB = tuple(otuAllRGBPhylum[otu])\n",
    "\n",
    "    # Align sample names\n",
    "    perc = 100 * float(otu_percs.loc[otu]['value'])\n",
    "    if perc < 1:\n",
    "        perc_text = '<0.01'\n",
    "    elif perc < 10:\n",
    "        perc_text = ' {:.2f}'.format(perc)\n",
    "    else:\n",
    "        perc_text = '{:.2f}'.format(perc)\n",
    "\n",
    "    entries.append([otu, RGB, perc_text])\n",
    "\n",
    "\n",
    "# Create the latex for the legends\n",
    "latex = []\n",
    "colors = []\n",
    "for key, value, perc in entries:\n",
    "    latex.append('\\\\definecolor{{{key}}}{{RGB}}{{{r},{g},{b}}}\\n'.format(key=key.replace('_', '\\_'),\n",
    "                                                                      r=value[0],\n",
    "                                                                      g=value[1],\n",
    "                                                                      b=value[2]\n",
    "                                                                     ))\n",
    "    colors.append('{}/{}'.format(key.replace('_', '\\_'), perc))\n",
    "\n",
    "\n",
    "latex.append('\\\\def\\\\{colorset}{{{colors}}}\\n'.format(colorset='otuPhylum',\n",
    "                                                      colors=','.join(colors)))\n",
    "new_lines = lines[:packages_end] + latex + lines[packages_end:]\n",
    "\n",
    "with open('mod_revtex.tplx', 'w') as f:\n",
    "    for line in new_lines:\n",
    "        f.write(line)\n"
   ]
  },
  {
   "cell_type": "markdown",
   "id": "b70bb2b1",
   "metadata": {},
   "source": [
    "The above plot represents the percentage of each sample belonging to particular taxon summarized at the Phylum level."
   ]
  },
  {
   "cell_type": "markdown",
   "id": "73c315ee",
   "metadata": {},
   "source": [
    "\\pagebreak"
   ]
  },
  {
   "cell_type": "markdown",
   "id": "7038c33e",
   "metadata": {},
   "source": [
    "## Genus Level"
   ]
  },
  {
   "cell_type": "code",
   "execution_count": null,
   "id": "53c5572b",
   "metadata": {
    "hide_input": true
   },
   "outputs": [],
   "source": [
    "df = pd.read_csv('level-6.csv', sep=',')\n",
    "# Remove unnecessary metadata\n",
    "headers = list(filter(lambda x: 'k__' in x, df.columns)) + ['index']\n",
    "df = df.filter(headers).set_index('index').T\n",
    "# Calculate relative abundances\n",
    "df = df.apply(lambda x: x / x.sum(), axis='index')\n",
    "# Transpose the dataframe and convert to long format\n",
    "df = df.T.reset_index(level=0).melt('index')\n",
    "# Rename the columns\n",
    "df.rename({'index': 'variable', 'variable': 'X.OTU.ID'}, axis='columns', inplace=True)\n",
    "df = df.astype({'variable': 'str'})\n",
    "# Modify the metadata\n",
    "mdf_lite = mdf.reset_index()\n",
    "mdf_lite = mdf_lite[['#SampleID', 'SpecimenBodySite']].rename({'#SampleID': 'variable'}, axis='columns')\n",
    "# Merge with the data\n",
    "df = df.merge(mdf_lite, how='inner')\n",
    "df.SpecimenBodySite = df.SpecimenBodySite.astype(str)\n",
    "# Add colors for plotting\n",
    "otu_max_colors_Genus = sorted(df['X.OTU.ID'].unique())"
   ]
  },
  {
   "cell_type": "code",
   "execution_count": null,
   "id": "3d06e645",
   "metadata": {
    "hide_input": true
   },
   "outputs": [],
   "source": [
    "%%R -i otu_max_colors_Genus -o otuAllRGBGenus\n",
    "\n",
    "# Create custom color palette\n",
    "otuColorsGenus <- brewer.pal(12, \"Paired\")\n",
    "otuColorMakerGenus <- colorRampPalette(otuColorsGenus)\n",
    "otuAllColorsGenus <- otuColorMakerGenus(length(otu_max_colors_Genus))\n",
    "names(otuAllColorsGenus) <- otu_max_colors_Genus\n",
    "# Create the functions for applying it to plots\n",
    "otuColScaleGenus <- scale_color_manual(name = ~X.OTU.ID, values = otuAllColorsGenus)\n",
    "otuColFillGenus <- scale_fill_manual(name = ~X.OTU.ID, values = otuAllColorsGenus)\n",
    "# Get the RGB values for the colors\n",
    "otuAllRGBGenus <- data.frame(apply(data.frame(otuAllColorsGenus), 1, col2rgb))\n",
    "names(otuAllRGBGenus) <- otu_max_colors_Genus"
   ]
  },
  {
   "cell_type": "code",
   "execution_count": null,
   "id": "b109963c",
   "metadata": {
    "hide_input": true
   },
   "outputs": [],
   "source": [
    "\n",
    "with open('mod_revtex.tplx', 'r') as f:\n",
    "    lines = f.readlines()\n",
    "for i, line in enumerate(lines):\n",
    "    if '((* block packages *))' in line:\n",
    "        packages_start = i\n",
    "    elif '((* endblock packages *))' in line:\n",
    "        packages_end = i\n",
    "# Filter by abundance\n",
    "filtered_df = df[df.value > float(config['abundance_threshold'])]\n",
    "\n",
    "groups = filtered_df.groupby('SpecimenBodySite')\n",
    "latex = []\n",
    "for name, group in groups:\n",
    "    # Get the means for each group\n",
    "    means = group.groupby('X.OTU.ID').mean()\n",
    "    line_latex = []\n",
    "    for row in means.itertuples():\n",
    "        perc = 100 * float(row.value)\n",
    "        # Align sample names\n",
    "        if perc < 10:\n",
    "            line_text = '{}/ {:.2f}'.format(row.Index.replace('_', '\\_'), perc)\n",
    "        else:\n",
    "            line_text = '{}/{:.2f}'.format(row.Index.replace('_', '\\_'), perc)\n",
    "        line_latex.append(line_text)\n",
    "    latex.append('\\\\def\\\\{colorset}{{{colors}}}\\n'.format(colorset='otuGenusSpecimenBodySite',\n",
    "                                                          colors=','.join(line_latex)))\n",
    "\n",
    "new_lines = lines[:packages_end] + latex + lines[packages_end:]\n",
    "\n",
    "with open('mod_revtex.tplx', 'w') as f:\n",
    "    for line in new_lines:\n",
    "        f.write(line)"
   ]
  },
  {
   "cell_type": "code",
   "execution_count": null,
   "id": "0e55d827",
   "metadata": {
    "hide_input": true
   },
   "outputs": [],
   "source": [
    "%%R -i df\n",
    "p <- ggplot(df, aes(x = variable, y = value, fill = X.OTU.ID)) +\n",
    "     geom_bar(stat = \"identity\") +\n",
    "     labs(x = \"Sample ID\",\n",
    "          title = 'Taxa Summary',\n",
    "          subtitle = 'Grouped by SpecimenBodySite') +\n",
    "     scale_y_discrete(name = \"OTU Percentage\",\n",
    "                      limits = c(0, 1),\n",
    "                      expand = c(0, 0)) +\n",
    "     theme(text = element_text(size = 8.5,\n",
    "                               face = \"bold\"),\n",
    "           element_line(size = 0.1),\n",
    "           legend.position = \"none\",\n",
    "           axis.text.x = element_text(angle = 300),\n",
    "           plot.title = element_text(hjust = 0.5),\n",
    "           plot.subtitle = element_text(hjust = 0.5)) +\n",
    "     guides(fill = guide_legend(ncol = 4)) +\n",
    "     facet_grid(~SpecimenBodySite, scales = \"free\", space = \"free\") +\n",
    "     otuColScaleGenus + otuColFillGenus\n",
    "\n",
    "ggsave(\"level-6-SpecimenBodySite.png\", height = 6, width = 8)"
   ]
  },
  {
   "cell_type": "code",
   "execution_count": null,
   "id": "239c6dda",
   "metadata": {
    "GenusSpecimenBodySite": true,
    "hide_input": true
   },
   "outputs": [],
   "source": [
    "Image(\"level-6-SpecimenBodySite.png\")"
   ]
  },
  {
   "cell_type": "code",
   "execution_count": null,
   "id": "9e08fffc",
   "metadata": {
    "hide_input": true
   },
   "outputs": [],
   "source": [
    "with open('mod_revtex.tplx', 'r') as f:\n",
    "    lines = f.readlines()\n",
    "for i, line in enumerate(lines):\n",
    "    if '((* block packages *))' in line:\n",
    "        packages_start = i\n",
    "    elif '((* endblock packages *))' in line:\n",
    "        packages_end = i\n",
    "\n",
    "\n",
    "# Get the mean percentage of each taxon\n",
    "otu_percs = df[df.value > float(config['abundance_threshold'])].groupby('X.OTU.ID').mean()\n",
    "\n",
    "entries = []\n",
    "# Remove duplicate values\n",
    "for row in otu_percs.itertuples():\n",
    "    otu = row.Index\n",
    "\n",
    "    # Get the color\n",
    "    RGB = tuple(otuAllRGBGenus[otu])\n",
    "\n",
    "    # Align sample names\n",
    "    perc = 100 * float(otu_percs.loc[otu]['value'])\n",
    "    if perc < 1:\n",
    "        perc_text = '<0.01'\n",
    "    elif perc < 10:\n",
    "        perc_text = ' {:.2f}'.format(perc)\n",
    "    else:\n",
    "        perc_text = '{:.2f}'.format(perc)\n",
    "\n",
    "    entries.append([otu, RGB, perc_text])\n",
    "\n",
    "\n",
    "# Create the latex for the legends\n",
    "latex = []\n",
    "colors = []\n",
    "for key, value, perc in entries:\n",
    "    latex.append('\\\\definecolor{{{key}}}{{RGB}}{{{r},{g},{b}}}\\n'.format(key=key.replace('_', '\\_'),\n",
    "                                                                      r=value[0],\n",
    "                                                                      g=value[1],\n",
    "                                                                      b=value[2]\n",
    "                                                                     ))\n",
    "    colors.append('{}/{}'.format(key.replace('_', '\\_'), perc))\n",
    "\n",
    "\n",
    "latex.append('\\\\def\\\\{colorset}{{{colors}}}\\n'.format(colorset='otuGenus',\n",
    "                                                      colors=','.join(colors)))\n",
    "new_lines = lines[:packages_end] + latex + lines[packages_end:]\n",
    "\n",
    "with open('mod_revtex.tplx', 'w') as f:\n",
    "    for line in new_lines:\n",
    "        f.write(line)\n"
   ]
  },
  {
   "cell_type": "markdown",
   "id": "064b0ccc",
   "metadata": {},
   "source": [
    "The above plot represents the percentage of each sample belonging to particular taxon summarized at the Genus level."
   ]
  },
  {
   "cell_type": "markdown",
   "id": "94b2f098",
   "metadata": {},
   "source": [
    "\\pagebreak"
   ]
  },
  {
   "cell_type": "code",
   "execution_count": null,
   "id": "b0f236b9",
   "metadata": {
    "hide_input": true
   },
   "outputs": [],
   "source": [
    "df = pd.read_csv('level-6.csv', sep=',')\n",
    "# Remove unnecessary metadata\n",
    "headers = list(filter(lambda x: 'k__' in x, df.columns)) + ['index']\n",
    "df = df.filter(headers).set_index('index').T\n",
    "# Calculate relative abundances\n",
    "df = df.apply(lambda x: x / x.sum(), axis='index')\n",
    "# Transpose the dataframe and convert to long format\n",
    "df = df.T.reset_index(level=0).melt('index')\n",
    "# Rename the columns\n",
    "df.rename({'index': 'variable', 'variable': 'X.OTU.ID'}, axis='columns', inplace=True)\n",
    "df = df.astype({'variable': 'str'})\n",
    "# Modify the metadata\n",
    "mdf_lite = mdf.reset_index()\n",
    "mdf_lite = mdf_lite[['#SampleID', 'SpecimenType']].rename({'#SampleID': 'variable'}, axis='columns')\n",
    "# Merge with the data\n",
    "df = df.merge(mdf_lite, how='inner')\n",
    "df.SpecimenType = df.SpecimenType.astype(str)\n",
    "# Add colors for plotting\n",
    "otu_max_colors_Genus = sorted(df['X.OTU.ID'].unique())"
   ]
  },
  {
   "cell_type": "code",
   "execution_count": null,
   "id": "c438c4eb",
   "metadata": {
    "hide_input": true
   },
   "outputs": [],
   "source": [
    "\n",
    "with open('mod_revtex.tplx', 'r') as f:\n",
    "    lines = f.readlines()\n",
    "for i, line in enumerate(lines):\n",
    "    if '((* block packages *))' in line:\n",
    "        packages_start = i\n",
    "    elif '((* endblock packages *))' in line:\n",
    "        packages_end = i\n",
    "# Filter by abundance\n",
    "filtered_df = df[df.value > float(config['abundance_threshold'])]\n",
    "\n",
    "groups = filtered_df.groupby('SpecimenType')\n",
    "latex = []\n",
    "for name, group in groups:\n",
    "    # Get the means for each group\n",
    "    means = group.groupby('X.OTU.ID').mean()\n",
    "    line_latex = []\n",
    "    for row in means.itertuples():\n",
    "        perc = 100 * float(row.value)\n",
    "        # Align sample names\n",
    "        if perc < 10:\n",
    "            line_text = '{}/ {:.2f}'.format(row.Index.replace('_', '\\_'), perc)\n",
    "        else:\n",
    "            line_text = '{}/{:.2f}'.format(row.Index.replace('_', '\\_'), perc)\n",
    "        line_latex.append(line_text)\n",
    "    latex.append('\\\\def\\\\{colorset}{{{colors}}}\\n'.format(colorset='otuGenusSpecimenType',\n",
    "                                                          colors=','.join(line_latex)))\n",
    "\n",
    "new_lines = lines[:packages_end] + latex + lines[packages_end:]\n",
    "\n",
    "with open('mod_revtex.tplx', 'w') as f:\n",
    "    for line in new_lines:\n",
    "        f.write(line)"
   ]
  },
  {
   "cell_type": "code",
   "execution_count": null,
   "id": "b9989ec6",
   "metadata": {
    "hide_input": true
   },
   "outputs": [],
   "source": [
    "%%R -i df\n",
    "p <- ggplot(df, aes(x = variable, y = value, fill = X.OTU.ID)) +\n",
    "     geom_bar(stat = \"identity\") +\n",
    "     labs(x = \"Sample ID\",\n",
    "          title = 'Taxa Summary',\n",
    "          subtitle = 'Grouped by SpecimenType') +\n",
    "     scale_y_discrete(name = \"OTU Percentage\",\n",
    "                      limits = c(0, 1),\n",
    "                      expand = c(0, 0)) +\n",
    "     theme(text = element_text(size = 8.5,\n",
    "                               face = \"bold\"),\n",
    "           element_line(size = 0.1),\n",
    "           legend.position = \"none\",\n",
    "           axis.text.x = element_text(angle = 300),\n",
    "           plot.title = element_text(hjust = 0.5),\n",
    "           plot.subtitle = element_text(hjust = 0.5)) +\n",
    "     guides(fill = guide_legend(ncol = 4)) +\n",
    "     facet_grid(~SpecimenType, scales = \"free\", space = \"free\") +\n",
    "     otuColScaleGenus + otuColFillGenus\n",
    "\n",
    "ggsave(\"level-6-SpecimenType.png\", height = 6, width = 8)"
   ]
  },
  {
   "cell_type": "code",
   "execution_count": null,
   "id": "c7f52ae9",
   "metadata": {
    "GenusSpecimenType": true,
    "hide_input": true
   },
   "outputs": [],
   "source": [
    "Image(\"level-6-SpecimenType.png\")"
   ]
  },
  {
   "cell_type": "code",
   "execution_count": null,
   "id": "769dab03",
   "metadata": {
    "hide_input": true
   },
   "outputs": [],
   "source": [
    "with open('mod_revtex.tplx', 'r') as f:\n",
    "    lines = f.readlines()\n",
    "for i, line in enumerate(lines):\n",
    "    if '((* block packages *))' in line:\n",
    "        packages_start = i\n",
    "    elif '((* endblock packages *))' in line:\n",
    "        packages_end = i\n",
    "\n",
    "\n",
    "# Get the mean percentage of each taxon\n",
    "otu_percs = df[df.value > float(config['abundance_threshold'])].groupby('X.OTU.ID').mean()\n",
    "\n",
    "entries = []\n",
    "# Remove duplicate values\n",
    "for row in otu_percs.itertuples():\n",
    "    otu = row.Index\n",
    "\n",
    "    # Get the color\n",
    "    RGB = tuple(otuAllRGBGenus[otu])\n",
    "\n",
    "    # Align sample names\n",
    "    perc = 100 * float(otu_percs.loc[otu]['value'])\n",
    "    if perc < 1:\n",
    "        perc_text = '<0.01'\n",
    "    elif perc < 10:\n",
    "        perc_text = ' {:.2f}'.format(perc)\n",
    "    else:\n",
    "        perc_text = '{:.2f}'.format(perc)\n",
    "\n",
    "    entries.append([otu, RGB, perc_text])\n",
    "\n",
    "\n",
    "# Create the latex for the legends\n",
    "latex = []\n",
    "colors = []\n",
    "for key, value, perc in entries:\n",
    "    latex.append('\\\\definecolor{{{key}}}{{RGB}}{{{r},{g},{b}}}\\n'.format(key=key.replace('_', '\\_'),\n",
    "                                                                      r=value[0],\n",
    "                                                                      g=value[1],\n",
    "                                                                      b=value[2]\n",
    "                                                                     ))\n",
    "    colors.append('{}/{}'.format(key.replace('_', '\\_'), perc))\n",
    "\n",
    "\n",
    "latex.append('\\\\def\\\\{colorset}{{{colors}}}\\n'.format(colorset='otuGenus',\n",
    "                                                      colors=','.join(colors)))\n",
    "new_lines = lines[:packages_end] + latex + lines[packages_end:]\n",
    "\n",
    "with open('mod_revtex.tplx', 'w') as f:\n",
    "    for line in new_lines:\n",
    "        f.write(line)\n"
   ]
  },
  {
   "cell_type": "markdown",
   "id": "1504250c",
   "metadata": {},
   "source": [
    "The above plot represents the percentage of each sample belonging to particular taxon summarized at the Genus level."
   ]
  },
  {
   "cell_type": "markdown",
   "id": "879954b4",
   "metadata": {},
   "source": [
    "\\pagebreak"
   ]
  },
  {
   "cell_type": "code",
   "execution_count": null,
   "id": "3e327966",
   "metadata": {
    "hide_input": true
   },
   "outputs": [],
   "source": [
    "df = pd.read_csv('level-6.csv', sep=',')\n",
    "# Remove unnecessary metadata\n",
    "headers = list(filter(lambda x: 'k__' in x, df.columns)) + ['index']\n",
    "df = df.filter(headers).set_index('index').T\n",
    "# Calculate relative abundances\n",
    "df = df.apply(lambda x: x / x.sum(), axis='index')\n",
    "# Transpose the dataframe and convert to long format\n",
    "df = df.T.reset_index(level=0).melt('index')\n",
    "# Rename the columns\n",
    "df.rename({'index': 'variable', 'variable': 'X.OTU.ID'}, axis='columns', inplace=True)\n",
    "df = df.astype({'variable': 'str'})\n",
    "# Modify the metadata\n",
    "mdf_lite = mdf.reset_index()\n",
    "mdf_lite = mdf_lite[['#SampleID', 'Ethnicity']].rename({'#SampleID': 'variable'}, axis='columns')\n",
    "# Merge with the data\n",
    "df = df.merge(mdf_lite, how='inner')\n",
    "df.Ethnicity = df.Ethnicity.astype(str)\n",
    "# Add colors for plotting\n",
    "otu_max_colors_Genus = sorted(df['X.OTU.ID'].unique())"
   ]
  },
  {
   "cell_type": "code",
   "execution_count": null,
   "id": "129758f2",
   "metadata": {
    "hide_input": true
   },
   "outputs": [],
   "source": [
    "\n",
    "with open('mod_revtex.tplx', 'r') as f:\n",
    "    lines = f.readlines()\n",
    "for i, line in enumerate(lines):\n",
    "    if '((* block packages *))' in line:\n",
    "        packages_start = i\n",
    "    elif '((* endblock packages *))' in line:\n",
    "        packages_end = i\n",
    "# Filter by abundance\n",
    "filtered_df = df[df.value > float(config['abundance_threshold'])]\n",
    "\n",
    "groups = filtered_df.groupby('Ethnicity')\n",
    "latex = []\n",
    "for name, group in groups:\n",
    "    # Get the means for each group\n",
    "    means = group.groupby('X.OTU.ID').mean()\n",
    "    line_latex = []\n",
    "    for row in means.itertuples():\n",
    "        perc = 100 * float(row.value)\n",
    "        # Align sample names\n",
    "        if perc < 10:\n",
    "            line_text = '{}/ {:.2f}'.format(row.Index.replace('_', '\\_'), perc)\n",
    "        else:\n",
    "            line_text = '{}/{:.2f}'.format(row.Index.replace('_', '\\_'), perc)\n",
    "        line_latex.append(line_text)\n",
    "    latex.append('\\\\def\\\\{colorset}{{{colors}}}\\n'.format(colorset='otuGenusEthnicity',\n",
    "                                                          colors=','.join(line_latex)))\n",
    "\n",
    "new_lines = lines[:packages_end] + latex + lines[packages_end:]\n",
    "\n",
    "with open('mod_revtex.tplx', 'w') as f:\n",
    "    for line in new_lines:\n",
    "        f.write(line)"
   ]
  },
  {
   "cell_type": "code",
   "execution_count": null,
   "id": "fedcea42",
   "metadata": {
    "hide_input": true
   },
   "outputs": [],
   "source": [
    "%%R -i df\n",
    "p <- ggplot(df, aes(x = variable, y = value, fill = X.OTU.ID)) +\n",
    "     geom_bar(stat = \"identity\") +\n",
    "     labs(x = \"Sample ID\",\n",
    "          title = 'Taxa Summary',\n",
    "          subtitle = 'Grouped by Ethnicity') +\n",
    "     scale_y_discrete(name = \"OTU Percentage\",\n",
    "                      limits = c(0, 1),\n",
    "                      expand = c(0, 0)) +\n",
    "     theme(text = element_text(size = 8.5,\n",
    "                               face = \"bold\"),\n",
    "           element_line(size = 0.1),\n",
    "           legend.position = \"none\",\n",
    "           axis.text.x = element_text(angle = 300),\n",
    "           plot.title = element_text(hjust = 0.5),\n",
    "           plot.subtitle = element_text(hjust = 0.5)) +\n",
    "     guides(fill = guide_legend(ncol = 4)) +\n",
    "     facet_grid(~Ethnicity, scales = \"free\", space = \"free\") +\n",
    "     otuColScaleGenus + otuColFillGenus\n",
    "\n",
    "ggsave(\"level-6-Ethnicity.png\", height = 6, width = 8)"
   ]
  },
  {
   "cell_type": "code",
   "execution_count": null,
   "id": "dc25e995",
   "metadata": {
    "GenusEthnicity": true,
    "hide_input": true
   },
   "outputs": [],
   "source": [
    "Image(\"level-6-Ethnicity.png\")"
   ]
  },
  {
   "cell_type": "code",
   "execution_count": null,
   "id": "0a663a06",
   "metadata": {
    "hide_input": true
   },
   "outputs": [],
   "source": [
    "with open('mod_revtex.tplx', 'r') as f:\n",
    "    lines = f.readlines()\n",
    "for i, line in enumerate(lines):\n",
    "    if '((* block packages *))' in line:\n",
    "        packages_start = i\n",
    "    elif '((* endblock packages *))' in line:\n",
    "        packages_end = i\n",
    "\n",
    "\n",
    "# Get the mean percentage of each taxon\n",
    "otu_percs = df[df.value > float(config['abundance_threshold'])].groupby('X.OTU.ID').mean()\n",
    "\n",
    "entries = []\n",
    "# Remove duplicate values\n",
    "for row in otu_percs.itertuples():\n",
    "    otu = row.Index\n",
    "\n",
    "    # Get the color\n",
    "    RGB = tuple(otuAllRGBGenus[otu])\n",
    "\n",
    "    # Align sample names\n",
    "    perc = 100 * float(otu_percs.loc[otu]['value'])\n",
    "    if perc < 1:\n",
    "        perc_text = '<0.01'\n",
    "    elif perc < 10:\n",
    "        perc_text = ' {:.2f}'.format(perc)\n",
    "    else:\n",
    "        perc_text = '{:.2f}'.format(perc)\n",
    "\n",
    "    entries.append([otu, RGB, perc_text])\n",
    "\n",
    "\n",
    "# Create the latex for the legends\n",
    "latex = []\n",
    "colors = []\n",
    "for key, value, perc in entries:\n",
    "    latex.append('\\\\definecolor{{{key}}}{{RGB}}{{{r},{g},{b}}}\\n'.format(key=key.replace('_', '\\_'),\n",
    "                                                                      r=value[0],\n",
    "                                                                      g=value[1],\n",
    "                                                                      b=value[2]\n",
    "                                                                     ))\n",
    "    colors.append('{}/{}'.format(key.replace('_', '\\_'), perc))\n",
    "\n",
    "\n",
    "latex.append('\\\\def\\\\{colorset}{{{colors}}}\\n'.format(colorset='otuGenus',\n",
    "                                                      colors=','.join(colors)))\n",
    "new_lines = lines[:packages_end] + latex + lines[packages_end:]\n",
    "\n",
    "with open('mod_revtex.tplx', 'w') as f:\n",
    "    for line in new_lines:\n",
    "        f.write(line)\n"
   ]
  },
  {
   "cell_type": "markdown",
   "id": "230bd13d",
   "metadata": {},
   "source": [
    "The above plot represents the percentage of each sample belonging to particular taxon summarized at the Genus level."
   ]
  },
  {
   "cell_type": "markdown",
   "id": "27424de8",
   "metadata": {},
   "source": [
    "\\pagebreak"
   ]
  },
  {
   "cell_type": "code",
   "execution_count": null,
   "id": "ca009c15",
   "metadata": {
    "hide_input": true
   },
   "outputs": [],
   "source": [
    "df = pd.read_csv('level-6.csv', sep=',')\n",
    "# Remove unnecessary metadata\n",
    "headers = list(filter(lambda x: 'k__' in x, df.columns)) + ['index']\n",
    "df = df.filter(headers).set_index('index').T\n",
    "# Calculate relative abundances\n",
    "df = df.apply(lambda x: x / x.sum(), axis='index')\n",
    "# Transpose the dataframe and convert to long format\n",
    "df = df.T.reset_index(level=0).melt('index')\n",
    "# Rename the columns\n",
    "df.rename({'index': 'variable', 'variable': 'X.OTU.ID'}, axis='columns', inplace=True)\n",
    "df = df.astype({'variable': 'str'})\n",
    "# Modify the metadata\n",
    "mdf_lite = mdf.reset_index()\n",
    "mdf_lite = mdf_lite[['#SampleID', 'InterventionCode']].rename({'#SampleID': 'variable'}, axis='columns')\n",
    "# Merge with the data\n",
    "df = df.merge(mdf_lite, how='inner')\n",
    "df.InterventionCode = df.InterventionCode.astype(str)\n",
    "# Add colors for plotting\n",
    "otu_max_colors_Genus = sorted(df['X.OTU.ID'].unique())"
   ]
  },
  {
   "cell_type": "code",
   "execution_count": null,
   "id": "726063e8",
   "metadata": {
    "hide_input": true
   },
   "outputs": [],
   "source": [
    "\n",
    "with open('mod_revtex.tplx', 'r') as f:\n",
    "    lines = f.readlines()\n",
    "for i, line in enumerate(lines):\n",
    "    if '((* block packages *))' in line:\n",
    "        packages_start = i\n",
    "    elif '((* endblock packages *))' in line:\n",
    "        packages_end = i\n",
    "# Filter by abundance\n",
    "filtered_df = df[df.value > float(config['abundance_threshold'])]\n",
    "\n",
    "groups = filtered_df.groupby('InterventionCode')\n",
    "latex = []\n",
    "for name, group in groups:\n",
    "    # Get the means for each group\n",
    "    means = group.groupby('X.OTU.ID').mean()\n",
    "    line_latex = []\n",
    "    for row in means.itertuples():\n",
    "        perc = 100 * float(row.value)\n",
    "        # Align sample names\n",
    "        if perc < 10:\n",
    "            line_text = '{}/ {:.2f}'.format(row.Index.replace('_', '\\_'), perc)\n",
    "        else:\n",
    "            line_text = '{}/{:.2f}'.format(row.Index.replace('_', '\\_'), perc)\n",
    "        line_latex.append(line_text)\n",
    "    latex.append('\\\\def\\\\{colorset}{{{colors}}}\\n'.format(colorset='otuGenusInterventionCode',\n",
    "                                                          colors=','.join(line_latex)))\n",
    "\n",
    "new_lines = lines[:packages_end] + latex + lines[packages_end:]\n",
    "\n",
    "with open('mod_revtex.tplx', 'w') as f:\n",
    "    for line in new_lines:\n",
    "        f.write(line)"
   ]
  },
  {
   "cell_type": "code",
   "execution_count": null,
   "id": "11ee6651",
   "metadata": {
    "hide_input": true
   },
   "outputs": [],
   "source": [
    "%%R -i df\n",
    "p <- ggplot(df, aes(x = variable, y = value, fill = X.OTU.ID)) +\n",
    "     geom_bar(stat = \"identity\") +\n",
    "     labs(x = \"Sample ID\",\n",
    "          title = 'Taxa Summary',\n",
    "          subtitle = 'Grouped by InterventionCode') +\n",
    "     scale_y_discrete(name = \"OTU Percentage\",\n",
    "                      limits = c(0, 1),\n",
    "                      expand = c(0, 0)) +\n",
    "     theme(text = element_text(size = 8.5,\n",
    "                               face = \"bold\"),\n",
    "           element_line(size = 0.1),\n",
    "           legend.position = \"none\",\n",
    "           axis.text.x = element_text(angle = 300),\n",
    "           plot.title = element_text(hjust = 0.5),\n",
    "           plot.subtitle = element_text(hjust = 0.5)) +\n",
    "     guides(fill = guide_legend(ncol = 4)) +\n",
    "     facet_grid(~InterventionCode, scales = \"free\", space = \"free\") +\n",
    "     otuColScaleGenus + otuColFillGenus\n",
    "\n",
    "ggsave(\"level-6-InterventionCode.png\", height = 6, width = 8)"
   ]
  },
  {
   "cell_type": "code",
   "execution_count": null,
   "id": "52854754",
   "metadata": {
    "GenusInterventionCode": true,
    "hide_input": true
   },
   "outputs": [],
   "source": [
    "Image(\"level-6-InterventionCode.png\")"
   ]
  },
  {
   "cell_type": "code",
   "execution_count": null,
   "id": "b087cb1e",
   "metadata": {
    "hide_input": true
   },
   "outputs": [],
   "source": [
    "with open('mod_revtex.tplx', 'r') as f:\n",
    "    lines = f.readlines()\n",
    "for i, line in enumerate(lines):\n",
    "    if '((* block packages *))' in line:\n",
    "        packages_start = i\n",
    "    elif '((* endblock packages *))' in line:\n",
    "        packages_end = i\n",
    "\n",
    "\n",
    "# Get the mean percentage of each taxon\n",
    "otu_percs = df[df.value > float(config['abundance_threshold'])].groupby('X.OTU.ID').mean()\n",
    "\n",
    "entries = []\n",
    "# Remove duplicate values\n",
    "for row in otu_percs.itertuples():\n",
    "    otu = row.Index\n",
    "\n",
    "    # Get the color\n",
    "    RGB = tuple(otuAllRGBGenus[otu])\n",
    "\n",
    "    # Align sample names\n",
    "    perc = 100 * float(otu_percs.loc[otu]['value'])\n",
    "    if perc < 1:\n",
    "        perc_text = '<0.01'\n",
    "    elif perc < 10:\n",
    "        perc_text = ' {:.2f}'.format(perc)\n",
    "    else:\n",
    "        perc_text = '{:.2f}'.format(perc)\n",
    "\n",
    "    entries.append([otu, RGB, perc_text])\n",
    "\n",
    "\n",
    "# Create the latex for the legends\n",
    "latex = []\n",
    "colors = []\n",
    "for key, value, perc in entries:\n",
    "    latex.append('\\\\definecolor{{{key}}}{{RGB}}{{{r},{g},{b}}}\\n'.format(key=key.replace('_', '\\_'),\n",
    "                                                                      r=value[0],\n",
    "                                                                      g=value[1],\n",
    "                                                                      b=value[2]\n",
    "                                                                     ))\n",
    "    colors.append('{}/{}'.format(key.replace('_', '\\_'), perc))\n",
    "\n",
    "\n",
    "latex.append('\\\\def\\\\{colorset}{{{colors}}}\\n'.format(colorset='otuGenus',\n",
    "                                                      colors=','.join(colors)))\n",
    "new_lines = lines[:packages_end] + latex + lines[packages_end:]\n",
    "\n",
    "with open('mod_revtex.tplx', 'w') as f:\n",
    "    for line in new_lines:\n",
    "        f.write(line)\n"
   ]
  },
  {
   "cell_type": "markdown",
   "id": "c902f954",
   "metadata": {},
   "source": [
    "The above plot represents the percentage of each sample belonging to particular taxon summarized at the Genus level."
   ]
  },
  {
   "cell_type": "markdown",
   "id": "1c4ef0d8",
   "metadata": {},
   "source": [
    "\\pagebreak"
   ]
  },
  {
   "cell_type": "code",
   "execution_count": null,
   "id": "9f64dd86",
   "metadata": {
    "hide_input": true
   },
   "outputs": [],
   "source": [
    "# Reset this variable\n",
    "latex = []\n",
    "with open('mod_revtex.tplx', 'r') as f:\n",
    "    lines = f.readlines()\n",
    "for i, line in enumerate(lines):\n",
    "    if '((* endblock packages *))' in line:\n",
    "        packages_end = i\n",
    "\n",
    "for key, value in allRGB.items():\n",
    "    latex.append('\\\\definecolor{{{key}}}{{RGB}}{{{r},{g},{b}}}\\n'.format(key=key,\n",
    "                                                                         r=value[0],\n",
    "                                                                         g=value[1],\n",
    "                                                                         b=value[2]))\n",
    "\n",
    "new_lines = lines[:packages_end] + latex + lines[packages_end:]\n",
    "\n",
    "with open('mod_revtex.tplx', 'w') as f:\n",
    "    for line in new_lines:\n",
    "        f.write(line)"
   ]
  },
  {
   "cell_type": "markdown",
   "id": "9cec0b3f",
   "metadata": {},
   "source": [
    "# Alpha Diversity"
   ]
  },
  {
   "cell_type": "markdown",
   "id": "ff03ac9b",
   "metadata": {},
   "source": [
    "## Interpreting Alpha Diversity Results"
   ]
  },
  {
   "cell_type": "markdown",
   "id": "973b5707",
   "metadata": {},
   "source": [
    "Alpha diversity estimates the amount of microbial diversity present in a sample or group of samples. There are several measures that can be used for alpha diversity, including observed features, Shannon's diversity or Faith's phylogenetic diversity. Because diversity estimates depend on the total number of sequences assigned to each sample, rarefaction curves are constructed to show the relation between alpha diversity (on the vertical axis) and sequencing depth (on the horizontal axis). Curves that gradually plateau as sequencing depth increases suggest that additional sequencing effort would not substantially yield additional results in terms of currently not observed diversity; curves that continue to increase suggest additional sequencing effort might be required to saturate the estimate."
   ]
  },
  {
   "cell_type": "markdown",
   "id": "174838e2",
   "metadata": {},
   "source": [
    "## Shannon Diversity"
   ]
  },
  {
   "cell_type": "code",
   "execution_count": null,
   "id": "9619272b",
   "metadata": {
    "hide_input": true
   },
   "outputs": [],
   "source": [
    "# Read in the data\n",
    "df = pd.read_csv('shannon.csv', sep=',')\n",
    "\n",
    "# Reshape the data into (mostly) long format\n",
    "headers = list(set(mdf.columns).intersection(set(df.columns)))\n",
    "df = df.melt(id_vars=['sample-id'] + headers)\n",
    "\n",
    "# Remove info on specific iterations to allow for grouping by value\n",
    "replacements = {x:int(x.split('_')[0].split('-')[1]) for x in df.variable.unique()}\n",
    "df.variable.replace(replacements, inplace=True)\n",
    "\n",
    "# For storing\n",
    "group_means = []\n",
    "\n",
    "for group_name in metadata_continuous:\n",
    "    # Remove the metadata not relevant to this grouping\n",
    "    groups = df[['sample-id', 'variable', 'value', group_name]]\n",
    "\n",
    "    # Calculate the means accross iterations\n",
    "    agger = {'value': 'mean', group_name: 'first'}\n",
    "    groups = groups.groupby(['sample-id', 'variable']).agg(agger).reset_index()\n",
    "\n",
    "    # Add a column to store the errors\n",
    "    groups = groups.assign(Error=groups.value)\n",
    "\n",
    "    # Group by metadata value and calculate the means and error\n",
    "    agger = {'Error': 'sem', 'value': 'mean'}\n",
    "    group = groups.groupby([group_name, 'variable']).agg(agger).reset_index()\n",
    "\n",
    "    # Assign information for grouping\n",
    "    group_names = [group_name for x in group[group_name]]\n",
    "    group = group.assign(GroupName=group_names)\n",
    "\n",
    "    # Rename columns and append to the list of dataframes\n",
    "    new_names = {\n",
    "        'variable': 'SamplingDepth',\n",
    "        'value': 'AverageValue',\n",
    "         group_name: 'Grouping'\n",
    "    }\n",
    "    group_means.append(group.rename(index=str, columns=new_names))\n",
    "\n",
    "# Stack all the different groups into a single dataframe\n",
    "df = pd.concat(group_means, axis=0, sort=False)\n",
    "df.SamplingDepth = df.SamplingDepth.astype(float)\n",
    "df.Error = df.Error.astype(float)\n",
    "df.AverageValue = df.AverageValue.astype(float)\n",
    "df.GroupName = df.GroupName.astype(str)"
   ]
  },
  {
   "cell_type": "code",
   "execution_count": null,
   "id": "577baa74",
   "metadata": {
    "hide_input": true
   },
   "outputs": [],
   "source": [
    "%%R -i df\n",
    "\n",
    "pd <- position_dodge(width = 50)\n",
    "df.var <- subset(df, GroupName==\"DaysSinceExperimentStart\")\n",
    "p <- ggplot(data = df.var, aes(x = SamplingDepth, y = AverageValue, color = Grouping,group=Grouping)) +\n",
    "      geom_errorbar(aes(ymin=AverageValue-Error, ymax=AverageValue+Error), width=100, position = pd) +\n",
    "      geom_point(stat='identity', position = pd, size = 1) +\n",
    "      geom_line(stat='identity', position = pd) +\n",
    "      labs(title = 'Alpha Diversity',\n",
    "           subtitle = 'Grouped by DaysSinceExperimentStart') +\n",
    "      theme_bw() +\n",
    "      theme(legend.position = 'bottom',\n",
    "            plot.title = element_text(hjust = 0.5),\n",
    "            plot.subtitle = element_text(hjust = 0.5)) + scale_color_gradient(low=\"#0000FF\", high=\"#FF0000\", name = 'DaysSinceExperimentStart', space = \"Lab\", na.value = \"#888888\", guide = \"colorbar\", aesthetics = \"color\")\n",
    "\n",
    "# Save plots\n",
    "ggsave('shannon_DaysSinceExperimentStart.png', height = 6, width = 6)"
   ]
  },
  {
   "cell_type": "code",
   "execution_count": null,
   "id": "95e4fd7e",
   "metadata": {
    "DaysSinceExperimentStart": true,
    "Depth": true,
    "hide_input": true
   },
   "outputs": [],
   "source": [
    "Image(\"shannon_DaysSinceExperimentStart.png\")"
   ]
  },
  {
   "cell_type": "markdown",
   "id": "f7377a0b",
   "metadata": {},
   "source": [
    "\\pagebreak"
   ]
  },
  {
   "cell_type": "code",
   "execution_count": null,
   "id": "4c941e00",
   "metadata": {
    "hide_input": true
   },
   "outputs": [],
   "source": [
    "%%R -i df\n",
    "\n",
    "pd <- position_dodge(width = 50)\n",
    "df.var <- subset(df, GroupName==\"Depth\")\n",
    "p <- ggplot(data = df.var, aes(x = SamplingDepth, y = AverageValue, color = Grouping,group=Grouping)) +\n",
    "      geom_errorbar(aes(ymin=AverageValue-Error, ymax=AverageValue+Error), width=100, position = pd) +\n",
    "      geom_point(stat='identity', position = pd, size = 1) +\n",
    "      geom_line(stat='identity', position = pd) +\n",
    "      labs(title = 'Alpha Diversity',\n",
    "           subtitle = 'Grouped by Depth') +\n",
    "      theme_bw() +\n",
    "      theme(legend.position = 'bottom',\n",
    "            plot.title = element_text(hjust = 0.5),\n",
    "            plot.subtitle = element_text(hjust = 0.5)) + scale_color_gradient(low=\"#FF9900\", high=\"#9900CC\", name = 'Depth', space = \"Lab\", na.value = \"#888888\", guide = \"colorbar\", aesthetics = \"color\")\n",
    "\n",
    "# Save plots\n",
    "ggsave('shannon_Depth.png', height = 6, width = 6)"
   ]
  },
  {
   "cell_type": "code",
   "execution_count": null,
   "id": "10b1b42a",
   "metadata": {
    "DaysSinceExperimentStart": true,
    "Depth": true,
    "hide_input": true
   },
   "outputs": [],
   "source": [
    "Image(\"shannon_Depth.png\")"
   ]
  },
  {
   "cell_type": "markdown",
   "id": "9d018e5b",
   "metadata": {},
   "source": [
    "\\pagebreak"
   ]
  },
  {
   "cell_type": "code",
   "execution_count": null,
   "id": "2c9a36fd",
   "metadata": {
    "hide_input": true
   },
   "outputs": [],
   "source": [
    "# Read in the data\n",
    "df = pd.read_csv('shannon.csv', sep=',')\n",
    "\n",
    "# Reshape the data into (mostly) long format\n",
    "headers = list(set(mdf.columns).intersection(set(df.columns)))\n",
    "df = df.melt(id_vars=['sample-id'] + headers)\n",
    "\n",
    "# Remove info on specific iterations to allow for grouping by value\n",
    "replacements = {x:int(x.split('_')[0].split('-')[1]) for x in df.variable.unique()}\n",
    "df.variable.replace(replacements, inplace=True)\n",
    "\n",
    "# For storing\n",
    "group_means = []\n",
    "\n",
    "for group_name in metadata_discrete:\n",
    "    # Remove the metadata not relevant to this grouping\n",
    "    groups = df[['sample-id', 'variable', 'value', group_name]]\n",
    "\n",
    "    # Calculate the means accross iterations\n",
    "    agger = {'value': 'mean', group_name: 'first'}\n",
    "    groups = groups.groupby(['sample-id', 'variable']).agg(agger).reset_index()\n",
    "\n",
    "    # Add a column to store the errors\n",
    "    groups = groups.assign(Error=groups.value)\n",
    "\n",
    "    # Group by metadata value and calculate the means and error\n",
    "    agger = {'Error': 'sem', 'value': 'mean'}\n",
    "    group = groups.groupby([group_name, 'variable']).agg(agger).reset_index()\n",
    "\n",
    "    # Assign information for the colors\n",
    "    colors = [color_maps[group_name][str(x)] for x in group[group_name]]\n",
    "    group = group.assign(GroupID=colors)\n",
    "\n",
    "    # Assign information for grouping\n",
    "    group_names = [group_name for x in group[group_name]]\n",
    "    group = group.assign(GroupName=group_names)\n",
    "\n",
    "    # Rename columns and append to the list of dataframes\n",
    "    new_names = {\n",
    "        'variable': 'SamplingDepth',\n",
    "        'value': 'AverageValue',\n",
    "         group_name: 'Grouping'\n",
    "    }\n",
    "    group_means.append(group.rename(index=str, columns=new_names))\n",
    "\n",
    "# Stack all the different groups into a single dataframe\n",
    "df = pd.concat(group_means, axis=0, sort=False)\n",
    "df.SamplingDepth = df.SamplingDepth.astype(float)\n",
    "df.Error = df.Error.astype(float)\n",
    "df.AverageValue = df.AverageValue.astype(float)\n",
    "df.Grouping = df.Grouping.astype(str)\n",
    "df.GroupID = df.GroupID.astype(str)\n",
    "df.GroupName = df.GroupName.astype(str)"
   ]
  },
  {
   "cell_type": "code",
   "execution_count": null,
   "id": "dc1cc831",
   "metadata": {
    "hide_input": true
   },
   "outputs": [],
   "source": [
    "%%R -i df\n",
    "pd <- position_dodge(width = 50)\n",
    "\n",
    "p <- ggplot(data = df, aes(x = SamplingDepth, y = AverageValue, color = GroupID)) +\n",
    "     geom_errorbar(aes(ymin=AverageValue-Error, ymax=AverageValue+Error), width=100, position = pd) +\n",
    "     geom_point(stat='identity', position = pd, size = 1) +\n",
    "     geom_line(stat='identity', position = pd) +\n",
    "     facet_wrap(~GroupName) + colFill + colScale +\n",
    "     labs(title = 'Alpha Diversity',\n",
    "          subtitle = 'Grouped by Discrete Metadata Categories') +\n",
    "     theme_bw() +\n",
    "     theme(legend.position = 'none',\n",
    "           plot.title = element_text(hjust = 0.5),\n",
    "           plot.subtitle = element_text(hjust = 0.5))\n",
    "\n",
    "# Save plots\n",
    "ggsave('shannon_Depth.png', height = 6, width = 6)"
   ]
  },
  {
   "cell_type": "code",
   "execution_count": null,
   "id": "8d0f952b",
   "metadata": {
    "Ethnicity": true,
    "InterventionCode": true,
    "SpecimenBodySite": true,
    "SpecimenType": true,
    "hide_input": true
   },
   "outputs": [],
   "source": [
    "Image(\"shannon_Depth.png\")"
   ]
  },
  {
   "cell_type": "markdown",
   "id": "5fd4580e",
   "metadata": {},
   "source": [
    "The above plot represents the average value of alpha diversity at each sampling depth. The error bars show the standard error within each group. Groups are determined by the metadata value in each category specified in the plot."
   ]
  },
  {
   "cell_type": "markdown",
   "id": "5a6cf88c",
   "metadata": {},
   "source": [
    "\\pagebreak"
   ]
  },
  {
   "cell_type": "markdown",
   "id": "84e46bfd",
   "metadata": {},
   "source": [
    "## Faith's Phylogenetic Diversity"
   ]
  },
  {
   "cell_type": "code",
   "execution_count": null,
   "id": "c4615eab",
   "metadata": {
    "hide_input": true
   },
   "outputs": [],
   "source": [
    "# Read in the data\n",
    "df = pd.read_csv('faith_pd.csv', sep=',')\n",
    "\n",
    "# Reshape the data into (mostly) long format\n",
    "headers = list(set(mdf.columns).intersection(set(df.columns)))\n",
    "df = df.melt(id_vars=['sample-id'] + headers)\n",
    "\n",
    "# Remove info on specific iterations to allow for grouping by value\n",
    "replacements = {x:int(x.split('_')[0].split('-')[1]) for x in df.variable.unique()}\n",
    "df.variable.replace(replacements, inplace=True)\n",
    "\n",
    "# For storing\n",
    "group_means = []\n",
    "\n",
    "for group_name in metadata_continuous:\n",
    "    # Remove the metadata not relevant to this grouping\n",
    "    groups = df[['sample-id', 'variable', 'value', group_name]]\n",
    "\n",
    "    # Calculate the means accross iterations\n",
    "    agger = {'value': 'mean', group_name: 'first'}\n",
    "    groups = groups.groupby(['sample-id', 'variable']).agg(agger).reset_index()\n",
    "\n",
    "    # Add a column to store the errors\n",
    "    groups = groups.assign(Error=groups.value)\n",
    "\n",
    "    # Group by metadata value and calculate the means and error\n",
    "    agger = {'Error': 'sem', 'value': 'mean'}\n",
    "    group = groups.groupby([group_name, 'variable']).agg(agger).reset_index()\n",
    "\n",
    "    # Assign information for grouping\n",
    "    group_names = [group_name for x in group[group_name]]\n",
    "    group = group.assign(GroupName=group_names)\n",
    "\n",
    "    # Rename columns and append to the list of dataframes\n",
    "    new_names = {\n",
    "        'variable': 'SamplingDepth',\n",
    "        'value': 'AverageValue',\n",
    "         group_name: 'Grouping'\n",
    "    }\n",
    "    group_means.append(group.rename(index=str, columns=new_names))\n",
    "\n",
    "# Stack all the different groups into a single dataframe\n",
    "df = pd.concat(group_means, axis=0, sort=False)\n",
    "df.SamplingDepth = df.SamplingDepth.astype(float)\n",
    "df.Error = df.Error.astype(float)\n",
    "df.AverageValue = df.AverageValue.astype(float)\n",
    "df.GroupName = df.GroupName.astype(str)"
   ]
  },
  {
   "cell_type": "code",
   "execution_count": null,
   "id": "0ee56cb3",
   "metadata": {
    "hide_input": true
   },
   "outputs": [],
   "source": [
    "%%R -i df\n",
    "\n",
    "pd <- position_dodge(width = 50)\n",
    "df.var <- subset(df, GroupName==\"DaysSinceExperimentStart\")\n",
    "p <- ggplot(data = df.var, aes(x = SamplingDepth, y = AverageValue, color = Grouping,group=Grouping)) +\n",
    "      geom_errorbar(aes(ymin=AverageValue-Error, ymax=AverageValue+Error), width=100, position = pd) +\n",
    "      geom_point(stat='identity', position = pd, size = 1) +\n",
    "      geom_line(stat='identity', position = pd) +\n",
    "      labs(title = 'Alpha Diversity',\n",
    "           subtitle = 'Grouped by DaysSinceExperimentStart') +\n",
    "      theme_bw() +\n",
    "      theme(legend.position = 'bottom',\n",
    "            plot.title = element_text(hjust = 0.5),\n",
    "            plot.subtitle = element_text(hjust = 0.5)) + scale_color_gradient(low=\"#0000FF\", high=\"#FF0000\", name = 'DaysSinceExperimentStart', space = \"Lab\", na.value = \"#888888\", guide = \"colorbar\", aesthetics = \"color\")\n",
    "\n",
    "# Save plots\n",
    "ggsave('faith_pd_DaysSinceExperimentStart.png', height = 6, width = 6)"
   ]
  },
  {
   "cell_type": "code",
   "execution_count": null,
   "id": "a64df0d4",
   "metadata": {
    "DaysSinceExperimentStart": true,
    "Depth": true,
    "hide_input": true
   },
   "outputs": [],
   "source": [
    "Image(\"faith_pd_DaysSinceExperimentStart.png\")"
   ]
  },
  {
   "cell_type": "markdown",
   "id": "06209526",
   "metadata": {},
   "source": [
    "\\pagebreak"
   ]
  },
  {
   "cell_type": "code",
   "execution_count": null,
   "id": "c2056b86",
   "metadata": {
    "hide_input": true
   },
   "outputs": [],
   "source": [
    "%%R -i df\n",
    "\n",
    "pd <- position_dodge(width = 50)\n",
    "df.var <- subset(df, GroupName==\"Depth\")\n",
    "p <- ggplot(data = df.var, aes(x = SamplingDepth, y = AverageValue, color = Grouping,group=Grouping)) +\n",
    "      geom_errorbar(aes(ymin=AverageValue-Error, ymax=AverageValue+Error), width=100, position = pd) +\n",
    "      geom_point(stat='identity', position = pd, size = 1) +\n",
    "      geom_line(stat='identity', position = pd) +\n",
    "      labs(title = 'Alpha Diversity',\n",
    "           subtitle = 'Grouped by Depth') +\n",
    "      theme_bw() +\n",
    "      theme(legend.position = 'bottom',\n",
    "            plot.title = element_text(hjust = 0.5),\n",
    "            plot.subtitle = element_text(hjust = 0.5)) + scale_color_gradient(low=\"#FF9900\", high=\"#9900CC\", name = 'Depth', space = \"Lab\", na.value = \"#888888\", guide = \"colorbar\", aesthetics = \"color\")\n",
    "\n",
    "# Save plots\n",
    "ggsave('faith_pd_Depth.png', height = 6, width = 6)"
   ]
  },
  {
   "cell_type": "code",
   "execution_count": null,
   "id": "618c13a1",
   "metadata": {
    "DaysSinceExperimentStart": true,
    "Depth": true,
    "hide_input": true
   },
   "outputs": [],
   "source": [
    "Image(\"faith_pd_Depth.png\")"
   ]
  },
  {
   "cell_type": "markdown",
   "id": "2817baae",
   "metadata": {},
   "source": [
    "\\pagebreak"
   ]
  },
  {
   "cell_type": "code",
   "execution_count": null,
   "id": "12411a35",
   "metadata": {
    "hide_input": true
   },
   "outputs": [],
   "source": [
    "# Read in the data\n",
    "df = pd.read_csv('faith_pd.csv', sep=',')\n",
    "\n",
    "# Reshape the data into (mostly) long format\n",
    "headers = list(set(mdf.columns).intersection(set(df.columns)))\n",
    "df = df.melt(id_vars=['sample-id'] + headers)\n",
    "\n",
    "# Remove info on specific iterations to allow for grouping by value\n",
    "replacements = {x:int(x.split('_')[0].split('-')[1]) for x in df.variable.unique()}\n",
    "df.variable.replace(replacements, inplace=True)\n",
    "\n",
    "# For storing\n",
    "group_means = []\n",
    "\n",
    "for group_name in metadata_discrete:\n",
    "    # Remove the metadata not relevant to this grouping\n",
    "    groups = df[['sample-id', 'variable', 'value', group_name]]\n",
    "\n",
    "    # Calculate the means accross iterations\n",
    "    agger = {'value': 'mean', group_name: 'first'}\n",
    "    groups = groups.groupby(['sample-id', 'variable']).agg(agger).reset_index()\n",
    "\n",
    "    # Add a column to store the errors\n",
    "    groups = groups.assign(Error=groups.value)\n",
    "\n",
    "    # Group by metadata value and calculate the means and error\n",
    "    agger = {'Error': 'sem', 'value': 'mean'}\n",
    "    group = groups.groupby([group_name, 'variable']).agg(agger).reset_index()\n",
    "\n",
    "    # Assign information for the colors\n",
    "    colors = [color_maps[group_name][str(x)] for x in group[group_name]]\n",
    "    group = group.assign(GroupID=colors)\n",
    "\n",
    "    # Assign information for grouping\n",
    "    group_names = [group_name for x in group[group_name]]\n",
    "    group = group.assign(GroupName=group_names)\n",
    "\n",
    "    # Rename columns and append to the list of dataframes\n",
    "    new_names = {\n",
    "        'variable': 'SamplingDepth',\n",
    "        'value': 'AverageValue',\n",
    "         group_name: 'Grouping'\n",
    "    }\n",
    "    group_means.append(group.rename(index=str, columns=new_names))\n",
    "\n",
    "# Stack all the different groups into a single dataframe\n",
    "df = pd.concat(group_means, axis=0, sort=False)\n",
    "df.SamplingDepth = df.SamplingDepth.astype(float)\n",
    "df.Error = df.Error.astype(float)\n",
    "df.AverageValue = df.AverageValue.astype(float)\n",
    "df.Grouping = df.Grouping.astype(str)\n",
    "df.GroupID = df.GroupID.astype(str)\n",
    "df.GroupName = df.GroupName.astype(str)"
   ]
  },
  {
   "cell_type": "code",
   "execution_count": null,
   "id": "47683144",
   "metadata": {
    "hide_input": true
   },
   "outputs": [],
   "source": [
    "%%R -i df\n",
    "pd <- position_dodge(width = 50)\n",
    "\n",
    "p <- ggplot(data = df, aes(x = SamplingDepth, y = AverageValue, color = GroupID)) +\n",
    "     geom_errorbar(aes(ymin=AverageValue-Error, ymax=AverageValue+Error), width=100, position = pd) +\n",
    "     geom_point(stat='identity', position = pd, size = 1) +\n",
    "     geom_line(stat='identity', position = pd) +\n",
    "     facet_wrap(~GroupName) + colFill + colScale +\n",
    "     labs(title = 'Alpha Diversity',\n",
    "          subtitle = 'Grouped by Discrete Metadata Categories') +\n",
    "     theme_bw() +\n",
    "     theme(legend.position = 'none',\n",
    "           plot.title = element_text(hjust = 0.5),\n",
    "           plot.subtitle = element_text(hjust = 0.5))\n",
    "\n",
    "# Save plots\n",
    "ggsave('faith_pd_Depth.png', height = 6, width = 6)"
   ]
  },
  {
   "cell_type": "code",
   "execution_count": null,
   "id": "99aa9f3d",
   "metadata": {
    "Ethnicity": true,
    "InterventionCode": true,
    "SpecimenBodySite": true,
    "SpecimenType": true,
    "hide_input": true
   },
   "outputs": [],
   "source": [
    "Image(\"faith_pd_Depth.png\")"
   ]
  },
  {
   "cell_type": "markdown",
   "id": "3f50fb2d",
   "metadata": {},
   "source": [
    "The above plot represents the average value of alpha diversity at each sampling depth. The error bars show the standard error within each group. Groups are determined by the metadata value in each category specified in the plot."
   ]
  },
  {
   "cell_type": "markdown",
   "id": "99840e74",
   "metadata": {},
   "source": [
    "\\pagebreak"
   ]
  },
  {
   "cell_type": "markdown",
   "id": "5e31ddf3",
   "metadata": {},
   "source": [
    "## Observed ASV"
   ]
  },
  {
   "cell_type": "code",
   "execution_count": null,
   "id": "26b521ae",
   "metadata": {
    "hide_input": true
   },
   "outputs": [],
   "source": [
    "# Read in the data\n",
    "df = pd.read_csv('observed_features.csv', sep=',')\n",
    "\n",
    "# Reshape the data into (mostly) long format\n",
    "headers = list(set(mdf.columns).intersection(set(df.columns)))\n",
    "df = df.melt(id_vars=['sample-id'] + headers)\n",
    "\n",
    "# Remove info on specific iterations to allow for grouping by value\n",
    "replacements = {x:int(x.split('_')[0].split('-')[1]) for x in df.variable.unique()}\n",
    "df.variable.replace(replacements, inplace=True)\n",
    "\n",
    "# For storing\n",
    "group_means = []\n",
    "\n",
    "for group_name in metadata_continuous:\n",
    "    # Remove the metadata not relevant to this grouping\n",
    "    groups = df[['sample-id', 'variable', 'value', group_name]]\n",
    "\n",
    "    # Calculate the means accross iterations\n",
    "    agger = {'value': 'mean', group_name: 'first'}\n",
    "    groups = groups.groupby(['sample-id', 'variable']).agg(agger).reset_index()\n",
    "\n",
    "    # Add a column to store the errors\n",
    "    groups = groups.assign(Error=groups.value)\n",
    "\n",
    "    # Group by metadata value and calculate the means and error\n",
    "    agger = {'Error': 'sem', 'value': 'mean'}\n",
    "    group = groups.groupby([group_name, 'variable']).agg(agger).reset_index()\n",
    "\n",
    "    # Assign information for grouping\n",
    "    group_names = [group_name for x in group[group_name]]\n",
    "    group = group.assign(GroupName=group_names)\n",
    "\n",
    "    # Rename columns and append to the list of dataframes\n",
    "    new_names = {\n",
    "        'variable': 'SamplingDepth',\n",
    "        'value': 'AverageValue',\n",
    "         group_name: 'Grouping'\n",
    "    }\n",
    "    group_means.append(group.rename(index=str, columns=new_names))\n",
    "\n",
    "# Stack all the different groups into a single dataframe\n",
    "df = pd.concat(group_means, axis=0, sort=False)\n",
    "df.SamplingDepth = df.SamplingDepth.astype(float)\n",
    "df.Error = df.Error.astype(float)\n",
    "df.AverageValue = df.AverageValue.astype(float)\n",
    "df.GroupName = df.GroupName.astype(str)"
   ]
  },
  {
   "cell_type": "code",
   "execution_count": null,
   "id": "48739fbd",
   "metadata": {
    "hide_input": true
   },
   "outputs": [],
   "source": [
    "%%R -i df\n",
    "\n",
    "pd <- position_dodge(width = 50)\n",
    "df.var <- subset(df, GroupName==\"DaysSinceExperimentStart\")\n",
    "p <- ggplot(data = df.var, aes(x = SamplingDepth, y = AverageValue, color = Grouping,group=Grouping)) +\n",
    "      geom_errorbar(aes(ymin=AverageValue-Error, ymax=AverageValue+Error), width=100, position = pd) +\n",
    "      geom_point(stat='identity', position = pd, size = 1) +\n",
    "      geom_line(stat='identity', position = pd) +\n",
    "      labs(title = 'Alpha Diversity',\n",
    "           subtitle = 'Grouped by DaysSinceExperimentStart') +\n",
    "      theme_bw() +\n",
    "      theme(legend.position = 'bottom',\n",
    "            plot.title = element_text(hjust = 0.5),\n",
    "            plot.subtitle = element_text(hjust = 0.5)) + scale_color_gradient(low=\"#0000FF\", high=\"#FF0000\", name = 'DaysSinceExperimentStart', space = \"Lab\", na.value = \"#888888\", guide = \"colorbar\", aesthetics = \"color\")\n",
    "\n",
    "# Save plots\n",
    "ggsave('observed_features_DaysSinceExperimentStart.png', height = 6, width = 6)"
   ]
  },
  {
   "cell_type": "code",
   "execution_count": null,
   "id": "eca3e3a7",
   "metadata": {
    "DaysSinceExperimentStart": true,
    "Depth": true,
    "hide_input": true
   },
   "outputs": [],
   "source": [
    "Image(\"observed_features_DaysSinceExperimentStart.png\")"
   ]
  },
  {
   "cell_type": "markdown",
   "id": "4589bbdc",
   "metadata": {},
   "source": [
    "\\pagebreak"
   ]
  },
  {
   "cell_type": "code",
   "execution_count": null,
   "id": "fc9e881c",
   "metadata": {
    "hide_input": true
   },
   "outputs": [],
   "source": [
    "%%R -i df\n",
    "\n",
    "pd <- position_dodge(width = 50)\n",
    "df.var <- subset(df, GroupName==\"Depth\")\n",
    "p <- ggplot(data = df.var, aes(x = SamplingDepth, y = AverageValue, color = Grouping,group=Grouping)) +\n",
    "      geom_errorbar(aes(ymin=AverageValue-Error, ymax=AverageValue+Error), width=100, position = pd) +\n",
    "      geom_point(stat='identity', position = pd, size = 1) +\n",
    "      geom_line(stat='identity', position = pd) +\n",
    "      labs(title = 'Alpha Diversity',\n",
    "           subtitle = 'Grouped by Depth') +\n",
    "      theme_bw() +\n",
    "      theme(legend.position = 'bottom',\n",
    "            plot.title = element_text(hjust = 0.5),\n",
    "            plot.subtitle = element_text(hjust = 0.5)) + scale_color_gradient(low=\"#FF9900\", high=\"#9900CC\", name = 'Depth', space = \"Lab\", na.value = \"#888888\", guide = \"colorbar\", aesthetics = \"color\")\n",
    "\n",
    "# Save plots\n",
    "ggsave('observed_features_Depth.png', height = 6, width = 6)"
   ]
  },
  {
   "cell_type": "code",
   "execution_count": null,
   "id": "5e3447bb",
   "metadata": {
    "DaysSinceExperimentStart": true,
    "Depth": true,
    "hide_input": true
   },
   "outputs": [],
   "source": [
    "Image(\"observed_features_Depth.png\")"
   ]
  },
  {
   "cell_type": "markdown",
   "id": "58bc48ab",
   "metadata": {},
   "source": [
    "\\pagebreak"
   ]
  },
  {
   "cell_type": "code",
   "execution_count": null,
   "id": "61cb2b94",
   "metadata": {
    "hide_input": true
   },
   "outputs": [],
   "source": [
    "# Read in the data\n",
    "df = pd.read_csv('observed_features.csv', sep=',')\n",
    "\n",
    "# Reshape the data into (mostly) long format\n",
    "headers = list(set(mdf.columns).intersection(set(df.columns)))\n",
    "df = df.melt(id_vars=['sample-id'] + headers)\n",
    "\n",
    "# Remove info on specific iterations to allow for grouping by value\n",
    "replacements = {x:int(x.split('_')[0].split('-')[1]) for x in df.variable.unique()}\n",
    "df.variable.replace(replacements, inplace=True)\n",
    "\n",
    "# For storing\n",
    "group_means = []\n",
    "\n",
    "for group_name in metadata_discrete:\n",
    "    # Remove the metadata not relevant to this grouping\n",
    "    groups = df[['sample-id', 'variable', 'value', group_name]]\n",
    "\n",
    "    # Calculate the means accross iterations\n",
    "    agger = {'value': 'mean', group_name: 'first'}\n",
    "    groups = groups.groupby(['sample-id', 'variable']).agg(agger).reset_index()\n",
    "\n",
    "    # Add a column to store the errors\n",
    "    groups = groups.assign(Error=groups.value)\n",
    "\n",
    "    # Group by metadata value and calculate the means and error\n",
    "    agger = {'Error': 'sem', 'value': 'mean'}\n",
    "    group = groups.groupby([group_name, 'variable']).agg(agger).reset_index()\n",
    "\n",
    "    # Assign information for the colors\n",
    "    colors = [color_maps[group_name][str(x)] for x in group[group_name]]\n",
    "    group = group.assign(GroupID=colors)\n",
    "\n",
    "    # Assign information for grouping\n",
    "    group_names = [group_name for x in group[group_name]]\n",
    "    group = group.assign(GroupName=group_names)\n",
    "\n",
    "    # Rename columns and append to the list of dataframes\n",
    "    new_names = {\n",
    "        'variable': 'SamplingDepth',\n",
    "        'value': 'AverageValue',\n",
    "         group_name: 'Grouping'\n",
    "    }\n",
    "    group_means.append(group.rename(index=str, columns=new_names))\n",
    "\n",
    "# Stack all the different groups into a single dataframe\n",
    "df = pd.concat(group_means, axis=0, sort=False)\n",
    "df.SamplingDepth = df.SamplingDepth.astype(float)\n",
    "df.Error = df.Error.astype(float)\n",
    "df.AverageValue = df.AverageValue.astype(float)\n",
    "df.Grouping = df.Grouping.astype(str)\n",
    "df.GroupID = df.GroupID.astype(str)\n",
    "df.GroupName = df.GroupName.astype(str)"
   ]
  },
  {
   "cell_type": "code",
   "execution_count": null,
   "id": "82c2a0ae",
   "metadata": {
    "hide_input": true
   },
   "outputs": [],
   "source": [
    "%%R -i df\n",
    "pd <- position_dodge(width = 50)\n",
    "\n",
    "p <- ggplot(data = df, aes(x = SamplingDepth, y = AverageValue, color = GroupID)) +\n",
    "     geom_errorbar(aes(ymin=AverageValue-Error, ymax=AverageValue+Error), width=100, position = pd) +\n",
    "     geom_point(stat='identity', position = pd, size = 1) +\n",
    "     geom_line(stat='identity', position = pd) +\n",
    "     facet_wrap(~GroupName) + colFill + colScale +\n",
    "     labs(title = 'Alpha Diversity',\n",
    "          subtitle = 'Grouped by Discrete Metadata Categories') +\n",
    "     theme_bw() +\n",
    "     theme(legend.position = 'none',\n",
    "           plot.title = element_text(hjust = 0.5),\n",
    "           plot.subtitle = element_text(hjust = 0.5))\n",
    "\n",
    "# Save plots\n",
    "ggsave('observed_features_Depth.png', height = 6, width = 6)"
   ]
  },
  {
   "cell_type": "code",
   "execution_count": null,
   "id": "8fae905c",
   "metadata": {
    "Ethnicity": true,
    "InterventionCode": true,
    "SpecimenBodySite": true,
    "SpecimenType": true,
    "hide_input": true
   },
   "outputs": [],
   "source": [
    "Image(\"observed_features_Depth.png\")"
   ]
  },
  {
   "cell_type": "markdown",
   "id": "dc7f1ec5",
   "metadata": {},
   "source": [
    "The above plot represents the average value of alpha diversity at each sampling depth. The error bars show the standard error within each group. Groups are determined by the metadata value in each category specified in the plot."
   ]
  },
  {
   "cell_type": "markdown",
   "id": "9e62e734",
   "metadata": {},
   "source": [
    "\\pagebreak"
   ]
  },
  {
   "cell_type": "code",
   "execution_count": null,
   "id": "a1c7b008",
   "metadata": {
    "hide_input": true
   },
   "outputs": [],
   "source": [
    "# Reset this variable\n",
    "latex = []\n",
    "with open('mod_revtex.tplx', 'r') as f:\n",
    "    lines = f.readlines()\n",
    "for i, line in enumerate(lines):\n",
    "    if '((* endblock packages *))' in line:\n",
    "        packages_end = i\n",
    "\n",
    "# Define the colors for each category/value in the alpha/beta plots\n",
    "for group_name, group in df.groupby('GroupName'):\n",
    "    zipped = zip(group.GroupID.unique(), group.Grouping.unique())\n",
    "    lists = ['{}/{}'.format(x, y) for x, y in zipped]\n",
    "    latex.append('\\\\def\\\\{group}{{{colors}}}\\n'.format(group=group_name, colors=','.join(lists)))\n",
    "\n",
    "new_lines = lines[:packages_end] + latex + lines[packages_end:]\n",
    "\n",
    "with open('mod_revtex.tplx', 'w') as f:\n",
    "    for line in new_lines:\n",
    "        f.write(line)"
   ]
  },
  {
   "cell_type": "markdown",
   "id": "3570bb16",
   "metadata": {},
   "source": [
    "# Beta Diversity"
   ]
  },
  {
   "cell_type": "markdown",
   "id": "b98f6ab8",
   "metadata": {},
   "source": [
    "## Interpreting Beta Diversity Results"
   ]
  },
  {
   "cell_type": "markdown",
   "id": "59dc7906",
   "metadata": {},
   "source": [
    "Beta diversity estimates how similar or dissimilar samples are based on their microbiome composition. Different to alpha diversity, which is estimated per sample, beta diversity is a distance that is calculated between pairs of samples. Samples that are similar to each other in their microbiome composition will have a low distance between them based on beta diversity, while those that are very different in their composition will have a large distance. Principal Coordinate Analysis (PCoA) is an ordination technique that visually represents the samples based on their beta diversity distances to facilitate the identification of clusters or gradients of samples. By default, the first three principal coordinates are shown in PCoA plots."
   ]
  },
  {
   "cell_type": "markdown",
   "id": "d256e691",
   "metadata": {},
   "source": [
    "## Bray-Curtis, grouped by DaysSinceExperimentStart"
   ]
  },
  {
   "cell_type": "code",
   "execution_count": null,
   "id": "c63f2650",
   "metadata": {
    "hide_input": true
   },
   "outputs": [],
   "source": [
    "import pandas as pd\n",
    "with open('bray_curtis_pcoa_results.txt') as f:\n",
    "    page = f.read()\n",
    "\n",
    "store = {}\n",
    "# Parse the PCA information file\n",
    "for i, line in enumerate(page.split('\\n')):\n",
    "    parts = line.split('\\t')\n",
    "    if i == 0:\n",
    "        length = int(parts[1])\n",
    "    if i > 9 :\n",
    "        if line == '':\n",
    "            break\n",
    "        store[parts[0]] = list(map(float, parts[1:length]))\n",
    "\n",
    "# Create a dataframe and name the axes\n",
    "df = pd.DataFrame.from_dict(store).T\n",
    "cols = {x:'PC{}'.format(x + 1) for x in df.columns}\n",
    "df = df.rename(index=str, columns=cols)\n",
    "\n",
    "# Assign variable to DataFrame\n",
    "df = df.assign(variable=mdf['DaysSinceExperimentStart'][[x for x in df.axes[0]]])"
   ]
  },
  {
   "cell_type": "code",
   "execution_count": null,
   "id": "813ccff9",
   "metadata": {
    "hide_input": true
   },
   "outputs": [],
   "source": [
    "%%R -i df\n",
    "\n",
    "# Create the plots for the first three PCs\n",
    "png('bray_curtis_pcoa_results-DaysSinceExperimentStart.png', width = 6, height = 6, unit='in', res=200)\n",
    "p <- ggpairs(df[,c(1:3)],\n",
    "             legend = 4,\n",
    "             upper = list(continuous = \"points\", combo = \"box_no_facet\"),\n",
    "             lower = list(continuous = \"points\", combo = \"dot_no_facet\"),\n",
    "             aes(color = df$variable, label = rownames(df)), alpha = 1.0) +\n",
    "         theme_bw() +\n",
    "         theme(legend.position = 'bottom',\n",
    "               plot.title = element_text(hjust = 0.5),\n",
    "               plot.subtitle = element_text(hjust = 0.5)) +\n",
    "         labs(title = 'PCA plot',\n",
    "              subtitle = 'Colored by DaysSinceExperimentStart') +\n",
    "         scale_color_gradient(low=\"#0000FF\", high=\"#FF0000\", name = 'DaysSinceExperimentStart', space = \"Lab\", na.value = \"#888888\", guide = \"colorbar\", aesthetics = \"color\")\n",
    "\n",
    "print(p)\n",
    "out <- dev.off()\n",
    "\n",
    "# Print the individual PCA plots with labels\n",
    "for(i in 1:p$nrow) {\n",
    "    for(j in 1:p$ncol){\n",
    "        # Only print the PCAs not the frequency distributions\n",
    "        if (i > 2 && j < 3 || i > 1 && j < 2) {\n",
    "            # Setup and save each individual PCA plot\n",
    "            filename <- sprintf('bray_curtis_pcoa_results-DaysSinceExperimentStart-%s-%s.png',\n",
    "                                p[i, j]$labels$x,\n",
    "                                p[i, j]$labels$y)\n",
    "            png(filename, width = 6, height = 6, unit='in', res=200)\n",
    "            sp <- p[i,j] + geom_text_repel(color = \"black\", alpha = 0.35, max.overlaps = Inf) +\n",
    "                      theme(legend.position = 'bottom',\n",
    "                            plot.title = element_text(hjust = 0.5),\n",
    "                            plot.subtitle = element_text(hjust = 0.5)) +\n",
    "                      labs(title = sprintf('%s vs. %s',\n",
    "                                           p[i, j]$labels$x,\n",
    "                                           p[i, j]$labels$y),\n",
    "                           subtitle = 'Colored by DaysSinceExperimentStart') +\n",
    "                      scale_color_gradient(low=\"#0000FF\", high=\"#FF0000\", name = 'DaysSinceExperimentStart', space = \"Lab\", na.value = \"#888888\", guide = \"colorbar\", aesthetics = \"color\")\n",
    "            print(sp)\n",
    "            out <- dev.off()\n",
    "        }\n",
    "    }\n",
    "}"
   ]
  },
  {
   "cell_type": "code",
   "execution_count": null,
   "id": "86bfe18c",
   "metadata": {
    "DaysSinceExperimentStart": true,
    "hide_input": true
   },
   "outputs": [],
   "source": [
    "Image(\"bray_curtis_pcoa_results-DaysSinceExperimentStart.png\")"
   ]
  },
  {
   "cell_type": "markdown",
   "id": "73df0554",
   "metadata": {},
   "source": [
    "The above plot represents the first three compenents created when performing Principle Component Analysis on the Beta diversity of the samples."
   ]
  },
  {
   "cell_type": "code",
   "execution_count": null,
   "id": "00270df6",
   "metadata": {
    "DaysSinceExperimentStart": true,
    "hide_input": true
   },
   "outputs": [],
   "source": [
    "Image(\"bray_curtis_pcoa_results-DaysSinceExperimentStart-PC1-PC2.png\")"
   ]
  },
  {
   "cell_type": "code",
   "execution_count": null,
   "id": "621726f6",
   "metadata": {
    "DaysSinceExperimentStart": true,
    "hide_input": true
   },
   "outputs": [],
   "source": [
    "Image(\"bray_curtis_pcoa_results-DaysSinceExperimentStart-PC1-PC3.png\")"
   ]
  },
  {
   "cell_type": "code",
   "execution_count": null,
   "id": "7d6bd495",
   "metadata": {
    "DaysSinceExperimentStart": true,
    "hide_input": true
   },
   "outputs": [],
   "source": [
    "Image(\"bray_curtis_pcoa_results-DaysSinceExperimentStart-PC2-PC3.png\")"
   ]
  },
  {
   "cell_type": "markdown",
   "id": "8056d42c",
   "metadata": {},
   "source": [
    "\\pagebreak"
   ]
  },
  {
   "cell_type": "markdown",
   "id": "ad423158",
   "metadata": {},
   "source": [
    "## Bray-Curtis, grouped by Depth"
   ]
  },
  {
   "cell_type": "code",
   "execution_count": null,
   "id": "0fa02a94",
   "metadata": {
    "hide_input": true
   },
   "outputs": [],
   "source": [
    "import pandas as pd\n",
    "with open('bray_curtis_pcoa_results.txt') as f:\n",
    "    page = f.read()\n",
    "\n",
    "store = {}\n",
    "# Parse the PCA information file\n",
    "for i, line in enumerate(page.split('\\n')):\n",
    "    parts = line.split('\\t')\n",
    "    if i == 0:\n",
    "        length = int(parts[1])\n",
    "    if i > 9 :\n",
    "        if line == '':\n",
    "            break\n",
    "        store[parts[0]] = list(map(float, parts[1:length]))\n",
    "\n",
    "# Create a dataframe and name the axes\n",
    "df = pd.DataFrame.from_dict(store).T\n",
    "cols = {x:'PC{}'.format(x + 1) for x in df.columns}\n",
    "df = df.rename(index=str, columns=cols)\n",
    "\n",
    "# Assign variable to DataFrame\n",
    "df = df.assign(variable=mdf['Depth'][[x for x in df.axes[0]]])"
   ]
  },
  {
   "cell_type": "code",
   "execution_count": null,
   "id": "2257efcc",
   "metadata": {
    "hide_input": true
   },
   "outputs": [],
   "source": [
    "%%R -i df\n",
    "\n",
    "# Create the plots for the first three PCs\n",
    "png('bray_curtis_pcoa_results-Depth.png', width = 6, height = 6, unit='in', res=200)\n",
    "p <- ggpairs(df[,c(1:3)],\n",
    "             legend = 4,\n",
    "             upper = list(continuous = \"points\", combo = \"box_no_facet\"),\n",
    "             lower = list(continuous = \"points\", combo = \"dot_no_facet\"),\n",
    "             aes(color = df$variable, label = rownames(df)), alpha = 1.0) +\n",
    "         theme_bw() +\n",
    "         theme(legend.position = 'bottom',\n",
    "               plot.title = element_text(hjust = 0.5),\n",
    "               plot.subtitle = element_text(hjust = 0.5)) +\n",
    "         labs(title = 'PCA plot',\n",
    "              subtitle = 'Colored by Depth') +\n",
    "         scale_color_gradient(low=\"#FF9900\", high=\"#9900CC\", name = 'Depth', space = \"Lab\", na.value = \"#888888\", guide = \"colorbar\", aesthetics = \"color\")\n",
    "\n",
    "print(p)\n",
    "out <- dev.off()\n",
    "\n",
    "# Print the individual PCA plots with labels\n",
    "for(i in 1:p$nrow) {\n",
    "    for(j in 1:p$ncol){\n",
    "        # Only print the PCAs not the frequency distributions\n",
    "        if (i > 2 && j < 3 || i > 1 && j < 2) {\n",
    "            # Setup and save each individual PCA plot\n",
    "            filename <- sprintf('bray_curtis_pcoa_results-Depth-%s-%s.png',\n",
    "                                p[i, j]$labels$x,\n",
    "                                p[i, j]$labels$y)\n",
    "            png(filename, width = 6, height = 6, unit='in', res=200)\n",
    "            sp <- p[i,j] + geom_text_repel(color = \"black\", alpha = 0.35, max.overlaps = Inf) +\n",
    "                      theme(legend.position = 'bottom',\n",
    "                            plot.title = element_text(hjust = 0.5),\n",
    "                            plot.subtitle = element_text(hjust = 0.5)) +\n",
    "                      labs(title = sprintf('%s vs. %s',\n",
    "                                           p[i, j]$labels$x,\n",
    "                                           p[i, j]$labels$y),\n",
    "                           subtitle = 'Colored by Depth') +\n",
    "                      scale_color_gradient(low=\"#FF9900\", high=\"#9900CC\", name = 'Depth', space = \"Lab\", na.value = \"#888888\", guide = \"colorbar\", aesthetics = \"color\")\n",
    "            print(sp)\n",
    "            out <- dev.off()\n",
    "        }\n",
    "    }\n",
    "}"
   ]
  },
  {
   "cell_type": "code",
   "execution_count": null,
   "id": "67d87136",
   "metadata": {
    "Depth": true,
    "hide_input": true
   },
   "outputs": [],
   "source": [
    "Image(\"bray_curtis_pcoa_results-Depth.png\")"
   ]
  },
  {
   "cell_type": "markdown",
   "id": "6bbe2e9b",
   "metadata": {},
   "source": [
    "The above plot represents the first three compenents created when performing Principle Component Analysis on the Beta diversity of the samples."
   ]
  },
  {
   "cell_type": "code",
   "execution_count": null,
   "id": "837d9707",
   "metadata": {
    "Depth": true,
    "hide_input": true
   },
   "outputs": [],
   "source": [
    "Image(\"bray_curtis_pcoa_results-Depth-PC1-PC2.png\")"
   ]
  },
  {
   "cell_type": "code",
   "execution_count": null,
   "id": "c6f5f4ff",
   "metadata": {
    "Depth": true,
    "hide_input": true
   },
   "outputs": [],
   "source": [
    "Image(\"bray_curtis_pcoa_results-Depth-PC1-PC3.png\")"
   ]
  },
  {
   "cell_type": "code",
   "execution_count": null,
   "id": "ae3536e9",
   "metadata": {
    "Depth": true,
    "hide_input": true
   },
   "outputs": [],
   "source": [
    "Image(\"bray_curtis_pcoa_results-Depth-PC2-PC3.png\")"
   ]
  },
  {
   "cell_type": "markdown",
   "id": "e0c9fbe4",
   "metadata": {},
   "source": [
    "\\pagebreak"
   ]
  },
  {
   "cell_type": "markdown",
   "id": "50d43903",
   "metadata": {},
   "source": [
    "## Bray-Curtis, grouped by Ethnicity"
   ]
  },
  {
   "cell_type": "code",
   "execution_count": null,
   "id": "6dfa2929",
   "metadata": {
    "hide_input": true
   },
   "outputs": [],
   "source": [
    "import pandas as pd\n",
    "with open('bray_curtis_pcoa_results.txt') as f:\n",
    "    page = f.read()\n",
    "\n",
    "store = {}\n",
    "# Parse the PCA information file\n",
    "for i, line in enumerate(page.split('\\n')):\n",
    "    parts = line.split('\\t')\n",
    "    if i == 0:\n",
    "        length = int(parts[1])\n",
    "    if i > 9 :\n",
    "        if line == '':\n",
    "            break\n",
    "        store[parts[0]] = list(map(float, parts[1:length]))\n",
    "\n",
    "# Create a dataframe and name the axes\n",
    "df = pd.DataFrame.from_dict(store).T\n",
    "cols = {x:'PC{}'.format(x + 1) for x in df.columns}\n",
    "df = df.rename(index=str, columns=cols)\n",
    "\n",
    "# Assign GroupIDs based on metadata\n",
    "samples = mdf['Ethnicity'][[x for x in df.axes[0]]]\n",
    "df = df.assign(GroupID=[color_maps['Ethnicity'][str(x)] for x in samples])"
   ]
  },
  {
   "cell_type": "code",
   "execution_count": null,
   "id": "f3920d9e",
   "metadata": {
    "hide_input": true
   },
   "outputs": [],
   "source": [
    "%%R -i df\n",
    "\n",
    "# Create the plots for the first three PCs\n",
    "png('bray_curtis_pcoa_results-Ethnicity.png', width = 6, height = 6, unit='in', res=200)\n",
    "p <- ggpairs(df[,c(1:3)],\n",
    "             upper = list(continuous = \"points\", combo = \"box_no_facet\"),\n",
    "             lower = list(continuous = \"points\", combo = \"dot_no_facet\"),\n",
    "             aes(color = df$GroupID, label = rownames(df), alpha=0.5)) +\n",
    "         theme_bw() +\n",
    "         theme(legend.position = 'none',\n",
    "               plot.title = element_text(hjust = 0.5),\n",
    "               plot.subtitle = element_text(hjust = 0.5)) +\n",
    "         labs(title = 'PCA plot',\n",
    "              subtitle = 'Colored by Ethnicity')\n",
    "\n",
    "# Add the color palette to each of the plots\n",
    "for(i in 1:p$nrow) {\n",
    "    for(j in 1:p$ncol){\n",
    "        p[i,j] <- p[i,j] + colScale + colFill\n",
    "    }\n",
    "}\n",
    "print(p)\n",
    "out <- dev.off()\n",
    "\n",
    "# Print the individual PCA plots with labels\n",
    "for(i in 1:p$nrow) {\n",
    "    for(j in 1:p$ncol){\n",
    "        # Only print the PCAs not the frequency distributions\n",
    "        if (i > 2 && j < 3 || i > 1 && j < 2) {\n",
    "            # Setup and save each individual PCA plot\n",
    "            filename <- sprintf('bray_curtis_pcoa_results-Ethnicity-%s-%s.png',\n",
    "                                p[i, j]$labels$x,\n",
    "                                p[i, j]$labels$y)\n",
    "            png(filename, width = 6, height = 6, unit='in', res=200)\n",
    "            sp <- p[i,j] + geom_text_repel(color = \"black\", alpha = 0.35, max.overlaps = Inf) +\n",
    "                      theme(legend.position = 'none',\n",
    "                            plot.title = element_text(hjust = 0.5),\n",
    "                            plot.subtitle = element_text(hjust = 0.5)) +\n",
    "                      labs(title = sprintf('%s vs. %s',\n",
    "                                           p[i, j]$labels$x,\n",
    "                                           p[i, j]$labels$y),\n",
    "                           subtitle = 'Colored by Ethnicity')\n",
    "            print(sp)\n",
    "            out <- dev.off()\n",
    "        }\n",
    "    }\n",
    "}"
   ]
  },
  {
   "cell_type": "code",
   "execution_count": null,
   "id": "d6a56c26",
   "metadata": {
    "Ethnicity": true,
    "hide_input": true
   },
   "outputs": [],
   "source": [
    "Image(\"bray_curtis_pcoa_results-Ethnicity.png\")"
   ]
  },
  {
   "cell_type": "markdown",
   "id": "74e92825",
   "metadata": {},
   "source": [
    "The above plot represents the first three compenents created when performing Principle Component Analysis on the Beta diversity of the samples."
   ]
  },
  {
   "cell_type": "code",
   "execution_count": null,
   "id": "638a87d4",
   "metadata": {
    "Ethnicity": true,
    "hide_input": true
   },
   "outputs": [],
   "source": [
    "Image(\"bray_curtis_pcoa_results-Ethnicity-PC1-PC2.png\")"
   ]
  },
  {
   "cell_type": "code",
   "execution_count": null,
   "id": "33ade135",
   "metadata": {
    "Ethnicity": true,
    "hide_input": true
   },
   "outputs": [],
   "source": [
    "Image(\"bray_curtis_pcoa_results-Ethnicity-PC1-PC3.png\")"
   ]
  },
  {
   "cell_type": "code",
   "execution_count": null,
   "id": "2bee0e3a",
   "metadata": {
    "Ethnicity": true,
    "hide_input": true
   },
   "outputs": [],
   "source": [
    "Image(\"bray_curtis_pcoa_results-Ethnicity-PC2-PC3.png\")"
   ]
  },
  {
   "cell_type": "markdown",
   "id": "0dc80fd9",
   "metadata": {},
   "source": [
    "\\pagebreak"
   ]
  },
  {
   "cell_type": "markdown",
   "id": "ad187110",
   "metadata": {},
   "source": [
    "## Bray-Curtis, grouped by InterventionCode"
   ]
  },
  {
   "cell_type": "code",
   "execution_count": null,
   "id": "30c1de5e",
   "metadata": {
    "hide_input": true
   },
   "outputs": [],
   "source": [
    "import pandas as pd\n",
    "with open('bray_curtis_pcoa_results.txt') as f:\n",
    "    page = f.read()\n",
    "\n",
    "store = {}\n",
    "# Parse the PCA information file\n",
    "for i, line in enumerate(page.split('\\n')):\n",
    "    parts = line.split('\\t')\n",
    "    if i == 0:\n",
    "        length = int(parts[1])\n",
    "    if i > 9 :\n",
    "        if line == '':\n",
    "            break\n",
    "        store[parts[0]] = list(map(float, parts[1:length]))\n",
    "\n",
    "# Create a dataframe and name the axes\n",
    "df = pd.DataFrame.from_dict(store).T\n",
    "cols = {x:'PC{}'.format(x + 1) for x in df.columns}\n",
    "df = df.rename(index=str, columns=cols)\n",
    "\n",
    "# Assign GroupIDs based on metadata\n",
    "samples = mdf['InterventionCode'][[x for x in df.axes[0]]]\n",
    "df = df.assign(GroupID=[color_maps['InterventionCode'][str(x)] for x in samples])"
   ]
  },
  {
   "cell_type": "code",
   "execution_count": null,
   "id": "ab64fd6f",
   "metadata": {
    "hide_input": true
   },
   "outputs": [],
   "source": [
    "%%R -i df\n",
    "\n",
    "# Create the plots for the first three PCs\n",
    "png('bray_curtis_pcoa_results-InterventionCode.png', width = 6, height = 6, unit='in', res=200)\n",
    "p <- ggpairs(df[,c(1:3)],\n",
    "             upper = list(continuous = \"points\", combo = \"box_no_facet\"),\n",
    "             lower = list(continuous = \"points\", combo = \"dot_no_facet\"),\n",
    "             aes(color = df$GroupID, label = rownames(df), alpha=0.5)) +\n",
    "         theme_bw() +\n",
    "         theme(legend.position = 'none',\n",
    "               plot.title = element_text(hjust = 0.5),\n",
    "               plot.subtitle = element_text(hjust = 0.5)) +\n",
    "         labs(title = 'PCA plot',\n",
    "              subtitle = 'Colored by InterventionCode')\n",
    "\n",
    "# Add the color palette to each of the plots\n",
    "for(i in 1:p$nrow) {\n",
    "    for(j in 1:p$ncol){\n",
    "        p[i,j] <- p[i,j] + colScale + colFill\n",
    "    }\n",
    "}\n",
    "print(p)\n",
    "out <- dev.off()\n",
    "\n",
    "# Print the individual PCA plots with labels\n",
    "for(i in 1:p$nrow) {\n",
    "    for(j in 1:p$ncol){\n",
    "        # Only print the PCAs not the frequency distributions\n",
    "        if (i > 2 && j < 3 || i > 1 && j < 2) {\n",
    "            # Setup and save each individual PCA plot\n",
    "            filename <- sprintf('bray_curtis_pcoa_results-InterventionCode-%s-%s.png',\n",
    "                                p[i, j]$labels$x,\n",
    "                                p[i, j]$labels$y)\n",
    "            png(filename, width = 6, height = 6, unit='in', res=200)\n",
    "            sp <- p[i,j] + geom_text_repel(color = \"black\", alpha = 0.35, max.overlaps = Inf) +\n",
    "                      theme(legend.position = 'none',\n",
    "                            plot.title = element_text(hjust = 0.5),\n",
    "                            plot.subtitle = element_text(hjust = 0.5)) +\n",
    "                      labs(title = sprintf('%s vs. %s',\n",
    "                                           p[i, j]$labels$x,\n",
    "                                           p[i, j]$labels$y),\n",
    "                           subtitle = 'Colored by InterventionCode')\n",
    "            print(sp)\n",
    "            out <- dev.off()\n",
    "        }\n",
    "    }\n",
    "}"
   ]
  },
  {
   "cell_type": "code",
   "execution_count": null,
   "id": "20eb6cc4",
   "metadata": {
    "InterventionCode": true,
    "hide_input": true
   },
   "outputs": [],
   "source": [
    "Image(\"bray_curtis_pcoa_results-InterventionCode.png\")"
   ]
  },
  {
   "cell_type": "markdown",
   "id": "cd51cf57",
   "metadata": {},
   "source": [
    "The above plot represents the first three compenents created when performing Principle Component Analysis on the Beta diversity of the samples."
   ]
  },
  {
   "cell_type": "code",
   "execution_count": null,
   "id": "f918d86e",
   "metadata": {
    "InterventionCode": true,
    "hide_input": true
   },
   "outputs": [],
   "source": [
    "Image(\"bray_curtis_pcoa_results-InterventionCode-PC1-PC2.png\")"
   ]
  },
  {
   "cell_type": "code",
   "execution_count": null,
   "id": "9f36b38d",
   "metadata": {
    "InterventionCode": true,
    "hide_input": true
   },
   "outputs": [],
   "source": [
    "Image(\"bray_curtis_pcoa_results-InterventionCode-PC1-PC3.png\")"
   ]
  },
  {
   "cell_type": "code",
   "execution_count": null,
   "id": "73d1735d",
   "metadata": {
    "InterventionCode": true,
    "hide_input": true
   },
   "outputs": [],
   "source": [
    "Image(\"bray_curtis_pcoa_results-InterventionCode-PC2-PC3.png\")"
   ]
  },
  {
   "cell_type": "markdown",
   "id": "cec54c05",
   "metadata": {},
   "source": [
    "\\pagebreak"
   ]
  },
  {
   "cell_type": "markdown",
   "id": "1e1d7adb",
   "metadata": {},
   "source": [
    "## Bray-Curtis, grouped by SpecimenBodySite"
   ]
  },
  {
   "cell_type": "code",
   "execution_count": null,
   "id": "0cf1802a",
   "metadata": {
    "hide_input": true
   },
   "outputs": [],
   "source": [
    "import pandas as pd\n",
    "with open('bray_curtis_pcoa_results.txt') as f:\n",
    "    page = f.read()\n",
    "\n",
    "store = {}\n",
    "# Parse the PCA information file\n",
    "for i, line in enumerate(page.split('\\n')):\n",
    "    parts = line.split('\\t')\n",
    "    if i == 0:\n",
    "        length = int(parts[1])\n",
    "    if i > 9 :\n",
    "        if line == '':\n",
    "            break\n",
    "        store[parts[0]] = list(map(float, parts[1:length]))\n",
    "\n",
    "# Create a dataframe and name the axes\n",
    "df = pd.DataFrame.from_dict(store).T\n",
    "cols = {x:'PC{}'.format(x + 1) for x in df.columns}\n",
    "df = df.rename(index=str, columns=cols)\n",
    "\n",
    "# Assign GroupIDs based on metadata\n",
    "samples = mdf['SpecimenBodySite'][[x for x in df.axes[0]]]\n",
    "df = df.assign(GroupID=[color_maps['SpecimenBodySite'][str(x)] for x in samples])"
   ]
  },
  {
   "cell_type": "code",
   "execution_count": null,
   "id": "24b9052e",
   "metadata": {
    "hide_input": true
   },
   "outputs": [],
   "source": [
    "%%R -i df\n",
    "\n",
    "# Create the plots for the first three PCs\n",
    "png('bray_curtis_pcoa_results-SpecimenBodySite.png', width = 6, height = 6, unit='in', res=200)\n",
    "p <- ggpairs(df[,c(1:3)],\n",
    "             upper = list(continuous = \"points\", combo = \"box_no_facet\"),\n",
    "             lower = list(continuous = \"points\", combo = \"dot_no_facet\"),\n",
    "             aes(color = df$GroupID, label = rownames(df), alpha=0.5)) +\n",
    "         theme_bw() +\n",
    "         theme(legend.position = 'none',\n",
    "               plot.title = element_text(hjust = 0.5),\n",
    "               plot.subtitle = element_text(hjust = 0.5)) +\n",
    "         labs(title = 'PCA plot',\n",
    "              subtitle = 'Colored by SpecimenBodySite')\n",
    "\n",
    "# Add the color palette to each of the plots\n",
    "for(i in 1:p$nrow) {\n",
    "    for(j in 1:p$ncol){\n",
    "        p[i,j] <- p[i,j] + colScale + colFill\n",
    "    }\n",
    "}\n",
    "print(p)\n",
    "out <- dev.off()\n",
    "\n",
    "# Print the individual PCA plots with labels\n",
    "for(i in 1:p$nrow) {\n",
    "    for(j in 1:p$ncol){\n",
    "        # Only print the PCAs not the frequency distributions\n",
    "        if (i > 2 && j < 3 || i > 1 && j < 2) {\n",
    "            # Setup and save each individual PCA plot\n",
    "            filename <- sprintf('bray_curtis_pcoa_results-SpecimenBodySite-%s-%s.png',\n",
    "                                p[i, j]$labels$x,\n",
    "                                p[i, j]$labels$y)\n",
    "            png(filename, width = 6, height = 6, unit='in', res=200)\n",
    "            sp <- p[i,j] + geom_text_repel(color = \"black\", alpha = 0.35, max.overlaps = Inf) +\n",
    "                      theme(legend.position = 'none',\n",
    "                            plot.title = element_text(hjust = 0.5),\n",
    "                            plot.subtitle = element_text(hjust = 0.5)) +\n",
    "                      labs(title = sprintf('%s vs. %s',\n",
    "                                           p[i, j]$labels$x,\n",
    "                                           p[i, j]$labels$y),\n",
    "                           subtitle = 'Colored by SpecimenBodySite')\n",
    "            print(sp)\n",
    "            out <- dev.off()\n",
    "        }\n",
    "    }\n",
    "}"
   ]
  },
  {
   "cell_type": "code",
   "execution_count": null,
   "id": "50762504",
   "metadata": {
    "SpecimenBodySite": true,
    "hide_input": true
   },
   "outputs": [],
   "source": [
    "Image(\"bray_curtis_pcoa_results-SpecimenBodySite.png\")"
   ]
  },
  {
   "cell_type": "markdown",
   "id": "c10d0edd",
   "metadata": {},
   "source": [
    "The above plot represents the first three compenents created when performing Principle Component Analysis on the Beta diversity of the samples."
   ]
  },
  {
   "cell_type": "code",
   "execution_count": null,
   "id": "b32a34fb",
   "metadata": {
    "SpecimenBodySite": true,
    "hide_input": true
   },
   "outputs": [],
   "source": [
    "Image(\"bray_curtis_pcoa_results-SpecimenBodySite-PC1-PC2.png\")"
   ]
  },
  {
   "cell_type": "code",
   "execution_count": null,
   "id": "e94b0576",
   "metadata": {
    "SpecimenBodySite": true,
    "hide_input": true
   },
   "outputs": [],
   "source": [
    "Image(\"bray_curtis_pcoa_results-SpecimenBodySite-PC1-PC3.png\")"
   ]
  },
  {
   "cell_type": "code",
   "execution_count": null,
   "id": "f1e8d1b8",
   "metadata": {
    "SpecimenBodySite": true,
    "hide_input": true
   },
   "outputs": [],
   "source": [
    "Image(\"bray_curtis_pcoa_results-SpecimenBodySite-PC2-PC3.png\")"
   ]
  },
  {
   "cell_type": "markdown",
   "id": "ab956892",
   "metadata": {},
   "source": [
    "\\pagebreak"
   ]
  },
  {
   "cell_type": "markdown",
   "id": "faba49cd",
   "metadata": {},
   "source": [
    "## Bray-Curtis, grouped by SpecimenType"
   ]
  },
  {
   "cell_type": "code",
   "execution_count": null,
   "id": "d83d0819",
   "metadata": {
    "hide_input": true
   },
   "outputs": [],
   "source": [
    "import pandas as pd\n",
    "with open('bray_curtis_pcoa_results.txt') as f:\n",
    "    page = f.read()\n",
    "\n",
    "store = {}\n",
    "# Parse the PCA information file\n",
    "for i, line in enumerate(page.split('\\n')):\n",
    "    parts = line.split('\\t')\n",
    "    if i == 0:\n",
    "        length = int(parts[1])\n",
    "    if i > 9 :\n",
    "        if line == '':\n",
    "            break\n",
    "        store[parts[0]] = list(map(float, parts[1:length]))\n",
    "\n",
    "# Create a dataframe and name the axes\n",
    "df = pd.DataFrame.from_dict(store).T\n",
    "cols = {x:'PC{}'.format(x + 1) for x in df.columns}\n",
    "df = df.rename(index=str, columns=cols)\n",
    "\n",
    "# Assign GroupIDs based on metadata\n",
    "samples = mdf['SpecimenType'][[x for x in df.axes[0]]]\n",
    "df = df.assign(GroupID=[color_maps['SpecimenType'][str(x)] for x in samples])"
   ]
  },
  {
   "cell_type": "code",
   "execution_count": null,
   "id": "9b0ffbee",
   "metadata": {
    "hide_input": true
   },
   "outputs": [],
   "source": [
    "%%R -i df\n",
    "\n",
    "# Create the plots for the first three PCs\n",
    "png('bray_curtis_pcoa_results-SpecimenType.png', width = 6, height = 6, unit='in', res=200)\n",
    "p <- ggpairs(df[,c(1:3)],\n",
    "             upper = list(continuous = \"points\", combo = \"box_no_facet\"),\n",
    "             lower = list(continuous = \"points\", combo = \"dot_no_facet\"),\n",
    "             aes(color = df$GroupID, label = rownames(df), alpha=0.5)) +\n",
    "         theme_bw() +\n",
    "         theme(legend.position = 'none',\n",
    "               plot.title = element_text(hjust = 0.5),\n",
    "               plot.subtitle = element_text(hjust = 0.5)) +\n",
    "         labs(title = 'PCA plot',\n",
    "              subtitle = 'Colored by SpecimenType')\n",
    "\n",
    "# Add the color palette to each of the plots\n",
    "for(i in 1:p$nrow) {\n",
    "    for(j in 1:p$ncol){\n",
    "        p[i,j] <- p[i,j] + colScale + colFill\n",
    "    }\n",
    "}\n",
    "print(p)\n",
    "out <- dev.off()\n",
    "\n",
    "# Print the individual PCA plots with labels\n",
    "for(i in 1:p$nrow) {\n",
    "    for(j in 1:p$ncol){\n",
    "        # Only print the PCAs not the frequency distributions\n",
    "        if (i > 2 && j < 3 || i > 1 && j < 2) {\n",
    "            # Setup and save each individual PCA plot\n",
    "            filename <- sprintf('bray_curtis_pcoa_results-SpecimenType-%s-%s.png',\n",
    "                                p[i, j]$labels$x,\n",
    "                                p[i, j]$labels$y)\n",
    "            png(filename, width = 6, height = 6, unit='in', res=200)\n",
    "            sp <- p[i,j] + geom_text_repel(color = \"black\", alpha = 0.35, max.overlaps = Inf) +\n",
    "                      theme(legend.position = 'none',\n",
    "                            plot.title = element_text(hjust = 0.5),\n",
    "                            plot.subtitle = element_text(hjust = 0.5)) +\n",
    "                      labs(title = sprintf('%s vs. %s',\n",
    "                                           p[i, j]$labels$x,\n",
    "                                           p[i, j]$labels$y),\n",
    "                           subtitle = 'Colored by SpecimenType')\n",
    "            print(sp)\n",
    "            out <- dev.off()\n",
    "        }\n",
    "    }\n",
    "}"
   ]
  },
  {
   "cell_type": "code",
   "execution_count": null,
   "id": "66419e21",
   "metadata": {
    "SpecimenType": true,
    "hide_input": true
   },
   "outputs": [],
   "source": [
    "Image(\"bray_curtis_pcoa_results-SpecimenType.png\")"
   ]
  },
  {
   "cell_type": "markdown",
   "id": "deb1cb12",
   "metadata": {},
   "source": [
    "The above plot represents the first three compenents created when performing Principle Component Analysis on the Beta diversity of the samples."
   ]
  },
  {
   "cell_type": "code",
   "execution_count": null,
   "id": "8a0feb50",
   "metadata": {
    "SpecimenType": true,
    "hide_input": true
   },
   "outputs": [],
   "source": [
    "Image(\"bray_curtis_pcoa_results-SpecimenType-PC1-PC2.png\")"
   ]
  },
  {
   "cell_type": "code",
   "execution_count": null,
   "id": "d029b188",
   "metadata": {
    "SpecimenType": true,
    "hide_input": true
   },
   "outputs": [],
   "source": [
    "Image(\"bray_curtis_pcoa_results-SpecimenType-PC1-PC3.png\")"
   ]
  },
  {
   "cell_type": "code",
   "execution_count": null,
   "id": "8dcbd787",
   "metadata": {
    "SpecimenType": true,
    "hide_input": true
   },
   "outputs": [],
   "source": [
    "Image(\"bray_curtis_pcoa_results-SpecimenType-PC2-PC3.png\")"
   ]
  },
  {
   "cell_type": "markdown",
   "id": "1dec1f78",
   "metadata": {},
   "source": [
    "\\pagebreak"
   ]
  },
  {
   "cell_type": "markdown",
   "id": "a62d7e5f",
   "metadata": {},
   "source": [
    "## Unweighted UniFrac, grouped by DaysSinceExperimentStart"
   ]
  },
  {
   "cell_type": "code",
   "execution_count": null,
   "id": "0f353dd4",
   "metadata": {
    "hide_input": true
   },
   "outputs": [],
   "source": [
    "import pandas as pd\n",
    "with open('unweighted_unifrac_pcoa_results.txt') as f:\n",
    "    page = f.read()\n",
    "\n",
    "store = {}\n",
    "# Parse the PCA information file\n",
    "for i, line in enumerate(page.split('\\n')):\n",
    "    parts = line.split('\\t')\n",
    "    if i == 0:\n",
    "        length = int(parts[1])\n",
    "    if i > 9 :\n",
    "        if line == '':\n",
    "            break\n",
    "        store[parts[0]] = list(map(float, parts[1:length]))\n",
    "\n",
    "# Create a dataframe and name the axes\n",
    "df = pd.DataFrame.from_dict(store).T\n",
    "cols = {x:'PC{}'.format(x + 1) for x in df.columns}\n",
    "df = df.rename(index=str, columns=cols)\n",
    "\n",
    "# Assign variable to DataFrame\n",
    "df = df.assign(variable=mdf['DaysSinceExperimentStart'][[x for x in df.axes[0]]])"
   ]
  },
  {
   "cell_type": "code",
   "execution_count": null,
   "id": "ec57b20e",
   "metadata": {
    "hide_input": true
   },
   "outputs": [],
   "source": [
    "%%R -i df\n",
    "\n",
    "# Create the plots for the first three PCs\n",
    "png('unweighted_unifrac_pcoa_results-DaysSinceExperimentStart.png', width = 6, height = 6, unit='in', res=200)\n",
    "p <- ggpairs(df[,c(1:3)],\n",
    "             legend = 4,\n",
    "             upper = list(continuous = \"points\", combo = \"box_no_facet\"),\n",
    "             lower = list(continuous = \"points\", combo = \"dot_no_facet\"),\n",
    "             aes(color = df$variable, label = rownames(df)), alpha = 1.0) +\n",
    "         theme_bw() +\n",
    "         theme(legend.position = 'bottom',\n",
    "               plot.title = element_text(hjust = 0.5),\n",
    "               plot.subtitle = element_text(hjust = 0.5)) +\n",
    "         labs(title = 'PCA plot',\n",
    "              subtitle = 'Colored by DaysSinceExperimentStart') +\n",
    "         scale_color_gradient(low=\"#0000FF\", high=\"#FF0000\", name = 'DaysSinceExperimentStart', space = \"Lab\", na.value = \"#888888\", guide = \"colorbar\", aesthetics = \"color\")\n",
    "\n",
    "print(p)\n",
    "out <- dev.off()\n",
    "\n",
    "# Print the individual PCA plots with labels\n",
    "for(i in 1:p$nrow) {\n",
    "    for(j in 1:p$ncol){\n",
    "        # Only print the PCAs not the frequency distributions\n",
    "        if (i > 2 && j < 3 || i > 1 && j < 2) {\n",
    "            # Setup and save each individual PCA plot\n",
    "            filename <- sprintf('unweighted_unifrac_pcoa_results-DaysSinceExperimentStart-%s-%s.png',\n",
    "                                p[i, j]$labels$x,\n",
    "                                p[i, j]$labels$y)\n",
    "            png(filename, width = 6, height = 6, unit='in', res=200)\n",
    "            sp <- p[i,j] + geom_text_repel(color = \"black\", alpha = 0.35, max.overlaps = Inf) +\n",
    "                      theme(legend.position = 'bottom',\n",
    "                            plot.title = element_text(hjust = 0.5),\n",
    "                            plot.subtitle = element_text(hjust = 0.5)) +\n",
    "                      labs(title = sprintf('%s vs. %s',\n",
    "                                           p[i, j]$labels$x,\n",
    "                                           p[i, j]$labels$y),\n",
    "                           subtitle = 'Colored by DaysSinceExperimentStart') +\n",
    "                      scale_color_gradient(low=\"#0000FF\", high=\"#FF0000\", name = 'DaysSinceExperimentStart', space = \"Lab\", na.value = \"#888888\", guide = \"colorbar\", aesthetics = \"color\")\n",
    "            print(sp)\n",
    "            out <- dev.off()\n",
    "        }\n",
    "    }\n",
    "}"
   ]
  },
  {
   "cell_type": "code",
   "execution_count": null,
   "id": "54d6de92",
   "metadata": {
    "DaysSinceExperimentStart": true,
    "hide_input": true
   },
   "outputs": [],
   "source": [
    "Image(\"unweighted_unifrac_pcoa_results-DaysSinceExperimentStart.png\")"
   ]
  },
  {
   "cell_type": "markdown",
   "id": "4a8b11ae",
   "metadata": {},
   "source": [
    "The above plot represents the first three compenents created when performing Principle Component Analysis on the Beta diversity of the samples."
   ]
  },
  {
   "cell_type": "code",
   "execution_count": null,
   "id": "2908585f",
   "metadata": {
    "DaysSinceExperimentStart": true,
    "hide_input": true
   },
   "outputs": [],
   "source": [
    "Image(\"unweighted_unifrac_pcoa_results-DaysSinceExperimentStart-PC1-PC2.png\")"
   ]
  },
  {
   "cell_type": "code",
   "execution_count": null,
   "id": "12d0abc8",
   "metadata": {
    "DaysSinceExperimentStart": true,
    "hide_input": true
   },
   "outputs": [],
   "source": [
    "Image(\"unweighted_unifrac_pcoa_results-DaysSinceExperimentStart-PC1-PC3.png\")"
   ]
  },
  {
   "cell_type": "code",
   "execution_count": null,
   "id": "77aedb6c",
   "metadata": {
    "DaysSinceExperimentStart": true,
    "hide_input": true
   },
   "outputs": [],
   "source": [
    "Image(\"unweighted_unifrac_pcoa_results-DaysSinceExperimentStart-PC2-PC3.png\")"
   ]
  },
  {
   "cell_type": "markdown",
   "id": "4fc3956a",
   "metadata": {},
   "source": [
    "\\pagebreak"
   ]
  },
  {
   "cell_type": "markdown",
   "id": "9da48838",
   "metadata": {},
   "source": [
    "## Unweighted UniFrac, grouped by Depth"
   ]
  },
  {
   "cell_type": "code",
   "execution_count": null,
   "id": "c4124004",
   "metadata": {
    "hide_input": true
   },
   "outputs": [],
   "source": [
    "import pandas as pd\n",
    "with open('unweighted_unifrac_pcoa_results.txt') as f:\n",
    "    page = f.read()\n",
    "\n",
    "store = {}\n",
    "# Parse the PCA information file\n",
    "for i, line in enumerate(page.split('\\n')):\n",
    "    parts = line.split('\\t')\n",
    "    if i == 0:\n",
    "        length = int(parts[1])\n",
    "    if i > 9 :\n",
    "        if line == '':\n",
    "            break\n",
    "        store[parts[0]] = list(map(float, parts[1:length]))\n",
    "\n",
    "# Create a dataframe and name the axes\n",
    "df = pd.DataFrame.from_dict(store).T\n",
    "cols = {x:'PC{}'.format(x + 1) for x in df.columns}\n",
    "df = df.rename(index=str, columns=cols)\n",
    "\n",
    "# Assign variable to DataFrame\n",
    "df = df.assign(variable=mdf['Depth'][[x for x in df.axes[0]]])"
   ]
  },
  {
   "cell_type": "code",
   "execution_count": null,
   "id": "f969f2f0",
   "metadata": {
    "hide_input": true
   },
   "outputs": [],
   "source": [
    "%%R -i df\n",
    "\n",
    "# Create the plots for the first three PCs\n",
    "png('unweighted_unifrac_pcoa_results-Depth.png', width = 6, height = 6, unit='in', res=200)\n",
    "p <- ggpairs(df[,c(1:3)],\n",
    "             legend = 4,\n",
    "             upper = list(continuous = \"points\", combo = \"box_no_facet\"),\n",
    "             lower = list(continuous = \"points\", combo = \"dot_no_facet\"),\n",
    "             aes(color = df$variable, label = rownames(df)), alpha = 1.0) +\n",
    "         theme_bw() +\n",
    "         theme(legend.position = 'bottom',\n",
    "               plot.title = element_text(hjust = 0.5),\n",
    "               plot.subtitle = element_text(hjust = 0.5)) +\n",
    "         labs(title = 'PCA plot',\n",
    "              subtitle = 'Colored by Depth') +\n",
    "         scale_color_gradient(low=\"#FF9900\", high=\"#9900CC\", name = 'Depth', space = \"Lab\", na.value = \"#888888\", guide = \"colorbar\", aesthetics = \"color\")\n",
    "\n",
    "print(p)\n",
    "out <- dev.off()\n",
    "\n",
    "# Print the individual PCA plots with labels\n",
    "for(i in 1:p$nrow) {\n",
    "    for(j in 1:p$ncol){\n",
    "        # Only print the PCAs not the frequency distributions\n",
    "        if (i > 2 && j < 3 || i > 1 && j < 2) {\n",
    "            # Setup and save each individual PCA plot\n",
    "            filename <- sprintf('unweighted_unifrac_pcoa_results-Depth-%s-%s.png',\n",
    "                                p[i, j]$labels$x,\n",
    "                                p[i, j]$labels$y)\n",
    "            png(filename, width = 6, height = 6, unit='in', res=200)\n",
    "            sp <- p[i,j] + geom_text_repel(color = \"black\", alpha = 0.35, max.overlaps = Inf) +\n",
    "                      theme(legend.position = 'bottom',\n",
    "                            plot.title = element_text(hjust = 0.5),\n",
    "                            plot.subtitle = element_text(hjust = 0.5)) +\n",
    "                      labs(title = sprintf('%s vs. %s',\n",
    "                                           p[i, j]$labels$x,\n",
    "                                           p[i, j]$labels$y),\n",
    "                           subtitle = 'Colored by Depth') +\n",
    "                      scale_color_gradient(low=\"#FF9900\", high=\"#9900CC\", name = 'Depth', space = \"Lab\", na.value = \"#888888\", guide = \"colorbar\", aesthetics = \"color\")\n",
    "            print(sp)\n",
    "            out <- dev.off()\n",
    "        }\n",
    "    }\n",
    "}"
   ]
  },
  {
   "cell_type": "code",
   "execution_count": null,
   "id": "5340390f",
   "metadata": {
    "Depth": true,
    "hide_input": true
   },
   "outputs": [],
   "source": [
    "Image(\"unweighted_unifrac_pcoa_results-Depth.png\")"
   ]
  },
  {
   "cell_type": "markdown",
   "id": "795c9598",
   "metadata": {},
   "source": [
    "The above plot represents the first three compenents created when performing Principle Component Analysis on the Beta diversity of the samples."
   ]
  },
  {
   "cell_type": "code",
   "execution_count": null,
   "id": "1bbbe103",
   "metadata": {
    "Depth": true,
    "hide_input": true
   },
   "outputs": [],
   "source": [
    "Image(\"unweighted_unifrac_pcoa_results-Depth-PC1-PC2.png\")"
   ]
  },
  {
   "cell_type": "code",
   "execution_count": null,
   "id": "67b5dd53",
   "metadata": {
    "Depth": true,
    "hide_input": true
   },
   "outputs": [],
   "source": [
    "Image(\"unweighted_unifrac_pcoa_results-Depth-PC1-PC3.png\")"
   ]
  },
  {
   "cell_type": "code",
   "execution_count": null,
   "id": "22605ab7",
   "metadata": {
    "Depth": true,
    "hide_input": true
   },
   "outputs": [],
   "source": [
    "Image(\"unweighted_unifrac_pcoa_results-Depth-PC2-PC3.png\")"
   ]
  },
  {
   "cell_type": "markdown",
   "id": "e9869e78",
   "metadata": {},
   "source": [
    "\\pagebreak"
   ]
  },
  {
   "cell_type": "markdown",
   "id": "92d8e813",
   "metadata": {},
   "source": [
    "## Unweighted UniFrac, grouped by Ethnicity"
   ]
  },
  {
   "cell_type": "code",
   "execution_count": null,
   "id": "ca9068b5",
   "metadata": {
    "hide_input": true
   },
   "outputs": [],
   "source": [
    "import pandas as pd\n",
    "with open('unweighted_unifrac_pcoa_results.txt') as f:\n",
    "    page = f.read()\n",
    "\n",
    "store = {}\n",
    "# Parse the PCA information file\n",
    "for i, line in enumerate(page.split('\\n')):\n",
    "    parts = line.split('\\t')\n",
    "    if i == 0:\n",
    "        length = int(parts[1])\n",
    "    if i > 9 :\n",
    "        if line == '':\n",
    "            break\n",
    "        store[parts[0]] = list(map(float, parts[1:length]))\n",
    "\n",
    "# Create a dataframe and name the axes\n",
    "df = pd.DataFrame.from_dict(store).T\n",
    "cols = {x:'PC{}'.format(x + 1) for x in df.columns}\n",
    "df = df.rename(index=str, columns=cols)\n",
    "\n",
    "# Assign GroupIDs based on metadata\n",
    "samples = mdf['Ethnicity'][[x for x in df.axes[0]]]\n",
    "df = df.assign(GroupID=[color_maps['Ethnicity'][str(x)] for x in samples])"
   ]
  },
  {
   "cell_type": "code",
   "execution_count": null,
   "id": "d5de071a",
   "metadata": {
    "hide_input": true
   },
   "outputs": [],
   "source": [
    "%%R -i df\n",
    "\n",
    "# Create the plots for the first three PCs\n",
    "png('unweighted_unifrac_pcoa_results-Ethnicity.png', width = 6, height = 6, unit='in', res=200)\n",
    "p <- ggpairs(df[,c(1:3)],\n",
    "             upper = list(continuous = \"points\", combo = \"box_no_facet\"),\n",
    "             lower = list(continuous = \"points\", combo = \"dot_no_facet\"),\n",
    "             aes(color = df$GroupID, label = rownames(df), alpha=0.5)) +\n",
    "         theme_bw() +\n",
    "         theme(legend.position = 'none',\n",
    "               plot.title = element_text(hjust = 0.5),\n",
    "               plot.subtitle = element_text(hjust = 0.5)) +\n",
    "         labs(title = 'PCA plot',\n",
    "              subtitle = 'Colored by Ethnicity')\n",
    "\n",
    "# Add the color palette to each of the plots\n",
    "for(i in 1:p$nrow) {\n",
    "    for(j in 1:p$ncol){\n",
    "        p[i,j] <- p[i,j] + colScale + colFill\n",
    "    }\n",
    "}\n",
    "print(p)\n",
    "out <- dev.off()\n",
    "\n",
    "# Print the individual PCA plots with labels\n",
    "for(i in 1:p$nrow) {\n",
    "    for(j in 1:p$ncol){\n",
    "        # Only print the PCAs not the frequency distributions\n",
    "        if (i > 2 && j < 3 || i > 1 && j < 2) {\n",
    "            # Setup and save each individual PCA plot\n",
    "            filename <- sprintf('unweighted_unifrac_pcoa_results-Ethnicity-%s-%s.png',\n",
    "                                p[i, j]$labels$x,\n",
    "                                p[i, j]$labels$y)\n",
    "            png(filename, width = 6, height = 6, unit='in', res=200)\n",
    "            sp <- p[i,j] + geom_text_repel(color = \"black\", alpha = 0.35, max.overlaps = Inf) +\n",
    "                      theme(legend.position = 'none',\n",
    "                            plot.title = element_text(hjust = 0.5),\n",
    "                            plot.subtitle = element_text(hjust = 0.5)) +\n",
    "                      labs(title = sprintf('%s vs. %s',\n",
    "                                           p[i, j]$labels$x,\n",
    "                                           p[i, j]$labels$y),\n",
    "                           subtitle = 'Colored by Ethnicity')\n",
    "            print(sp)\n",
    "            out <- dev.off()\n",
    "        }\n",
    "    }\n",
    "}"
   ]
  },
  {
   "cell_type": "code",
   "execution_count": null,
   "id": "433ba47b",
   "metadata": {
    "Ethnicity": true,
    "hide_input": true
   },
   "outputs": [],
   "source": [
    "Image(\"unweighted_unifrac_pcoa_results-Ethnicity.png\")"
   ]
  },
  {
   "cell_type": "markdown",
   "id": "bce8f90b",
   "metadata": {},
   "source": [
    "The above plot represents the first three compenents created when performing Principle Component Analysis on the Beta diversity of the samples."
   ]
  },
  {
   "cell_type": "code",
   "execution_count": null,
   "id": "849e2272",
   "metadata": {
    "Ethnicity": true,
    "hide_input": true
   },
   "outputs": [],
   "source": [
    "Image(\"unweighted_unifrac_pcoa_results-Ethnicity-PC1-PC2.png\")"
   ]
  },
  {
   "cell_type": "code",
   "execution_count": null,
   "id": "fb6daf26",
   "metadata": {
    "Ethnicity": true,
    "hide_input": true
   },
   "outputs": [],
   "source": [
    "Image(\"unweighted_unifrac_pcoa_results-Ethnicity-PC1-PC3.png\")"
   ]
  },
  {
   "cell_type": "code",
   "execution_count": null,
   "id": "b1ef8685",
   "metadata": {
    "Ethnicity": true,
    "hide_input": true
   },
   "outputs": [],
   "source": [
    "Image(\"unweighted_unifrac_pcoa_results-Ethnicity-PC2-PC3.png\")"
   ]
  },
  {
   "cell_type": "markdown",
   "id": "7997a709",
   "metadata": {},
   "source": [
    "\\pagebreak"
   ]
  },
  {
   "cell_type": "markdown",
   "id": "125b0ce3",
   "metadata": {},
   "source": [
    "## Unweighted UniFrac, grouped by InterventionCode"
   ]
  },
  {
   "cell_type": "code",
   "execution_count": null,
   "id": "5a8182f9",
   "metadata": {
    "hide_input": true
   },
   "outputs": [],
   "source": [
    "import pandas as pd\n",
    "with open('unweighted_unifrac_pcoa_results.txt') as f:\n",
    "    page = f.read()\n",
    "\n",
    "store = {}\n",
    "# Parse the PCA information file\n",
    "for i, line in enumerate(page.split('\\n')):\n",
    "    parts = line.split('\\t')\n",
    "    if i == 0:\n",
    "        length = int(parts[1])\n",
    "    if i > 9 :\n",
    "        if line == '':\n",
    "            break\n",
    "        store[parts[0]] = list(map(float, parts[1:length]))\n",
    "\n",
    "# Create a dataframe and name the axes\n",
    "df = pd.DataFrame.from_dict(store).T\n",
    "cols = {x:'PC{}'.format(x + 1) for x in df.columns}\n",
    "df = df.rename(index=str, columns=cols)\n",
    "\n",
    "# Assign GroupIDs based on metadata\n",
    "samples = mdf['InterventionCode'][[x for x in df.axes[0]]]\n",
    "df = df.assign(GroupID=[color_maps['InterventionCode'][str(x)] for x in samples])"
   ]
  },
  {
   "cell_type": "code",
   "execution_count": null,
   "id": "7660d020",
   "metadata": {
    "hide_input": true
   },
   "outputs": [],
   "source": [
    "%%R -i df\n",
    "\n",
    "# Create the plots for the first three PCs\n",
    "png('unweighted_unifrac_pcoa_results-InterventionCode.png', width = 6, height = 6, unit='in', res=200)\n",
    "p <- ggpairs(df[,c(1:3)],\n",
    "             upper = list(continuous = \"points\", combo = \"box_no_facet\"),\n",
    "             lower = list(continuous = \"points\", combo = \"dot_no_facet\"),\n",
    "             aes(color = df$GroupID, label = rownames(df), alpha=0.5)) +\n",
    "         theme_bw() +\n",
    "         theme(legend.position = 'none',\n",
    "               plot.title = element_text(hjust = 0.5),\n",
    "               plot.subtitle = element_text(hjust = 0.5)) +\n",
    "         labs(title = 'PCA plot',\n",
    "              subtitle = 'Colored by InterventionCode')\n",
    "\n",
    "# Add the color palette to each of the plots\n",
    "for(i in 1:p$nrow) {\n",
    "    for(j in 1:p$ncol){\n",
    "        p[i,j] <- p[i,j] + colScale + colFill\n",
    "    }\n",
    "}\n",
    "print(p)\n",
    "out <- dev.off()\n",
    "\n",
    "# Print the individual PCA plots with labels\n",
    "for(i in 1:p$nrow) {\n",
    "    for(j in 1:p$ncol){\n",
    "        # Only print the PCAs not the frequency distributions\n",
    "        if (i > 2 && j < 3 || i > 1 && j < 2) {\n",
    "            # Setup and save each individual PCA plot\n",
    "            filename <- sprintf('unweighted_unifrac_pcoa_results-InterventionCode-%s-%s.png',\n",
    "                                p[i, j]$labels$x,\n",
    "                                p[i, j]$labels$y)\n",
    "            png(filename, width = 6, height = 6, unit='in', res=200)\n",
    "            sp <- p[i,j] + geom_text_repel(color = \"black\", alpha = 0.35, max.overlaps = Inf) +\n",
    "                      theme(legend.position = 'none',\n",
    "                            plot.title = element_text(hjust = 0.5),\n",
    "                            plot.subtitle = element_text(hjust = 0.5)) +\n",
    "                      labs(title = sprintf('%s vs. %s',\n",
    "                                           p[i, j]$labels$x,\n",
    "                                           p[i, j]$labels$y),\n",
    "                           subtitle = 'Colored by InterventionCode')\n",
    "            print(sp)\n",
    "            out <- dev.off()\n",
    "        }\n",
    "    }\n",
    "}"
   ]
  },
  {
   "cell_type": "code",
   "execution_count": null,
   "id": "15e61851",
   "metadata": {
    "InterventionCode": true,
    "hide_input": true
   },
   "outputs": [],
   "source": [
    "Image(\"unweighted_unifrac_pcoa_results-InterventionCode.png\")"
   ]
  },
  {
   "cell_type": "markdown",
   "id": "a26cfac5",
   "metadata": {},
   "source": [
    "The above plot represents the first three compenents created when performing Principle Component Analysis on the Beta diversity of the samples."
   ]
  },
  {
   "cell_type": "code",
   "execution_count": null,
   "id": "638c23a9",
   "metadata": {
    "InterventionCode": true,
    "hide_input": true
   },
   "outputs": [],
   "source": [
    "Image(\"unweighted_unifrac_pcoa_results-InterventionCode-PC1-PC2.png\")"
   ]
  },
  {
   "cell_type": "code",
   "execution_count": null,
   "id": "6650bd85",
   "metadata": {
    "InterventionCode": true,
    "hide_input": true
   },
   "outputs": [],
   "source": [
    "Image(\"unweighted_unifrac_pcoa_results-InterventionCode-PC1-PC3.png\")"
   ]
  },
  {
   "cell_type": "code",
   "execution_count": null,
   "id": "630218c7",
   "metadata": {
    "InterventionCode": true,
    "hide_input": true
   },
   "outputs": [],
   "source": [
    "Image(\"unweighted_unifrac_pcoa_results-InterventionCode-PC2-PC3.png\")"
   ]
  },
  {
   "cell_type": "markdown",
   "id": "b0157d74",
   "metadata": {},
   "source": [
    "\\pagebreak"
   ]
  },
  {
   "cell_type": "markdown",
   "id": "092fdc59",
   "metadata": {},
   "source": [
    "## Unweighted UniFrac, grouped by SpecimenBodySite"
   ]
  },
  {
   "cell_type": "code",
   "execution_count": null,
   "id": "f6bf8c6f",
   "metadata": {
    "hide_input": true
   },
   "outputs": [],
   "source": [
    "import pandas as pd\n",
    "with open('unweighted_unifrac_pcoa_results.txt') as f:\n",
    "    page = f.read()\n",
    "\n",
    "store = {}\n",
    "# Parse the PCA information file\n",
    "for i, line in enumerate(page.split('\\n')):\n",
    "    parts = line.split('\\t')\n",
    "    if i == 0:\n",
    "        length = int(parts[1])\n",
    "    if i > 9 :\n",
    "        if line == '':\n",
    "            break\n",
    "        store[parts[0]] = list(map(float, parts[1:length]))\n",
    "\n",
    "# Create a dataframe and name the axes\n",
    "df = pd.DataFrame.from_dict(store).T\n",
    "cols = {x:'PC{}'.format(x + 1) for x in df.columns}\n",
    "df = df.rename(index=str, columns=cols)\n",
    "\n",
    "# Assign GroupIDs based on metadata\n",
    "samples = mdf['SpecimenBodySite'][[x for x in df.axes[0]]]\n",
    "df = df.assign(GroupID=[color_maps['SpecimenBodySite'][str(x)] for x in samples])"
   ]
  },
  {
   "cell_type": "code",
   "execution_count": null,
   "id": "4a20207d",
   "metadata": {
    "hide_input": true
   },
   "outputs": [],
   "source": [
    "%%R -i df\n",
    "\n",
    "# Create the plots for the first three PCs\n",
    "png('unweighted_unifrac_pcoa_results-SpecimenBodySite.png', width = 6, height = 6, unit='in', res=200)\n",
    "p <- ggpairs(df[,c(1:3)],\n",
    "             upper = list(continuous = \"points\", combo = \"box_no_facet\"),\n",
    "             lower = list(continuous = \"points\", combo = \"dot_no_facet\"),\n",
    "             aes(color = df$GroupID, label = rownames(df), alpha=0.5)) +\n",
    "         theme_bw() +\n",
    "         theme(legend.position = 'none',\n",
    "               plot.title = element_text(hjust = 0.5),\n",
    "               plot.subtitle = element_text(hjust = 0.5)) +\n",
    "         labs(title = 'PCA plot',\n",
    "              subtitle = 'Colored by SpecimenBodySite')\n",
    "\n",
    "# Add the color palette to each of the plots\n",
    "for(i in 1:p$nrow) {\n",
    "    for(j in 1:p$ncol){\n",
    "        p[i,j] <- p[i,j] + colScale + colFill\n",
    "    }\n",
    "}\n",
    "print(p)\n",
    "out <- dev.off()\n",
    "\n",
    "# Print the individual PCA plots with labels\n",
    "for(i in 1:p$nrow) {\n",
    "    for(j in 1:p$ncol){\n",
    "        # Only print the PCAs not the frequency distributions\n",
    "        if (i > 2 && j < 3 || i > 1 && j < 2) {\n",
    "            # Setup and save each individual PCA plot\n",
    "            filename <- sprintf('unweighted_unifrac_pcoa_results-SpecimenBodySite-%s-%s.png',\n",
    "                                p[i, j]$labels$x,\n",
    "                                p[i, j]$labels$y)\n",
    "            png(filename, width = 6, height = 6, unit='in', res=200)\n",
    "            sp <- p[i,j] + geom_text_repel(color = \"black\", alpha = 0.35, max.overlaps = Inf) +\n",
    "                      theme(legend.position = 'none',\n",
    "                            plot.title = element_text(hjust = 0.5),\n",
    "                            plot.subtitle = element_text(hjust = 0.5)) +\n",
    "                      labs(title = sprintf('%s vs. %s',\n",
    "                                           p[i, j]$labels$x,\n",
    "                                           p[i, j]$labels$y),\n",
    "                           subtitle = 'Colored by SpecimenBodySite')\n",
    "            print(sp)\n",
    "            out <- dev.off()\n",
    "        }\n",
    "    }\n",
    "}"
   ]
  },
  {
   "cell_type": "code",
   "execution_count": null,
   "id": "2ed31cc3",
   "metadata": {
    "SpecimenBodySite": true,
    "hide_input": true
   },
   "outputs": [],
   "source": [
    "Image(\"unweighted_unifrac_pcoa_results-SpecimenBodySite.png\")"
   ]
  },
  {
   "cell_type": "markdown",
   "id": "86085b7c",
   "metadata": {},
   "source": [
    "The above plot represents the first three compenents created when performing Principle Component Analysis on the Beta diversity of the samples."
   ]
  },
  {
   "cell_type": "code",
   "execution_count": null,
   "id": "3fcadfa1",
   "metadata": {
    "SpecimenBodySite": true,
    "hide_input": true
   },
   "outputs": [],
   "source": [
    "Image(\"unweighted_unifrac_pcoa_results-SpecimenBodySite-PC1-PC2.png\")"
   ]
  },
  {
   "cell_type": "code",
   "execution_count": null,
   "id": "7f3729a1",
   "metadata": {
    "SpecimenBodySite": true,
    "hide_input": true
   },
   "outputs": [],
   "source": [
    "Image(\"unweighted_unifrac_pcoa_results-SpecimenBodySite-PC1-PC3.png\")"
   ]
  },
  {
   "cell_type": "code",
   "execution_count": null,
   "id": "e3768c97",
   "metadata": {
    "SpecimenBodySite": true,
    "hide_input": true
   },
   "outputs": [],
   "source": [
    "Image(\"unweighted_unifrac_pcoa_results-SpecimenBodySite-PC2-PC3.png\")"
   ]
  },
  {
   "cell_type": "markdown",
   "id": "659cd7b3",
   "metadata": {},
   "source": [
    "\\pagebreak"
   ]
  },
  {
   "cell_type": "markdown",
   "id": "cff59813",
   "metadata": {},
   "source": [
    "## Unweighted UniFrac, grouped by SpecimenType"
   ]
  },
  {
   "cell_type": "code",
   "execution_count": null,
   "id": "c0cdc8c6",
   "metadata": {
    "hide_input": true
   },
   "outputs": [],
   "source": [
    "import pandas as pd\n",
    "with open('unweighted_unifrac_pcoa_results.txt') as f:\n",
    "    page = f.read()\n",
    "\n",
    "store = {}\n",
    "# Parse the PCA information file\n",
    "for i, line in enumerate(page.split('\\n')):\n",
    "    parts = line.split('\\t')\n",
    "    if i == 0:\n",
    "        length = int(parts[1])\n",
    "    if i > 9 :\n",
    "        if line == '':\n",
    "            break\n",
    "        store[parts[0]] = list(map(float, parts[1:length]))\n",
    "\n",
    "# Create a dataframe and name the axes\n",
    "df = pd.DataFrame.from_dict(store).T\n",
    "cols = {x:'PC{}'.format(x + 1) for x in df.columns}\n",
    "df = df.rename(index=str, columns=cols)\n",
    "\n",
    "# Assign GroupIDs based on metadata\n",
    "samples = mdf['SpecimenType'][[x for x in df.axes[0]]]\n",
    "df = df.assign(GroupID=[color_maps['SpecimenType'][str(x)] for x in samples])"
   ]
  },
  {
   "cell_type": "code",
   "execution_count": null,
   "id": "19f8c4f5",
   "metadata": {
    "hide_input": true
   },
   "outputs": [],
   "source": [
    "%%R -i df\n",
    "\n",
    "# Create the plots for the first three PCs\n",
    "png('unweighted_unifrac_pcoa_results-SpecimenType.png', width = 6, height = 6, unit='in', res=200)\n",
    "p <- ggpairs(df[,c(1:3)],\n",
    "             upper = list(continuous = \"points\", combo = \"box_no_facet\"),\n",
    "             lower = list(continuous = \"points\", combo = \"dot_no_facet\"),\n",
    "             aes(color = df$GroupID, label = rownames(df), alpha=0.5)) +\n",
    "         theme_bw() +\n",
    "         theme(legend.position = 'none',\n",
    "               plot.title = element_text(hjust = 0.5),\n",
    "               plot.subtitle = element_text(hjust = 0.5)) +\n",
    "         labs(title = 'PCA plot',\n",
    "              subtitle = 'Colored by SpecimenType')\n",
    "\n",
    "# Add the color palette to each of the plots\n",
    "for(i in 1:p$nrow) {\n",
    "    for(j in 1:p$ncol){\n",
    "        p[i,j] <- p[i,j] + colScale + colFill\n",
    "    }\n",
    "}\n",
    "print(p)\n",
    "out <- dev.off()\n",
    "\n",
    "# Print the individual PCA plots with labels\n",
    "for(i in 1:p$nrow) {\n",
    "    for(j in 1:p$ncol){\n",
    "        # Only print the PCAs not the frequency distributions\n",
    "        if (i > 2 && j < 3 || i > 1 && j < 2) {\n",
    "            # Setup and save each individual PCA plot\n",
    "            filename <- sprintf('unweighted_unifrac_pcoa_results-SpecimenType-%s-%s.png',\n",
    "                                p[i, j]$labels$x,\n",
    "                                p[i, j]$labels$y)\n",
    "            png(filename, width = 6, height = 6, unit='in', res=200)\n",
    "            sp <- p[i,j] + geom_text_repel(color = \"black\", alpha = 0.35, max.overlaps = Inf) +\n",
    "                      theme(legend.position = 'none',\n",
    "                            plot.title = element_text(hjust = 0.5),\n",
    "                            plot.subtitle = element_text(hjust = 0.5)) +\n",
    "                      labs(title = sprintf('%s vs. %s',\n",
    "                                           p[i, j]$labels$x,\n",
    "                                           p[i, j]$labels$y),\n",
    "                           subtitle = 'Colored by SpecimenType')\n",
    "            print(sp)\n",
    "            out <- dev.off()\n",
    "        }\n",
    "    }\n",
    "}"
   ]
  },
  {
   "cell_type": "code",
   "execution_count": null,
   "id": "efcc0c1a",
   "metadata": {
    "SpecimenType": true,
    "hide_input": true
   },
   "outputs": [],
   "source": [
    "Image(\"unweighted_unifrac_pcoa_results-SpecimenType.png\")"
   ]
  },
  {
   "cell_type": "markdown",
   "id": "8f27296d",
   "metadata": {},
   "source": [
    "The above plot represents the first three compenents created when performing Principle Component Analysis on the Beta diversity of the samples."
   ]
  },
  {
   "cell_type": "code",
   "execution_count": null,
   "id": "7493cb75",
   "metadata": {
    "SpecimenType": true,
    "hide_input": true
   },
   "outputs": [],
   "source": [
    "Image(\"unweighted_unifrac_pcoa_results-SpecimenType-PC1-PC2.png\")"
   ]
  },
  {
   "cell_type": "code",
   "execution_count": null,
   "id": "8f7e45ef",
   "metadata": {
    "SpecimenType": true,
    "hide_input": true
   },
   "outputs": [],
   "source": [
    "Image(\"unweighted_unifrac_pcoa_results-SpecimenType-PC1-PC3.png\")"
   ]
  },
  {
   "cell_type": "code",
   "execution_count": null,
   "id": "c0634e33",
   "metadata": {
    "SpecimenType": true,
    "hide_input": true
   },
   "outputs": [],
   "source": [
    "Image(\"unweighted_unifrac_pcoa_results-SpecimenType-PC2-PC3.png\")"
   ]
  },
  {
   "cell_type": "markdown",
   "id": "8acc06fa",
   "metadata": {},
   "source": [
    "\\pagebreak"
   ]
  },
  {
   "cell_type": "markdown",
   "id": "e7aecdb3",
   "metadata": {},
   "source": [
    "## Weighted UniFrac, grouped by DaysSinceExperimentStart"
   ]
  },
  {
   "cell_type": "code",
   "execution_count": null,
   "id": "26985184",
   "metadata": {
    "hide_input": true
   },
   "outputs": [],
   "source": [
    "import pandas as pd\n",
    "with open('weighted_unifrac_pcoa_results.txt') as f:\n",
    "    page = f.read()\n",
    "\n",
    "store = {}\n",
    "# Parse the PCA information file\n",
    "for i, line in enumerate(page.split('\\n')):\n",
    "    parts = line.split('\\t')\n",
    "    if i == 0:\n",
    "        length = int(parts[1])\n",
    "    if i > 9 :\n",
    "        if line == '':\n",
    "            break\n",
    "        store[parts[0]] = list(map(float, parts[1:length]))\n",
    "\n",
    "# Create a dataframe and name the axes\n",
    "df = pd.DataFrame.from_dict(store).T\n",
    "cols = {x:'PC{}'.format(x + 1) for x in df.columns}\n",
    "df = df.rename(index=str, columns=cols)\n",
    "\n",
    "# Assign variable to DataFrame\n",
    "df = df.assign(variable=mdf['DaysSinceExperimentStart'][[x for x in df.axes[0]]])"
   ]
  },
  {
   "cell_type": "code",
   "execution_count": null,
   "id": "24137ccb",
   "metadata": {
    "hide_input": true
   },
   "outputs": [],
   "source": [
    "%%R -i df\n",
    "\n",
    "# Create the plots for the first three PCs\n",
    "png('weighted_unifrac_pcoa_results-DaysSinceExperimentStart.png', width = 6, height = 6, unit='in', res=200)\n",
    "p <- ggpairs(df[,c(1:3)],\n",
    "             legend = 4,\n",
    "             upper = list(continuous = \"points\", combo = \"box_no_facet\"),\n",
    "             lower = list(continuous = \"points\", combo = \"dot_no_facet\"),\n",
    "             aes(color = df$variable, label = rownames(df)), alpha = 1.0) +\n",
    "         theme_bw() +\n",
    "         theme(legend.position = 'bottom',\n",
    "               plot.title = element_text(hjust = 0.5),\n",
    "               plot.subtitle = element_text(hjust = 0.5)) +\n",
    "         labs(title = 'PCA plot',\n",
    "              subtitle = 'Colored by DaysSinceExperimentStart') +\n",
    "         scale_color_gradient(low=\"#0000FF\", high=\"#FF0000\", name = 'DaysSinceExperimentStart', space = \"Lab\", na.value = \"#888888\", guide = \"colorbar\", aesthetics = \"color\")\n",
    "\n",
    "print(p)\n",
    "out <- dev.off()\n",
    "\n",
    "# Print the individual PCA plots with labels\n",
    "for(i in 1:p$nrow) {\n",
    "    for(j in 1:p$ncol){\n",
    "        # Only print the PCAs not the frequency distributions\n",
    "        if (i > 2 && j < 3 || i > 1 && j < 2) {\n",
    "            # Setup and save each individual PCA plot\n",
    "            filename <- sprintf('weighted_unifrac_pcoa_results-DaysSinceExperimentStart-%s-%s.png',\n",
    "                                p[i, j]$labels$x,\n",
    "                                p[i, j]$labels$y)\n",
    "            png(filename, width = 6, height = 6, unit='in', res=200)\n",
    "            sp <- p[i,j] + geom_text_repel(color = \"black\", alpha = 0.35, max.overlaps = Inf) +\n",
    "                      theme(legend.position = 'bottom',\n",
    "                            plot.title = element_text(hjust = 0.5),\n",
    "                            plot.subtitle = element_text(hjust = 0.5)) +\n",
    "                      labs(title = sprintf('%s vs. %s',\n",
    "                                           p[i, j]$labels$x,\n",
    "                                           p[i, j]$labels$y),\n",
    "                           subtitle = 'Colored by DaysSinceExperimentStart') +\n",
    "                      scale_color_gradient(low=\"#0000FF\", high=\"#FF0000\", name = 'DaysSinceExperimentStart', space = \"Lab\", na.value = \"#888888\", guide = \"colorbar\", aesthetics = \"color\")\n",
    "            print(sp)\n",
    "            out <- dev.off()\n",
    "        }\n",
    "    }\n",
    "}"
   ]
  },
  {
   "cell_type": "code",
   "execution_count": null,
   "id": "5bc6eef7",
   "metadata": {
    "DaysSinceExperimentStart": true,
    "hide_input": true
   },
   "outputs": [],
   "source": [
    "Image(\"weighted_unifrac_pcoa_results-DaysSinceExperimentStart.png\")"
   ]
  },
  {
   "cell_type": "markdown",
   "id": "c0263e34",
   "metadata": {},
   "source": [
    "The above plot represents the first three compenents created when performing Principle Component Analysis on the Beta diversity of the samples."
   ]
  },
  {
   "cell_type": "code",
   "execution_count": null,
   "id": "9f61a89e",
   "metadata": {
    "DaysSinceExperimentStart": true,
    "hide_input": true
   },
   "outputs": [],
   "source": [
    "Image(\"weighted_unifrac_pcoa_results-DaysSinceExperimentStart-PC1-PC2.png\")"
   ]
  },
  {
   "cell_type": "code",
   "execution_count": null,
   "id": "27336203",
   "metadata": {
    "DaysSinceExperimentStart": true,
    "hide_input": true
   },
   "outputs": [],
   "source": [
    "Image(\"weighted_unifrac_pcoa_results-DaysSinceExperimentStart-PC1-PC3.png\")"
   ]
  },
  {
   "cell_type": "code",
   "execution_count": null,
   "id": "bb7f59ce",
   "metadata": {
    "DaysSinceExperimentStart": true,
    "hide_input": true
   },
   "outputs": [],
   "source": [
    "Image(\"weighted_unifrac_pcoa_results-DaysSinceExperimentStart-PC2-PC3.png\")"
   ]
  },
  {
   "cell_type": "markdown",
   "id": "9925cf5d",
   "metadata": {},
   "source": [
    "\\pagebreak"
   ]
  },
  {
   "cell_type": "markdown",
   "id": "7832b140",
   "metadata": {},
   "source": [
    "## Weighted UniFrac, grouped by Depth"
   ]
  },
  {
   "cell_type": "code",
   "execution_count": null,
   "id": "3146814e",
   "metadata": {
    "hide_input": true
   },
   "outputs": [],
   "source": [
    "import pandas as pd\n",
    "with open('weighted_unifrac_pcoa_results.txt') as f:\n",
    "    page = f.read()\n",
    "\n",
    "store = {}\n",
    "# Parse the PCA information file\n",
    "for i, line in enumerate(page.split('\\n')):\n",
    "    parts = line.split('\\t')\n",
    "    if i == 0:\n",
    "        length = int(parts[1])\n",
    "    if i > 9 :\n",
    "        if line == '':\n",
    "            break\n",
    "        store[parts[0]] = list(map(float, parts[1:length]))\n",
    "\n",
    "# Create a dataframe and name the axes\n",
    "df = pd.DataFrame.from_dict(store).T\n",
    "cols = {x:'PC{}'.format(x + 1) for x in df.columns}\n",
    "df = df.rename(index=str, columns=cols)\n",
    "\n",
    "# Assign variable to DataFrame\n",
    "df = df.assign(variable=mdf['Depth'][[x for x in df.axes[0]]])"
   ]
  },
  {
   "cell_type": "code",
   "execution_count": null,
   "id": "a0c93035",
   "metadata": {
    "hide_input": true
   },
   "outputs": [],
   "source": [
    "%%R -i df\n",
    "\n",
    "# Create the plots for the first three PCs\n",
    "png('weighted_unifrac_pcoa_results-Depth.png', width = 6, height = 6, unit='in', res=200)\n",
    "p <- ggpairs(df[,c(1:3)],\n",
    "             legend = 4,\n",
    "             upper = list(continuous = \"points\", combo = \"box_no_facet\"),\n",
    "             lower = list(continuous = \"points\", combo = \"dot_no_facet\"),\n",
    "             aes(color = df$variable, label = rownames(df)), alpha = 1.0) +\n",
    "         theme_bw() +\n",
    "         theme(legend.position = 'bottom',\n",
    "               plot.title = element_text(hjust = 0.5),\n",
    "               plot.subtitle = element_text(hjust = 0.5)) +\n",
    "         labs(title = 'PCA plot',\n",
    "              subtitle = 'Colored by Depth') +\n",
    "         scale_color_gradient(low=\"#FF9900\", high=\"#9900CC\", name = 'Depth', space = \"Lab\", na.value = \"#888888\", guide = \"colorbar\", aesthetics = \"color\")\n",
    "\n",
    "print(p)\n",
    "out <- dev.off()\n",
    "\n",
    "# Print the individual PCA plots with labels\n",
    "for(i in 1:p$nrow) {\n",
    "    for(j in 1:p$ncol){\n",
    "        # Only print the PCAs not the frequency distributions\n",
    "        if (i > 2 && j < 3 || i > 1 && j < 2) {\n",
    "            # Setup and save each individual PCA plot\n",
    "            filename <- sprintf('weighted_unifrac_pcoa_results-Depth-%s-%s.png',\n",
    "                                p[i, j]$labels$x,\n",
    "                                p[i, j]$labels$y)\n",
    "            png(filename, width = 6, height = 6, unit='in', res=200)\n",
    "            sp <- p[i,j] + geom_text_repel(color = \"black\", alpha = 0.35, max.overlaps = Inf) +\n",
    "                      theme(legend.position = 'bottom',\n",
    "                            plot.title = element_text(hjust = 0.5),\n",
    "                            plot.subtitle = element_text(hjust = 0.5)) +\n",
    "                      labs(title = sprintf('%s vs. %s',\n",
    "                                           p[i, j]$labels$x,\n",
    "                                           p[i, j]$labels$y),\n",
    "                           subtitle = 'Colored by Depth') +\n",
    "                      scale_color_gradient(low=\"#FF9900\", high=\"#9900CC\", name = 'Depth', space = \"Lab\", na.value = \"#888888\", guide = \"colorbar\", aesthetics = \"color\")\n",
    "            print(sp)\n",
    "            out <- dev.off()\n",
    "        }\n",
    "    }\n",
    "}"
   ]
  },
  {
   "cell_type": "code",
   "execution_count": null,
   "id": "302bdaf7",
   "metadata": {
    "Depth": true,
    "hide_input": true
   },
   "outputs": [],
   "source": [
    "Image(\"weighted_unifrac_pcoa_results-Depth.png\")"
   ]
  },
  {
   "cell_type": "markdown",
   "id": "0a180df1",
   "metadata": {},
   "source": [
    "The above plot represents the first three compenents created when performing Principle Component Analysis on the Beta diversity of the samples."
   ]
  },
  {
   "cell_type": "code",
   "execution_count": null,
   "id": "d6630998",
   "metadata": {
    "Depth": true,
    "hide_input": true
   },
   "outputs": [],
   "source": [
    "Image(\"weighted_unifrac_pcoa_results-Depth-PC1-PC2.png\")"
   ]
  },
  {
   "cell_type": "code",
   "execution_count": null,
   "id": "0c82a59e",
   "metadata": {
    "Depth": true,
    "hide_input": true
   },
   "outputs": [],
   "source": [
    "Image(\"weighted_unifrac_pcoa_results-Depth-PC1-PC3.png\")"
   ]
  },
  {
   "cell_type": "code",
   "execution_count": null,
   "id": "a543d5d7",
   "metadata": {
    "Depth": true,
    "hide_input": true
   },
   "outputs": [],
   "source": [
    "Image(\"weighted_unifrac_pcoa_results-Depth-PC2-PC3.png\")"
   ]
  },
  {
   "cell_type": "markdown",
   "id": "8b425411",
   "metadata": {},
   "source": [
    "\\pagebreak"
   ]
  },
  {
   "cell_type": "markdown",
   "id": "695c45bb",
   "metadata": {},
   "source": [
    "## Weighted UniFrac, grouped by Ethnicity"
   ]
  },
  {
   "cell_type": "code",
   "execution_count": null,
   "id": "51879486",
   "metadata": {
    "hide_input": true
   },
   "outputs": [],
   "source": [
    "import pandas as pd\n",
    "with open('weighted_unifrac_pcoa_results.txt') as f:\n",
    "    page = f.read()\n",
    "\n",
    "store = {}\n",
    "# Parse the PCA information file\n",
    "for i, line in enumerate(page.split('\\n')):\n",
    "    parts = line.split('\\t')\n",
    "    if i == 0:\n",
    "        length = int(parts[1])\n",
    "    if i > 9 :\n",
    "        if line == '':\n",
    "            break\n",
    "        store[parts[0]] = list(map(float, parts[1:length]))\n",
    "\n",
    "# Create a dataframe and name the axes\n",
    "df = pd.DataFrame.from_dict(store).T\n",
    "cols = {x:'PC{}'.format(x + 1) for x in df.columns}\n",
    "df = df.rename(index=str, columns=cols)\n",
    "\n",
    "# Assign GroupIDs based on metadata\n",
    "samples = mdf['Ethnicity'][[x for x in df.axes[0]]]\n",
    "df = df.assign(GroupID=[color_maps['Ethnicity'][str(x)] for x in samples])"
   ]
  },
  {
   "cell_type": "code",
   "execution_count": null,
   "id": "3127c714",
   "metadata": {
    "hide_input": true
   },
   "outputs": [],
   "source": [
    "%%R -i df\n",
    "\n",
    "# Create the plots for the first three PCs\n",
    "png('weighted_unifrac_pcoa_results-Ethnicity.png', width = 6, height = 6, unit='in', res=200)\n",
    "p <- ggpairs(df[,c(1:3)],\n",
    "             upper = list(continuous = \"points\", combo = \"box_no_facet\"),\n",
    "             lower = list(continuous = \"points\", combo = \"dot_no_facet\"),\n",
    "             aes(color = df$GroupID, label = rownames(df), alpha=0.5)) +\n",
    "         theme_bw() +\n",
    "         theme(legend.position = 'none',\n",
    "               plot.title = element_text(hjust = 0.5),\n",
    "               plot.subtitle = element_text(hjust = 0.5)) +\n",
    "         labs(title = 'PCA plot',\n",
    "              subtitle = 'Colored by Ethnicity')\n",
    "\n",
    "# Add the color palette to each of the plots\n",
    "for(i in 1:p$nrow) {\n",
    "    for(j in 1:p$ncol){\n",
    "        p[i,j] <- p[i,j] + colScale + colFill\n",
    "    }\n",
    "}\n",
    "print(p)\n",
    "out <- dev.off()\n",
    "\n",
    "# Print the individual PCA plots with labels\n",
    "for(i in 1:p$nrow) {\n",
    "    for(j in 1:p$ncol){\n",
    "        # Only print the PCAs not the frequency distributions\n",
    "        if (i > 2 && j < 3 || i > 1 && j < 2) {\n",
    "            # Setup and save each individual PCA plot\n",
    "            filename <- sprintf('weighted_unifrac_pcoa_results-Ethnicity-%s-%s.png',\n",
    "                                p[i, j]$labels$x,\n",
    "                                p[i, j]$labels$y)\n",
    "            png(filename, width = 6, height = 6, unit='in', res=200)\n",
    "            sp <- p[i,j] + geom_text_repel(color = \"black\", alpha = 0.35, max.overlaps = Inf) +\n",
    "                      theme(legend.position = 'none',\n",
    "                            plot.title = element_text(hjust = 0.5),\n",
    "                            plot.subtitle = element_text(hjust = 0.5)) +\n",
    "                      labs(title = sprintf('%s vs. %s',\n",
    "                                           p[i, j]$labels$x,\n",
    "                                           p[i, j]$labels$y),\n",
    "                           subtitle = 'Colored by Ethnicity')\n",
    "            print(sp)\n",
    "            out <- dev.off()\n",
    "        }\n",
    "    }\n",
    "}"
   ]
  },
  {
   "cell_type": "code",
   "execution_count": null,
   "id": "3847f2bf",
   "metadata": {
    "Ethnicity": true,
    "hide_input": true
   },
   "outputs": [],
   "source": [
    "Image(\"weighted_unifrac_pcoa_results-Ethnicity.png\")"
   ]
  },
  {
   "cell_type": "markdown",
   "id": "fcbe4e29",
   "metadata": {},
   "source": [
    "The above plot represents the first three compenents created when performing Principle Component Analysis on the Beta diversity of the samples."
   ]
  },
  {
   "cell_type": "code",
   "execution_count": null,
   "id": "699035f6",
   "metadata": {
    "Ethnicity": true,
    "hide_input": true
   },
   "outputs": [],
   "source": [
    "Image(\"weighted_unifrac_pcoa_results-Ethnicity-PC1-PC2.png\")"
   ]
  },
  {
   "cell_type": "code",
   "execution_count": null,
   "id": "74ae6c80",
   "metadata": {
    "Ethnicity": true,
    "hide_input": true
   },
   "outputs": [],
   "source": [
    "Image(\"weighted_unifrac_pcoa_results-Ethnicity-PC1-PC3.png\")"
   ]
  },
  {
   "cell_type": "code",
   "execution_count": null,
   "id": "9036386c",
   "metadata": {
    "Ethnicity": true,
    "hide_input": true
   },
   "outputs": [],
   "source": [
    "Image(\"weighted_unifrac_pcoa_results-Ethnicity-PC2-PC3.png\")"
   ]
  },
  {
   "cell_type": "markdown",
   "id": "2df20997",
   "metadata": {},
   "source": [
    "\\pagebreak"
   ]
  },
  {
   "cell_type": "markdown",
   "id": "611297e7",
   "metadata": {},
   "source": [
    "## Weighted UniFrac, grouped by InterventionCode"
   ]
  },
  {
   "cell_type": "code",
   "execution_count": null,
   "id": "46b8ae32",
   "metadata": {
    "hide_input": true
   },
   "outputs": [],
   "source": [
    "import pandas as pd\n",
    "with open('weighted_unifrac_pcoa_results.txt') as f:\n",
    "    page = f.read()\n",
    "\n",
    "store = {}\n",
    "# Parse the PCA information file\n",
    "for i, line in enumerate(page.split('\\n')):\n",
    "    parts = line.split('\\t')\n",
    "    if i == 0:\n",
    "        length = int(parts[1])\n",
    "    if i > 9 :\n",
    "        if line == '':\n",
    "            break\n",
    "        store[parts[0]] = list(map(float, parts[1:length]))\n",
    "\n",
    "# Create a dataframe and name the axes\n",
    "df = pd.DataFrame.from_dict(store).T\n",
    "cols = {x:'PC{}'.format(x + 1) for x in df.columns}\n",
    "df = df.rename(index=str, columns=cols)\n",
    "\n",
    "# Assign GroupIDs based on metadata\n",
    "samples = mdf['InterventionCode'][[x for x in df.axes[0]]]\n",
    "df = df.assign(GroupID=[color_maps['InterventionCode'][str(x)] for x in samples])"
   ]
  },
  {
   "cell_type": "code",
   "execution_count": null,
   "id": "d05b281e",
   "metadata": {
    "hide_input": true
   },
   "outputs": [],
   "source": [
    "%%R -i df\n",
    "\n",
    "# Create the plots for the first three PCs\n",
    "png('weighted_unifrac_pcoa_results-InterventionCode.png', width = 6, height = 6, unit='in', res=200)\n",
    "p <- ggpairs(df[,c(1:3)],\n",
    "             upper = list(continuous = \"points\", combo = \"box_no_facet\"),\n",
    "             lower = list(continuous = \"points\", combo = \"dot_no_facet\"),\n",
    "             aes(color = df$GroupID, label = rownames(df), alpha=0.5)) +\n",
    "         theme_bw() +\n",
    "         theme(legend.position = 'none',\n",
    "               plot.title = element_text(hjust = 0.5),\n",
    "               plot.subtitle = element_text(hjust = 0.5)) +\n",
    "         labs(title = 'PCA plot',\n",
    "              subtitle = 'Colored by InterventionCode')\n",
    "\n",
    "# Add the color palette to each of the plots\n",
    "for(i in 1:p$nrow) {\n",
    "    for(j in 1:p$ncol){\n",
    "        p[i,j] <- p[i,j] + colScale + colFill\n",
    "    }\n",
    "}\n",
    "print(p)\n",
    "out <- dev.off()\n",
    "\n",
    "# Print the individual PCA plots with labels\n",
    "for(i in 1:p$nrow) {\n",
    "    for(j in 1:p$ncol){\n",
    "        # Only print the PCAs not the frequency distributions\n",
    "        if (i > 2 && j < 3 || i > 1 && j < 2) {\n",
    "            # Setup and save each individual PCA plot\n",
    "            filename <- sprintf('weighted_unifrac_pcoa_results-InterventionCode-%s-%s.png',\n",
    "                                p[i, j]$labels$x,\n",
    "                                p[i, j]$labels$y)\n",
    "            png(filename, width = 6, height = 6, unit='in', res=200)\n",
    "            sp <- p[i,j] + geom_text_repel(color = \"black\", alpha = 0.35, max.overlaps = Inf) +\n",
    "                      theme(legend.position = 'none',\n",
    "                            plot.title = element_text(hjust = 0.5),\n",
    "                            plot.subtitle = element_text(hjust = 0.5)) +\n",
    "                      labs(title = sprintf('%s vs. %s',\n",
    "                                           p[i, j]$labels$x,\n",
    "                                           p[i, j]$labels$y),\n",
    "                           subtitle = 'Colored by InterventionCode')\n",
    "            print(sp)\n",
    "            out <- dev.off()\n",
    "        }\n",
    "    }\n",
    "}"
   ]
  },
  {
   "cell_type": "code",
   "execution_count": null,
   "id": "76be3c02",
   "metadata": {
    "InterventionCode": true,
    "hide_input": true
   },
   "outputs": [],
   "source": [
    "Image(\"weighted_unifrac_pcoa_results-InterventionCode.png\")"
   ]
  },
  {
   "cell_type": "markdown",
   "id": "abd12ab0",
   "metadata": {},
   "source": [
    "The above plot represents the first three compenents created when performing Principle Component Analysis on the Beta diversity of the samples."
   ]
  },
  {
   "cell_type": "code",
   "execution_count": null,
   "id": "2919c5a2",
   "metadata": {
    "InterventionCode": true,
    "hide_input": true
   },
   "outputs": [],
   "source": [
    "Image(\"weighted_unifrac_pcoa_results-InterventionCode-PC1-PC2.png\")"
   ]
  },
  {
   "cell_type": "code",
   "execution_count": null,
   "id": "41bad06b",
   "metadata": {
    "InterventionCode": true,
    "hide_input": true
   },
   "outputs": [],
   "source": [
    "Image(\"weighted_unifrac_pcoa_results-InterventionCode-PC1-PC3.png\")"
   ]
  },
  {
   "cell_type": "code",
   "execution_count": null,
   "id": "ddbab998",
   "metadata": {
    "InterventionCode": true,
    "hide_input": true
   },
   "outputs": [],
   "source": [
    "Image(\"weighted_unifrac_pcoa_results-InterventionCode-PC2-PC3.png\")"
   ]
  },
  {
   "cell_type": "markdown",
   "id": "5e39471e",
   "metadata": {},
   "source": [
    "\\pagebreak"
   ]
  },
  {
   "cell_type": "markdown",
   "id": "b1387eba",
   "metadata": {},
   "source": [
    "## Weighted UniFrac, grouped by SpecimenBodySite"
   ]
  },
  {
   "cell_type": "code",
   "execution_count": null,
   "id": "7171e978",
   "metadata": {
    "hide_input": true
   },
   "outputs": [],
   "source": [
    "import pandas as pd\n",
    "with open('weighted_unifrac_pcoa_results.txt') as f:\n",
    "    page = f.read()\n",
    "\n",
    "store = {}\n",
    "# Parse the PCA information file\n",
    "for i, line in enumerate(page.split('\\n')):\n",
    "    parts = line.split('\\t')\n",
    "    if i == 0:\n",
    "        length = int(parts[1])\n",
    "    if i > 9 :\n",
    "        if line == '':\n",
    "            break\n",
    "        store[parts[0]] = list(map(float, parts[1:length]))\n",
    "\n",
    "# Create a dataframe and name the axes\n",
    "df = pd.DataFrame.from_dict(store).T\n",
    "cols = {x:'PC{}'.format(x + 1) for x in df.columns}\n",
    "df = df.rename(index=str, columns=cols)\n",
    "\n",
    "# Assign GroupIDs based on metadata\n",
    "samples = mdf['SpecimenBodySite'][[x for x in df.axes[0]]]\n",
    "df = df.assign(GroupID=[color_maps['SpecimenBodySite'][str(x)] for x in samples])"
   ]
  },
  {
   "cell_type": "code",
   "execution_count": null,
   "id": "f662381d",
   "metadata": {
    "hide_input": true
   },
   "outputs": [],
   "source": [
    "%%R -i df\n",
    "\n",
    "# Create the plots for the first three PCs\n",
    "png('weighted_unifrac_pcoa_results-SpecimenBodySite.png', width = 6, height = 6, unit='in', res=200)\n",
    "p <- ggpairs(df[,c(1:3)],\n",
    "             upper = list(continuous = \"points\", combo = \"box_no_facet\"),\n",
    "             lower = list(continuous = \"points\", combo = \"dot_no_facet\"),\n",
    "             aes(color = df$GroupID, label = rownames(df), alpha=0.5)) +\n",
    "         theme_bw() +\n",
    "         theme(legend.position = 'none',\n",
    "               plot.title = element_text(hjust = 0.5),\n",
    "               plot.subtitle = element_text(hjust = 0.5)) +\n",
    "         labs(title = 'PCA plot',\n",
    "              subtitle = 'Colored by SpecimenBodySite')\n",
    "\n",
    "# Add the color palette to each of the plots\n",
    "for(i in 1:p$nrow) {\n",
    "    for(j in 1:p$ncol){\n",
    "        p[i,j] <- p[i,j] + colScale + colFill\n",
    "    }\n",
    "}\n",
    "print(p)\n",
    "out <- dev.off()\n",
    "\n",
    "# Print the individual PCA plots with labels\n",
    "for(i in 1:p$nrow) {\n",
    "    for(j in 1:p$ncol){\n",
    "        # Only print the PCAs not the frequency distributions\n",
    "        if (i > 2 && j < 3 || i > 1 && j < 2) {\n",
    "            # Setup and save each individual PCA plot\n",
    "            filename <- sprintf('weighted_unifrac_pcoa_results-SpecimenBodySite-%s-%s.png',\n",
    "                                p[i, j]$labels$x,\n",
    "                                p[i, j]$labels$y)\n",
    "            png(filename, width = 6, height = 6, unit='in', res=200)\n",
    "            sp <- p[i,j] + geom_text_repel(color = \"black\", alpha = 0.35, max.overlaps = Inf) +\n",
    "                      theme(legend.position = 'none',\n",
    "                            plot.title = element_text(hjust = 0.5),\n",
    "                            plot.subtitle = element_text(hjust = 0.5)) +\n",
    "                      labs(title = sprintf('%s vs. %s',\n",
    "                                           p[i, j]$labels$x,\n",
    "                                           p[i, j]$labels$y),\n",
    "                           subtitle = 'Colored by SpecimenBodySite')\n",
    "            print(sp)\n",
    "            out <- dev.off()\n",
    "        }\n",
    "    }\n",
    "}"
   ]
  },
  {
   "cell_type": "code",
   "execution_count": null,
   "id": "3b8a5255",
   "metadata": {
    "SpecimenBodySite": true,
    "hide_input": true
   },
   "outputs": [],
   "source": [
    "Image(\"weighted_unifrac_pcoa_results-SpecimenBodySite.png\")"
   ]
  },
  {
   "cell_type": "markdown",
   "id": "a1c99124",
   "metadata": {},
   "source": [
    "The above plot represents the first three compenents created when performing Principle Component Analysis on the Beta diversity of the samples."
   ]
  },
  {
   "cell_type": "code",
   "execution_count": null,
   "id": "69114a62",
   "metadata": {
    "SpecimenBodySite": true,
    "hide_input": true
   },
   "outputs": [],
   "source": [
    "Image(\"weighted_unifrac_pcoa_results-SpecimenBodySite-PC1-PC2.png\")"
   ]
  },
  {
   "cell_type": "code",
   "execution_count": null,
   "id": "3203cc48",
   "metadata": {
    "SpecimenBodySite": true,
    "hide_input": true
   },
   "outputs": [],
   "source": [
    "Image(\"weighted_unifrac_pcoa_results-SpecimenBodySite-PC1-PC3.png\")"
   ]
  },
  {
   "cell_type": "code",
   "execution_count": null,
   "id": "57646c65",
   "metadata": {
    "SpecimenBodySite": true,
    "hide_input": true
   },
   "outputs": [],
   "source": [
    "Image(\"weighted_unifrac_pcoa_results-SpecimenBodySite-PC2-PC3.png\")"
   ]
  },
  {
   "cell_type": "markdown",
   "id": "eb078503",
   "metadata": {},
   "source": [
    "\\pagebreak"
   ]
  },
  {
   "cell_type": "markdown",
   "id": "837a47ed",
   "metadata": {},
   "source": [
    "## Weighted UniFrac, grouped by SpecimenType"
   ]
  },
  {
   "cell_type": "code",
   "execution_count": null,
   "id": "f56a0df5",
   "metadata": {
    "hide_input": true
   },
   "outputs": [],
   "source": [
    "import pandas as pd\n",
    "with open('weighted_unifrac_pcoa_results.txt') as f:\n",
    "    page = f.read()\n",
    "\n",
    "store = {}\n",
    "# Parse the PCA information file\n",
    "for i, line in enumerate(page.split('\\n')):\n",
    "    parts = line.split('\\t')\n",
    "    if i == 0:\n",
    "        length = int(parts[1])\n",
    "    if i > 9 :\n",
    "        if line == '':\n",
    "            break\n",
    "        store[parts[0]] = list(map(float, parts[1:length]))\n",
    "\n",
    "# Create a dataframe and name the axes\n",
    "df = pd.DataFrame.from_dict(store).T\n",
    "cols = {x:'PC{}'.format(x + 1) for x in df.columns}\n",
    "df = df.rename(index=str, columns=cols)\n",
    "\n",
    "# Assign GroupIDs based on metadata\n",
    "samples = mdf['SpecimenType'][[x for x in df.axes[0]]]\n",
    "df = df.assign(GroupID=[color_maps['SpecimenType'][str(x)] for x in samples])"
   ]
  },
  {
   "cell_type": "code",
   "execution_count": null,
   "id": "0a60a231",
   "metadata": {
    "hide_input": true
   },
   "outputs": [],
   "source": [
    "%%R -i df\n",
    "\n",
    "# Create the plots for the first three PCs\n",
    "png('weighted_unifrac_pcoa_results-SpecimenType.png', width = 6, height = 6, unit='in', res=200)\n",
    "p <- ggpairs(df[,c(1:3)],\n",
    "             upper = list(continuous = \"points\", combo = \"box_no_facet\"),\n",
    "             lower = list(continuous = \"points\", combo = \"dot_no_facet\"),\n",
    "             aes(color = df$GroupID, label = rownames(df), alpha=0.5)) +\n",
    "         theme_bw() +\n",
    "         theme(legend.position = 'none',\n",
    "               plot.title = element_text(hjust = 0.5),\n",
    "               plot.subtitle = element_text(hjust = 0.5)) +\n",
    "         labs(title = 'PCA plot',\n",
    "              subtitle = 'Colored by SpecimenType')\n",
    "\n",
    "# Add the color palette to each of the plots\n",
    "for(i in 1:p$nrow) {\n",
    "    for(j in 1:p$ncol){\n",
    "        p[i,j] <- p[i,j] + colScale + colFill\n",
    "    }\n",
    "}\n",
    "print(p)\n",
    "out <- dev.off()\n",
    "\n",
    "# Print the individual PCA plots with labels\n",
    "for(i in 1:p$nrow) {\n",
    "    for(j in 1:p$ncol){\n",
    "        # Only print the PCAs not the frequency distributions\n",
    "        if (i > 2 && j < 3 || i > 1 && j < 2) {\n",
    "            # Setup and save each individual PCA plot\n",
    "            filename <- sprintf('weighted_unifrac_pcoa_results-SpecimenType-%s-%s.png',\n",
    "                                p[i, j]$labels$x,\n",
    "                                p[i, j]$labels$y)\n",
    "            png(filename, width = 6, height = 6, unit='in', res=200)\n",
    "            sp <- p[i,j] + geom_text_repel(color = \"black\", alpha = 0.35, max.overlaps = Inf) +\n",
    "                      theme(legend.position = 'none',\n",
    "                            plot.title = element_text(hjust = 0.5),\n",
    "                            plot.subtitle = element_text(hjust = 0.5)) +\n",
    "                      labs(title = sprintf('%s vs. %s',\n",
    "                                           p[i, j]$labels$x,\n",
    "                                           p[i, j]$labels$y),\n",
    "                           subtitle = 'Colored by SpecimenType')\n",
    "            print(sp)\n",
    "            out <- dev.off()\n",
    "        }\n",
    "    }\n",
    "}"
   ]
  },
  {
   "cell_type": "code",
   "execution_count": null,
   "id": "cfe26aed",
   "metadata": {
    "SpecimenType": true,
    "hide_input": true
   },
   "outputs": [],
   "source": [
    "Image(\"weighted_unifrac_pcoa_results-SpecimenType.png\")"
   ]
  },
  {
   "cell_type": "markdown",
   "id": "f4cecfe2",
   "metadata": {},
   "source": [
    "The above plot represents the first three compenents created when performing Principle Component Analysis on the Beta diversity of the samples."
   ]
  },
  {
   "cell_type": "code",
   "execution_count": null,
   "id": "d5039d83",
   "metadata": {
    "SpecimenType": true,
    "hide_input": true
   },
   "outputs": [],
   "source": [
    "Image(\"weighted_unifrac_pcoa_results-SpecimenType-PC1-PC2.png\")"
   ]
  },
  {
   "cell_type": "code",
   "execution_count": null,
   "id": "357f5add",
   "metadata": {
    "SpecimenType": true,
    "hide_input": true
   },
   "outputs": [],
   "source": [
    "Image(\"weighted_unifrac_pcoa_results-SpecimenType-PC1-PC3.png\")"
   ]
  },
  {
   "cell_type": "code",
   "execution_count": null,
   "id": "923a1f8e",
   "metadata": {
    "SpecimenType": true,
    "hide_input": true
   },
   "outputs": [],
   "source": [
    "Image(\"weighted_unifrac_pcoa_results-SpecimenType-PC2-PC3.png\")"
   ]
  },
  {
   "cell_type": "markdown",
   "id": "818fdb7c",
   "metadata": {},
   "source": [
    "\\pagebreak"
   ]
  }
 ],
 "metadata": {
  "latex_metadata": {
   "affiliation": "Icahn School of Medicine at Mount Sinai",
   "author": "Clemente Lab",
   "name": "MMEDS Analysis Summary",
   "title": "MMEDS Analysis Summary"
  }
 },
 "nbformat": 4,
 "nbformat_minor": 5
}
