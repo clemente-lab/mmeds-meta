{
 "cells": [
  {
   "cell_type": "markdown",
   "metadata": {
    "slideshow": {
     "slide_type": "slide"
    }
   },
   "source": [
    "# PANDAS\n",
    "\n",
    "## Like R in Python but better\n",
    "\n",
    "Today we'll cover\n",
    "- What are DataFrames  \n",
    "  - Indeces vs. Columns  \n",
    "  - Setting the index  \n",
    "  - Reference by name/Reference by position  \n",
    "- Basic operations on DataFrames  \n",
    "  - Filter  \n",
    "  - Iterate  \n",
    "  - Transform to other datatypes  \n",
    "- Advanced operations  \n",
    "  - join, merge, append  \n",
    "  - Multi index  "
   ]
  },
  {
   "cell_type": "markdown",
   "metadata": {
    "slideshow": {
     "slide_type": "slide"
    }
   },
   "source": [
    "# Prologue\n",
    "\n",
    "## DataTypes \n",
    "\n",
    "### Basic Types\n",
    "- Int\n",
    "  - 1\n",
    "  - 42\n",
    "- Float\n",
    "  - 2.2222\n",
    "  - 3.14359\n",
    "- Char\n",
    "  - '2'\n",
    "  - 'a'\n",
    "  - '\"'\n"
   ]
  },
  {
   "cell_type": "markdown",
   "metadata": {
    "slideshow": {
     "slide_type": "subslide"
    }
   },
   "source": [
    "### Structured Types\n",
    "- List\n",
    "  - `(a -> (b -> (c -> ...)))`\n",
    "- Array  \n",
    "  - `[a, b, c]`\n",
    "- Hashtable\n",
    "  - `[(1 -> 'a'), (2 -> 'b'), (3 -> 'c')]`\n",
    "\n",
    "### Abstractions\n",
    "- Char + List = String\n",
    "- Array + List = ArrayList (Creative Right?)"
   ]
  },
  {
   "cell_type": "markdown",
   "metadata": {
    "slideshow": {
     "slide_type": "subslide"
    }
   },
   "source": [
    "# Python is a liar\n",
    "- Strings are secretly Lists\n",
    "- Lists are secretly hashtables\n",
    "- Dicts are openly hashtables\n",
    "- Everything is hashtables"
   ]
  },
  {
   "cell_type": "markdown",
   "metadata": {
    "slideshow": {
     "slide_type": "subslide"
    }
   },
   "source": [
    "# What is a Dataframe?"
   ]
  },
  {
   "cell_type": "markdown",
   "metadata": {
    "slideshow": {
     "slide_type": "fragment"
    }
   },
   "source": [
    "A bunch of hashtables "
   ]
  },
  {
   "cell_type": "markdown",
   "metadata": {
    "slideshow": {
     "slide_type": "slide"
    }
   },
   "source": [
    "# What is special about them?"
   ]
  },
  {
   "cell_type": "code",
   "execution_count": 70,
   "metadata": {
    "slideshow": {
     "slide_type": "fragment"
    }
   },
   "outputs": [
    {
     "data": {
      "text/plain": [
       "{Timestamp('2020-01-01 00:00:00'): 'Wednesday',\n",
       " Timestamp('2020-01-02 00:00:00'): 'Thursday',\n",
       " Timestamp('2020-01-03 00:00:00'): 'Friday',\n",
       " Timestamp('2020-01-04 00:00:00'): 'Saturday',\n",
       " Timestamp('2020-01-05 00:00:00'): 'Sunday'}"
      ]
     },
     "execution_count": 70,
     "metadata": {},
     "output_type": "execute_result"
    }
   ],
   "source": [
    "import numpy as np\n",
    "import pandas as pd\n",
    "from pprint import pprint\n",
    "# Let's say we want to collect information about particulars days\n",
    "# and access that information based on the date\n",
    "\n",
    "# We want to know the day of the week it was\n",
    "day_of_week = {\n",
    "    pd.Timestamp('20200101'): 'Wednesday',\n",
    "    pd.Timestamp('20200102'): 'Thursday',\n",
    "    pd.Timestamp('20200103'): 'Friday',\n",
    "    pd.Timestamp('20200104'): 'Saturday',\n",
    "    pd.Timestamp('20200105'): 'Sunday'\n",
    "}\n",
    "\n",
    "day_of_week"
   ]
  },
  {
   "cell_type": "code",
   "execution_count": 71,
   "metadata": {
    "slideshow": {
     "slide_type": "subslide"
    }
   },
   "outputs": [
    {
     "data": {
      "text/plain": [
       "{Timestamp('2020-01-01 00:00:00'): 48,\n",
       " Timestamp('2020-01-02 00:00:00'): 54,\n",
       " Timestamp('2020-01-03 00:00:00'): 45,\n",
       " Timestamp('2020-01-04 00:00:00'): 61,\n",
       " Timestamp('2020-01-05 00:00:00'): 55}"
      ]
     },
     "execution_count": 71,
     "metadata": {},
     "output_type": "execute_result"
    }
   ],
   "source": [
    "# We also want to know the high tempurature\n",
    "high_temp = {\n",
    "    pd.Timestamp('20200101'): 48,\n",
    "    pd.Timestamp('20200102'): 54,\n",
    "    pd.Timestamp('20200103'): 45,\n",
    "    pd.Timestamp('20200104'): 61,\n",
    "    pd.Timestamp('20200105'): 55\n",
    "}\n",
    "high_temp"
   ]
  },
  {
   "cell_type": "code",
   "execution_count": 72,
   "metadata": {
    "slideshow": {
     "slide_type": "fragment"
    }
   },
   "outputs": [
    {
     "data": {
      "text/plain": [
       "{Timestamp('2020-01-01 00:00:00'): 30,\n",
       " Timestamp('2020-01-02 00:00:00'): 38,\n",
       " Timestamp('2020-01-03 00:00:00'): 33,\n",
       " Timestamp('2020-01-04 00:00:00'): 45,\n",
       " Timestamp('2020-01-05 00:00:00'): 30}"
      ]
     },
     "execution_count": 72,
     "metadata": {},
     "output_type": "execute_result"
    }
   ],
   "source": [
    "# And the low tempurature \n",
    "low_temp = {\n",
    "    pd.Timestamp('20200101'): 30,\n",
    "    pd.Timestamp('20200102'): 38,\n",
    "    pd.Timestamp('20200103'): 33,\n",
    "    pd.Timestamp('20200104'): 45,\n",
    "    pd.Timestamp('20200105'): 30\n",
    "}\n",
    "low_temp"
   ]
  },
  {
   "cell_type": "code",
   "execution_count": 73,
   "metadata": {
    "slideshow": {
     "slide_type": "subslide"
    }
   },
   "outputs": [
    {
     "name": "stdout",
     "output_type": "stream",
     "text": [
      "Weekend average 58.0\n",
      "Weekday average 49.0\n"
     ]
    }
   ],
   "source": [
    "# This quickly gets difficult to work with\n",
    "# Let's say you want to compare weekday and weekend high temps\n",
    "# You'd have to do something terrible like the following\n",
    "weekends = []\n",
    "weekdays = []\n",
    "\n",
    "# Collect the info from one dict\n",
    "for timestamp, day in day_of_week.items():\n",
    "    if day == 'Saturday' or day == 'Sunday':\n",
    "        weekends.append(timestamp)\n",
    "    else:\n",
    "        weekdays.append(timestamp)\n",
    "\n",
    "weekend_temps = []\n",
    "weekday_temps = []\n",
    "# Use it to collect info from another dict\n",
    "for timestamp in weekends:\n",
    "    weekend_temps.append(high_temp[timestamp])\n",
    "for timestamp in weekdays:\n",
    "    weekday_temps.append(high_temp[timestamp])\n",
    "\n",
    "print(\"Weekend average {}\".format(np.mean(weekend_temps)))\n",
    "print(\"Weekday average {}\".format(np.mean(weekday_temps)))"
   ]
  },
  {
   "cell_type": "code",
   "execution_count": 74,
   "metadata": {
    "slideshow": {
     "slide_type": "slide"
    }
   },
   "outputs": [
    {
     "data": {
      "text/html": [
       "<div>\n",
       "<style scoped>\n",
       "    .dataframe tbody tr th:only-of-type {\n",
       "        vertical-align: middle;\n",
       "    }\n",
       "\n",
       "    .dataframe tbody tr th {\n",
       "        vertical-align: top;\n",
       "    }\n",
       "\n",
       "    .dataframe thead th {\n",
       "        text-align: right;\n",
       "    }\n",
       "</style>\n",
       "<table border=\"1\" class=\"dataframe\">\n",
       "  <thead>\n",
       "    <tr style=\"text-align: right;\">\n",
       "      <th></th>\n",
       "      <th>day_of_week</th>\n",
       "      <th>high_temp</th>\n",
       "      <th>low_temp</th>\n",
       "    </tr>\n",
       "  </thead>\n",
       "  <tbody>\n",
       "    <tr>\n",
       "      <th>2020-01-01</th>\n",
       "      <td>Wednesday</td>\n",
       "      <td>48</td>\n",
       "      <td>30</td>\n",
       "    </tr>\n",
       "    <tr>\n",
       "      <th>2020-01-02</th>\n",
       "      <td>Thursday</td>\n",
       "      <td>54</td>\n",
       "      <td>38</td>\n",
       "    </tr>\n",
       "    <tr>\n",
       "      <th>2020-01-03</th>\n",
       "      <td>Friday</td>\n",
       "      <td>45</td>\n",
       "      <td>33</td>\n",
       "    </tr>\n",
       "    <tr>\n",
       "      <th>2020-01-04</th>\n",
       "      <td>Saturday</td>\n",
       "      <td>61</td>\n",
       "      <td>45</td>\n",
       "    </tr>\n",
       "    <tr>\n",
       "      <th>2020-01-05</th>\n",
       "      <td>Sunday</td>\n",
       "      <td>55</td>\n",
       "      <td>30</td>\n",
       "    </tr>\n",
       "  </tbody>\n",
       "</table>\n",
       "</div>"
      ],
      "text/plain": [
       "           day_of_week  high_temp  low_temp\n",
       "2020-01-01   Wednesday         48        30\n",
       "2020-01-02    Thursday         54        38\n",
       "2020-01-03      Friday         45        33\n",
       "2020-01-04    Saturday         61        45\n",
       "2020-01-05      Sunday         55        30"
      ]
     },
     "execution_count": 74,
     "metadata": {},
     "output_type": "execute_result"
    }
   ],
   "source": [
    "## You want to access the data all in the same place\n",
    "df = pd.DataFrame({'day_of_week': day_of_week,\n",
    "                   'high_temp': high_temp,\n",
    "                   'low_temp': low_temp})\n",
    "df"
   ]
  },
  {
   "cell_type": "code",
   "execution_count": 75,
   "metadata": {
    "slideshow": {
     "slide_type": "fragment"
    }
   },
   "outputs": [
    {
     "name": "stdout",
     "output_type": "stream",
     "text": [
      "DatetimeIndex(['2020-01-01', '2020-01-02', '2020-01-03', '2020-01-04',\n",
      "               '2020-01-05'],\n",
      "              dtype='datetime64[ns]', freq=None)\n",
      "Index(['day_of_week', 'high_temp', 'low_temp'], dtype='object')\n"
     ]
    }
   ],
   "source": [
    "# How do you access it?\n",
    "# Indexes (Rows) and Columns (Columns)\n",
    "print(df.index)\n",
    "print(df.columns)"
   ]
  },
  {
   "cell_type": "code",
   "execution_count": 76,
   "metadata": {
    "slideshow": {
     "slide_type": "subslide"
    }
   },
   "outputs": [
    {
     "name": "stdout",
     "output_type": "stream",
     "text": [
      "Weekend average 49.0\n",
      "Weekday average 58.0\n"
     ]
    }
   ],
   "source": [
    "# So how would we find the weekday/weekend temps?\n",
    "weekend_days = ['Saturday', 'Sunday']\n",
    "weekend_data, weekday_data = df.groupby(df.day_of_week.isin(weekend_days))\n",
    "\n",
    "print(\"Weekend average {}\".format(weekend_data[1].high_temp.mean()))\n",
    "print(\"Weekday average {}\".format(weekday_data[1].high_temp.mean()))"
   ]
  },
  {
   "cell_type": "code",
   "execution_count": 77,
   "metadata": {
    "slideshow": {
     "slide_type": "fragment"
    }
   },
   "outputs": [
    {
     "data": {
      "text/plain": [
       "2020-01-01    Wednesday\n",
       "2020-01-02     Thursday\n",
       "2020-01-03       Friday\n",
       "2020-01-04     Saturday\n",
       "2020-01-05       Sunday\n",
       "Name: day_of_week, dtype: object"
      ]
     },
     "execution_count": 77,
     "metadata": {},
     "output_type": "execute_result"
    }
   ],
   "source": [
    "# Step 1: Accessing the day_of_week information\n",
    "day_of_week = df.day_of_week\n",
    "day_of_week"
   ]
  },
  {
   "cell_type": "code",
   "execution_count": 78,
   "metadata": {
    "slideshow": {
     "slide_type": "fragment"
    }
   },
   "outputs": [
    {
     "data": {
      "text/plain": [
       "2020-01-01    False\n",
       "2020-01-02    False\n",
       "2020-01-03    False\n",
       "2020-01-04     True\n",
       "2020-01-05     True\n",
       "Name: day_of_week, dtype: bool"
      ]
     },
     "execution_count": 78,
     "metadata": {},
     "output_type": "execute_result"
    }
   ],
   "source": [
    "# Step 2: Determining if it's a weekend\n",
    "is_weekend = day_of_week.isin(weekend_days)\n",
    "is_weekend"
   ]
  },
  {
   "cell_type": "code",
   "execution_count": 79,
   "metadata": {
    "slideshow": {
     "slide_type": "subslide"
    }
   },
   "outputs": [
    {
     "name": "stdout",
     "output_type": "stream",
     "text": [
      "False\n",
      "-----------\n",
      "           day_of_week  high_temp  low_temp\n",
      "2020-01-01   Wednesday         48        30\n",
      "2020-01-02    Thursday         54        38\n",
      "2020-01-03      Friday         45        33\n"
     ]
    }
   ],
   "source": [
    "# Step 3: Group the data based on those True/False values\n",
    "group1, group2 = df.groupby(is_weekend)\n",
    "# groupby returns a tuple e.g. (group_value, dataframe)\n",
    "# In this case group_value is True or False but it could be any value\n",
    "print(group1[0])\n",
    "print(\"-----------\")\n",
    "print(group1[1])\n"
   ]
  },
  {
   "cell_type": "code",
   "execution_count": 80,
   "metadata": {
    "slideshow": {
     "slide_type": "fragment"
    }
   },
   "outputs": [
    {
     "data": {
      "text/plain": [
       "2020-01-01    48\n",
       "2020-01-02    54\n",
       "2020-01-03    45\n",
       "Name: high_temp, dtype: int64"
      ]
     },
     "execution_count": 80,
     "metadata": {},
     "output_type": "execute_result"
    }
   ],
   "source": [
    "# Step 4: Get the high_temp from the group\n",
    "high_temps = group1[1].high_temp\n",
    "high_temps"
   ]
  },
  {
   "cell_type": "code",
   "execution_count": 81,
   "metadata": {
    "slideshow": {
     "slide_type": "fragment"
    }
   },
   "outputs": [
    {
     "data": {
      "text/plain": [
       "49.0"
      ]
     },
     "execution_count": 81,
     "metadata": {},
     "output_type": "execute_result"
    }
   ],
   "source": [
    "# Step 5: Calculate the average\n",
    "high_temps.mean()"
   ]
  },
  {
   "cell_type": "markdown",
   "metadata": {
    "slideshow": {
     "slide_type": "slide"
    }
   },
   "source": [
    "# Multi Indexes\n",
    "- The best way to handle hierarchical categories "
   ]
  },
  {
   "cell_type": "code",
   "execution_count": 82,
   "metadata": {
    "slideshow": {
     "slide_type": "fragment"
    }
   },
   "outputs": [
    {
     "data": {
      "text/plain": [
       "MultiIndex([('weekend',  'Saturday'),\n",
       "            ('weekend',    'Sunday'),\n",
       "            ('weekday',    'Monday'),\n",
       "            ('weekday',   'Tuesday'),\n",
       "            ('weekday', 'Wednesday'),\n",
       "            ('weekday',  'Thursday'),\n",
       "            ('weekday',    'Friday')],\n",
       "           )"
      ]
     },
     "execution_count": 82,
     "metadata": {},
     "output_type": "execute_result"
    }
   ],
   "source": [
    "# What is a MutliIndex\n",
    "weekday_days = ['Monday', 'Tuesday', 'Wednesday', 'Thursday', 'Friday']\n",
    "tups = [('weekend', x) for x in weekend_days] + [('weekday', x) for x in weekday_days] \n",
    "idx = pd.MultiIndex.from_tuples(tups)\n",
    "idx"
   ]
  },
  {
   "cell_type": "code",
   "execution_count": 83,
   "metadata": {
    "slideshow": {
     "slide_type": "subslide"
    }
   },
   "outputs": [
    {
     "data": {
      "text/html": [
       "<div>\n",
       "<style scoped>\n",
       "    .dataframe tbody tr th:only-of-type {\n",
       "        vertical-align: middle;\n",
       "    }\n",
       "\n",
       "    .dataframe tbody tr th {\n",
       "        vertical-align: top;\n",
       "    }\n",
       "\n",
       "    .dataframe thead th {\n",
       "        text-align: right;\n",
       "    }\n",
       "</style>\n",
       "<table border=\"1\" class=\"dataframe\">\n",
       "  <thead>\n",
       "    <tr style=\"text-align: right;\">\n",
       "      <th></th>\n",
       "      <th></th>\n",
       "      <th>high_temp</th>\n",
       "      <th>low_temp</th>\n",
       "    </tr>\n",
       "    <tr>\n",
       "      <th>type_of_day</th>\n",
       "      <th>day_of_week</th>\n",
       "      <th></th>\n",
       "      <th></th>\n",
       "    </tr>\n",
       "  </thead>\n",
       "  <tbody>\n",
       "    <tr>\n",
       "      <th rowspan=\"3\" valign=\"top\">weekday</th>\n",
       "      <th>Wednesday</th>\n",
       "      <td>48</td>\n",
       "      <td>30</td>\n",
       "    </tr>\n",
       "    <tr>\n",
       "      <th>Thursday</th>\n",
       "      <td>54</td>\n",
       "      <td>38</td>\n",
       "    </tr>\n",
       "    <tr>\n",
       "      <th>Friday</th>\n",
       "      <td>45</td>\n",
       "      <td>33</td>\n",
       "    </tr>\n",
       "    <tr>\n",
       "      <th rowspan=\"2\" valign=\"top\">weekend</th>\n",
       "      <th>Saturday</th>\n",
       "      <td>61</td>\n",
       "      <td>45</td>\n",
       "    </tr>\n",
       "    <tr>\n",
       "      <th>Sunday</th>\n",
       "      <td>55</td>\n",
       "      <td>30</td>\n",
       "    </tr>\n",
       "    <tr>\n",
       "      <th rowspan=\"2\" valign=\"top\">weekday</th>\n",
       "      <th>Monday</th>\n",
       "      <td>NaN</td>\n",
       "      <td>NaN</td>\n",
       "    </tr>\n",
       "    <tr>\n",
       "      <th>Tuesday</th>\n",
       "      <td>NaN</td>\n",
       "      <td>NaN</td>\n",
       "    </tr>\n",
       "  </tbody>\n",
       "</table>\n",
       "</div>"
      ],
      "text/plain": [
       "                        high_temp low_temp\n",
       "type_of_day day_of_week                   \n",
       "weekday     Wednesday          48       30\n",
       "            Thursday           54       38\n",
       "            Friday             45       33\n",
       "weekend     Saturday           61       45\n",
       "            Sunday             55       30\n",
       "weekday     Monday            NaN      NaN\n",
       "            Tuesday           NaN      NaN"
      ]
     },
     "execution_count": 83,
     "metadata": {},
     "output_type": "execute_result"
    }
   ],
   "source": [
    "# How to add it to a dataframe\n",
    "# Requires a column for each level of the index\n",
    "new_col = pd.Series({x[1]: x[0] for x in tups}, name=\"type_of_day\")\n",
    "# Add a column. We'll cover what's happening here later\n",
    "mdf = df.set_index('day_of_week').T.append(new_col).T.reset_index().rename({'index':  'day_of_week'}, axis=1)\n",
    "# Now set the new index\n",
    "mdf.set_index(['type_of_day', 'day_of_week'])"
   ]
  },
  {
   "cell_type": "code",
   "execution_count": 84,
   "metadata": {
    "slideshow": {
     "slide_type": "fragment"
    }
   },
   "outputs": [
    {
     "name": "stdout",
     "output_type": "stream",
     "text": [
      "Weekday average 49.0\n",
      "Weekend average 58.0\n"
     ]
    }
   ],
   "source": [
    "# So NOW how would we find the weekday/weekend temps?\n",
    "print(\"Weekday average {}\".format(mdf.query('type_of_day == \"weekday\"').high_temp.mean()))\n",
    "print(\"Weekend average {}\".format(mdf.query('type_of_day == \"weekend\"').high_temp.mean()))"
   ]
  },
  {
   "cell_type": "markdown",
   "metadata": {
    "slideshow": {
     "slide_type": "slide"
    }
   },
   "source": [
    "# Adding to a DataFrame\n",
    "Finding the average tempurature was very exciting but it's left a few things unanswered"
   ]
  },
  {
   "cell_type": "markdown",
   "metadata": {
    "slideshow": {
     "slide_type": "subslide"
    }
   },
   "source": [
    "Who are the days for?"
   ]
  },
  {
   "cell_type": "code",
   "execution_count": 85,
   "metadata": {
    "slideshow": {
     "slide_type": "subslide"
    }
   },
   "outputs": [
    {
     "data": {
      "text/plain": [
       "{'Sunday': 'The girls',\n",
       " 'Monday': 'The birds',\n",
       " 'Tuesday': 'The non-binary',\n",
       " 'Wednesday': 'The camels',\n",
       " 'Thursday': 'The dogs',\n",
       " 'Friday': 'The cats',\n",
       " 'Saturday': 'The boys'}"
      ]
     },
     "execution_count": 85,
     "metadata": {},
     "output_type": "execute_result"
    }
   ],
   "source": [
    "for_whom = {\n",
    "    'Sunday': 'The girls',\n",
    "    'Monday': 'The birds',\n",
    "    'Tuesday': 'The non-binary',\n",
    "    'Wednesday': 'The camels',\n",
    "    'Thursday': 'The dogs',\n",
    "    'Friday': 'The cats',\n",
    "    'Saturday': 'The boys',\n",
    "}\n",
    "for_whom"
   ]
  },
  {
   "cell_type": "code",
   "execution_count": 86,
   "metadata": {
    "slideshow": {
     "slide_type": "fragment"
    }
   },
   "outputs": [
    {
     "data": {
      "text/plain": [
       "Sunday            The girls\n",
       "Monday            The birds\n",
       "Tuesday      The non-binary\n",
       "Wednesday        The camels\n",
       "Thursday           The dogs\n",
       "Friday             The cats\n",
       "Saturday           The boys\n",
       "Name: for_whom, dtype: object"
      ]
     },
     "execution_count": 86,
     "metadata": {},
     "output_type": "execute_result"
    }
   ],
   "source": [
    "for_whom = pd.Series(for_whom, name='for_whom')\n",
    "for_whom"
   ]
  },
  {
   "cell_type": "code",
   "execution_count": 87,
   "metadata": {
    "slideshow": {
     "slide_type": "subslide"
    }
   },
   "outputs": [
    {
     "data": {
      "text/html": [
       "<div>\n",
       "<style scoped>\n",
       "    .dataframe tbody tr th:only-of-type {\n",
       "        vertical-align: middle;\n",
       "    }\n",
       "\n",
       "    .dataframe tbody tr th {\n",
       "        vertical-align: top;\n",
       "    }\n",
       "\n",
       "    .dataframe thead th {\n",
       "        text-align: right;\n",
       "    }\n",
       "</style>\n",
       "<table border=\"1\" class=\"dataframe\">\n",
       "  <thead>\n",
       "    <tr style=\"text-align: right;\">\n",
       "      <th></th>\n",
       "      <th>day_of_week</th>\n",
       "      <th>high_temp</th>\n",
       "      <th>low_temp</th>\n",
       "      <th>Friday</th>\n",
       "      <th>Monday</th>\n",
       "      <th>Saturday</th>\n",
       "      <th>Sunday</th>\n",
       "      <th>Thursday</th>\n",
       "      <th>Tuesday</th>\n",
       "      <th>Wednesday</th>\n",
       "    </tr>\n",
       "  </thead>\n",
       "  <tbody>\n",
       "    <tr>\n",
       "      <th>2020-01-01 00:00:00</th>\n",
       "      <td>Wednesday</td>\n",
       "      <td>48.0</td>\n",
       "      <td>30.0</td>\n",
       "      <td>NaN</td>\n",
       "      <td>NaN</td>\n",
       "      <td>NaN</td>\n",
       "      <td>NaN</td>\n",
       "      <td>NaN</td>\n",
       "      <td>NaN</td>\n",
       "      <td>NaN</td>\n",
       "    </tr>\n",
       "    <tr>\n",
       "      <th>2020-01-02 00:00:00</th>\n",
       "      <td>Thursday</td>\n",
       "      <td>54.0</td>\n",
       "      <td>38.0</td>\n",
       "      <td>NaN</td>\n",
       "      <td>NaN</td>\n",
       "      <td>NaN</td>\n",
       "      <td>NaN</td>\n",
       "      <td>NaN</td>\n",
       "      <td>NaN</td>\n",
       "      <td>NaN</td>\n",
       "    </tr>\n",
       "    <tr>\n",
       "      <th>2020-01-03 00:00:00</th>\n",
       "      <td>Friday</td>\n",
       "      <td>45.0</td>\n",
       "      <td>33.0</td>\n",
       "      <td>NaN</td>\n",
       "      <td>NaN</td>\n",
       "      <td>NaN</td>\n",
       "      <td>NaN</td>\n",
       "      <td>NaN</td>\n",
       "      <td>NaN</td>\n",
       "      <td>NaN</td>\n",
       "    </tr>\n",
       "    <tr>\n",
       "      <th>2020-01-04 00:00:00</th>\n",
       "      <td>Saturday</td>\n",
       "      <td>61.0</td>\n",
       "      <td>45.0</td>\n",
       "      <td>NaN</td>\n",
       "      <td>NaN</td>\n",
       "      <td>NaN</td>\n",
       "      <td>NaN</td>\n",
       "      <td>NaN</td>\n",
       "      <td>NaN</td>\n",
       "      <td>NaN</td>\n",
       "    </tr>\n",
       "    <tr>\n",
       "      <th>2020-01-05 00:00:00</th>\n",
       "      <td>Sunday</td>\n",
       "      <td>55.0</td>\n",
       "      <td>30.0</td>\n",
       "      <td>NaN</td>\n",
       "      <td>NaN</td>\n",
       "      <td>NaN</td>\n",
       "      <td>NaN</td>\n",
       "      <td>NaN</td>\n",
       "      <td>NaN</td>\n",
       "      <td>NaN</td>\n",
       "    </tr>\n",
       "    <tr>\n",
       "      <th>for_whom</th>\n",
       "      <td>NaN</td>\n",
       "      <td>NaN</td>\n",
       "      <td>NaN</td>\n",
       "      <td>The cats</td>\n",
       "      <td>The birds</td>\n",
       "      <td>The boys</td>\n",
       "      <td>The girls</td>\n",
       "      <td>The dogs</td>\n",
       "      <td>The non-binary</td>\n",
       "      <td>The camels</td>\n",
       "    </tr>\n",
       "  </tbody>\n",
       "</table>\n",
       "</div>"
      ],
      "text/plain": [
       "                    day_of_week  high_temp  low_temp    Friday     Monday  \\\n",
       "2020-01-01 00:00:00   Wednesday       48.0      30.0       NaN        NaN   \n",
       "2020-01-02 00:00:00    Thursday       54.0      38.0       NaN        NaN   \n",
       "2020-01-03 00:00:00      Friday       45.0      33.0       NaN        NaN   \n",
       "2020-01-04 00:00:00    Saturday       61.0      45.0       NaN        NaN   \n",
       "2020-01-05 00:00:00      Sunday       55.0      30.0       NaN        NaN   \n",
       "for_whom                    NaN        NaN       NaN  The cats  The birds   \n",
       "\n",
       "                     Saturday     Sunday  Thursday         Tuesday   Wednesday  \n",
       "2020-01-01 00:00:00       NaN        NaN       NaN             NaN         NaN  \n",
       "2020-01-02 00:00:00       NaN        NaN       NaN             NaN         NaN  \n",
       "2020-01-03 00:00:00       NaN        NaN       NaN             NaN         NaN  \n",
       "2020-01-04 00:00:00       NaN        NaN       NaN             NaN         NaN  \n",
       "2020-01-05 00:00:00       NaN        NaN       NaN             NaN         NaN  \n",
       "for_whom             The boys  The girls  The dogs  The non-binary  The camels  "
      ]
     },
     "execution_count": 87,
     "metadata": {},
     "output_type": "execute_result"
    }
   ],
   "source": [
    "df.append(for_whom)"
   ]
  },
  {
   "cell_type": "markdown",
   "metadata": {
    "slideshow": {
     "slide_type": "fragment"
    }
   },
   "source": [
    "Thats not right"
   ]
  },
  {
   "cell_type": "code",
   "execution_count": 88,
   "metadata": {
    "slideshow": {
     "slide_type": "subslide"
    }
   },
   "outputs": [
    {
     "data": {
      "text/html": [
       "<div>\n",
       "<style scoped>\n",
       "    .dataframe tbody tr th:only-of-type {\n",
       "        vertical-align: middle;\n",
       "    }\n",
       "\n",
       "    .dataframe tbody tr th {\n",
       "        vertical-align: top;\n",
       "    }\n",
       "\n",
       "    .dataframe thead th {\n",
       "        text-align: right;\n",
       "    }\n",
       "</style>\n",
       "<table border=\"1\" class=\"dataframe\">\n",
       "  <thead>\n",
       "    <tr style=\"text-align: right;\">\n",
       "      <th></th>\n",
       "      <th>high_temp</th>\n",
       "      <th>low_temp</th>\n",
       "    </tr>\n",
       "    <tr>\n",
       "      <th>day_of_week</th>\n",
       "      <th></th>\n",
       "      <th></th>\n",
       "    </tr>\n",
       "  </thead>\n",
       "  <tbody>\n",
       "    <tr>\n",
       "      <th>Wednesday</th>\n",
       "      <td>48</td>\n",
       "      <td>30</td>\n",
       "    </tr>\n",
       "    <tr>\n",
       "      <th>Thursday</th>\n",
       "      <td>54</td>\n",
       "      <td>38</td>\n",
       "    </tr>\n",
       "    <tr>\n",
       "      <th>Friday</th>\n",
       "      <td>45</td>\n",
       "      <td>33</td>\n",
       "    </tr>\n",
       "    <tr>\n",
       "      <th>Saturday</th>\n",
       "      <td>61</td>\n",
       "      <td>45</td>\n",
       "    </tr>\n",
       "    <tr>\n",
       "      <th>Sunday</th>\n",
       "      <td>55</td>\n",
       "      <td>30</td>\n",
       "    </tr>\n",
       "  </tbody>\n",
       "</table>\n",
       "</div>"
      ],
      "text/plain": [
       "             high_temp  low_temp\n",
       "day_of_week                     \n",
       "Wednesday           48        30\n",
       "Thursday            54        38\n",
       "Friday              45        33\n",
       "Saturday            61        45\n",
       "Sunday              55        30"
      ]
     },
     "execution_count": 88,
     "metadata": {},
     "output_type": "execute_result"
    }
   ],
   "source": [
    "# We need to transform the data frame so pandas can match the new data to the original\n",
    "idf = df.set_index('day_of_week')\n",
    "idf"
   ]
  },
  {
   "cell_type": "code",
   "execution_count": 89,
   "metadata": {
    "slideshow": {
     "slide_type": "fragment"
    }
   },
   "outputs": [
    {
     "data": {
      "text/html": [
       "<div>\n",
       "<style scoped>\n",
       "    .dataframe tbody tr th:only-of-type {\n",
       "        vertical-align: middle;\n",
       "    }\n",
       "\n",
       "    .dataframe tbody tr th {\n",
       "        vertical-align: top;\n",
       "    }\n",
       "\n",
       "    .dataframe thead th {\n",
       "        text-align: right;\n",
       "    }\n",
       "</style>\n",
       "<table border=\"1\" class=\"dataframe\">\n",
       "  <thead>\n",
       "    <tr style=\"text-align: right;\">\n",
       "      <th></th>\n",
       "      <th>high_temp</th>\n",
       "      <th>low_temp</th>\n",
       "      <th>Friday</th>\n",
       "      <th>Monday</th>\n",
       "      <th>Saturday</th>\n",
       "      <th>Sunday</th>\n",
       "      <th>Thursday</th>\n",
       "      <th>Tuesday</th>\n",
       "      <th>Wednesday</th>\n",
       "    </tr>\n",
       "    <tr>\n",
       "      <th>day_of_week</th>\n",
       "      <th></th>\n",
       "      <th></th>\n",
       "      <th></th>\n",
       "      <th></th>\n",
       "      <th></th>\n",
       "      <th></th>\n",
       "      <th></th>\n",
       "      <th></th>\n",
       "      <th></th>\n",
       "    </tr>\n",
       "  </thead>\n",
       "  <tbody>\n",
       "    <tr>\n",
       "      <th>Wednesday</th>\n",
       "      <td>48.0</td>\n",
       "      <td>30.0</td>\n",
       "      <td>NaN</td>\n",
       "      <td>NaN</td>\n",
       "      <td>NaN</td>\n",
       "      <td>NaN</td>\n",
       "      <td>NaN</td>\n",
       "      <td>NaN</td>\n",
       "      <td>NaN</td>\n",
       "    </tr>\n",
       "    <tr>\n",
       "      <th>Thursday</th>\n",
       "      <td>54.0</td>\n",
       "      <td>38.0</td>\n",
       "      <td>NaN</td>\n",
       "      <td>NaN</td>\n",
       "      <td>NaN</td>\n",
       "      <td>NaN</td>\n",
       "      <td>NaN</td>\n",
       "      <td>NaN</td>\n",
       "      <td>NaN</td>\n",
       "    </tr>\n",
       "    <tr>\n",
       "      <th>Friday</th>\n",
       "      <td>45.0</td>\n",
       "      <td>33.0</td>\n",
       "      <td>NaN</td>\n",
       "      <td>NaN</td>\n",
       "      <td>NaN</td>\n",
       "      <td>NaN</td>\n",
       "      <td>NaN</td>\n",
       "      <td>NaN</td>\n",
       "      <td>NaN</td>\n",
       "    </tr>\n",
       "    <tr>\n",
       "      <th>Saturday</th>\n",
       "      <td>61.0</td>\n",
       "      <td>45.0</td>\n",
       "      <td>NaN</td>\n",
       "      <td>NaN</td>\n",
       "      <td>NaN</td>\n",
       "      <td>NaN</td>\n",
       "      <td>NaN</td>\n",
       "      <td>NaN</td>\n",
       "      <td>NaN</td>\n",
       "    </tr>\n",
       "    <tr>\n",
       "      <th>Sunday</th>\n",
       "      <td>55.0</td>\n",
       "      <td>30.0</td>\n",
       "      <td>NaN</td>\n",
       "      <td>NaN</td>\n",
       "      <td>NaN</td>\n",
       "      <td>NaN</td>\n",
       "      <td>NaN</td>\n",
       "      <td>NaN</td>\n",
       "      <td>NaN</td>\n",
       "    </tr>\n",
       "    <tr>\n",
       "      <th>for_whom</th>\n",
       "      <td>NaN</td>\n",
       "      <td>NaN</td>\n",
       "      <td>The cats</td>\n",
       "      <td>The birds</td>\n",
       "      <td>The boys</td>\n",
       "      <td>The girls</td>\n",
       "      <td>The dogs</td>\n",
       "      <td>The non-binary</td>\n",
       "      <td>The camels</td>\n",
       "    </tr>\n",
       "  </tbody>\n",
       "</table>\n",
       "</div>"
      ],
      "text/plain": [
       "             high_temp  low_temp    Friday     Monday  Saturday     Sunday  \\\n",
       "day_of_week                                                                  \n",
       "Wednesday         48.0      30.0       NaN        NaN       NaN        NaN   \n",
       "Thursday          54.0      38.0       NaN        NaN       NaN        NaN   \n",
       "Friday            45.0      33.0       NaN        NaN       NaN        NaN   \n",
       "Saturday          61.0      45.0       NaN        NaN       NaN        NaN   \n",
       "Sunday            55.0      30.0       NaN        NaN       NaN        NaN   \n",
       "for_whom           NaN       NaN  The cats  The birds  The boys  The girls   \n",
       "\n",
       "             Thursday         Tuesday   Wednesday  \n",
       "day_of_week                                        \n",
       "Wednesday         NaN             NaN         NaN  \n",
       "Thursday          NaN             NaN         NaN  \n",
       "Friday            NaN             NaN         NaN  \n",
       "Saturday          NaN             NaN         NaN  \n",
       "Sunday            NaN             NaN         NaN  \n",
       "for_whom     The dogs  The non-binary  The camels  "
      ]
     },
     "execution_count": 89,
     "metadata": {},
     "output_type": "execute_result"
    }
   ],
   "source": [
    "idf.append(for_whom)"
   ]
  },
  {
   "cell_type": "markdown",
   "metadata": {
    "slideshow": {
     "slide_type": "fragment"
    }
   },
   "source": [
    "Still not right"
   ]
  },
  {
   "cell_type": "code",
   "execution_count": 90,
   "metadata": {
    "slideshow": {
     "slide_type": "subslide"
    }
   },
   "outputs": [
    {
     "data": {
      "text/html": [
       "<div>\n",
       "<style scoped>\n",
       "    .dataframe tbody tr th:only-of-type {\n",
       "        vertical-align: middle;\n",
       "    }\n",
       "\n",
       "    .dataframe tbody tr th {\n",
       "        vertical-align: top;\n",
       "    }\n",
       "\n",
       "    .dataframe thead th {\n",
       "        text-align: right;\n",
       "    }\n",
       "</style>\n",
       "<table border=\"1\" class=\"dataframe\">\n",
       "  <thead>\n",
       "    <tr style=\"text-align: right;\">\n",
       "      <th>day_of_week</th>\n",
       "      <th>Wednesday</th>\n",
       "      <th>Thursday</th>\n",
       "      <th>Friday</th>\n",
       "      <th>Saturday</th>\n",
       "      <th>Sunday</th>\n",
       "    </tr>\n",
       "  </thead>\n",
       "  <tbody>\n",
       "    <tr>\n",
       "      <th>high_temp</th>\n",
       "      <td>48</td>\n",
       "      <td>54</td>\n",
       "      <td>45</td>\n",
       "      <td>61</td>\n",
       "      <td>55</td>\n",
       "    </tr>\n",
       "    <tr>\n",
       "      <th>low_temp</th>\n",
       "      <td>30</td>\n",
       "      <td>38</td>\n",
       "      <td>33</td>\n",
       "      <td>45</td>\n",
       "      <td>30</td>\n",
       "    </tr>\n",
       "  </tbody>\n",
       "</table>\n",
       "</div>"
      ],
      "text/plain": [
       "day_of_week  Wednesday  Thursday  Friday  Saturday  Sunday\n",
       "high_temp           48        54      45        61      55\n",
       "low_temp            30        38      33        45      30"
      ]
     },
     "execution_count": 90,
     "metadata": {},
     "output_type": "execute_result"
    }
   ],
   "source": [
    "idft = idf.T\n",
    "idft"
   ]
  },
  {
   "cell_type": "code",
   "execution_count": 91,
   "metadata": {
    "slideshow": {
     "slide_type": "fragment"
    }
   },
   "outputs": [
    {
     "data": {
      "text/html": [
       "<div>\n",
       "<style scoped>\n",
       "    .dataframe tbody tr th:only-of-type {\n",
       "        vertical-align: middle;\n",
       "    }\n",
       "\n",
       "    .dataframe tbody tr th {\n",
       "        vertical-align: top;\n",
       "    }\n",
       "\n",
       "    .dataframe thead th {\n",
       "        text-align: right;\n",
       "    }\n",
       "</style>\n",
       "<table border=\"1\" class=\"dataframe\">\n",
       "  <thead>\n",
       "    <tr style=\"text-align: right;\">\n",
       "      <th></th>\n",
       "      <th>Wednesday</th>\n",
       "      <th>Thursday</th>\n",
       "      <th>Friday</th>\n",
       "      <th>Saturday</th>\n",
       "      <th>Sunday</th>\n",
       "      <th>Monday</th>\n",
       "      <th>Tuesday</th>\n",
       "    </tr>\n",
       "  </thead>\n",
       "  <tbody>\n",
       "    <tr>\n",
       "      <th>high_temp</th>\n",
       "      <td>48</td>\n",
       "      <td>54</td>\n",
       "      <td>45</td>\n",
       "      <td>61</td>\n",
       "      <td>55</td>\n",
       "      <td>NaN</td>\n",
       "      <td>NaN</td>\n",
       "    </tr>\n",
       "    <tr>\n",
       "      <th>low_temp</th>\n",
       "      <td>30</td>\n",
       "      <td>38</td>\n",
       "      <td>33</td>\n",
       "      <td>45</td>\n",
       "      <td>30</td>\n",
       "      <td>NaN</td>\n",
       "      <td>NaN</td>\n",
       "    </tr>\n",
       "    <tr>\n",
       "      <th>for_whom</th>\n",
       "      <td>The camels</td>\n",
       "      <td>The dogs</td>\n",
       "      <td>The cats</td>\n",
       "      <td>The boys</td>\n",
       "      <td>The girls</td>\n",
       "      <td>The birds</td>\n",
       "      <td>The non-binary</td>\n",
       "    </tr>\n",
       "  </tbody>\n",
       "</table>\n",
       "</div>"
      ],
      "text/plain": [
       "            Wednesday  Thursday    Friday  Saturday     Sunday     Monday  \\\n",
       "high_temp          48        54        45        61         55        NaN   \n",
       "low_temp           30        38        33        45         30        NaN   \n",
       "for_whom   The camels  The dogs  The cats  The boys  The girls  The birds   \n",
       "\n",
       "                  Tuesday  \n",
       "high_temp             NaN  \n",
       "low_temp              NaN  \n",
       "for_whom   The non-binary  "
      ]
     },
     "execution_count": 91,
     "metadata": {},
     "output_type": "execute_result"
    }
   ],
   "source": [
    "idft = idft.append(for_whom)\n",
    "idft"
   ]
  },
  {
   "cell_type": "markdown",
   "metadata": {
    "slideshow": {
     "slide_type": "fragment"
    }
   },
   "source": [
    "That's better"
   ]
  },
  {
   "cell_type": "code",
   "execution_count": 92,
   "metadata": {
    "slideshow": {
     "slide_type": "subslide"
    }
   },
   "outputs": [
    {
     "data": {
      "text/html": [
       "<div>\n",
       "<style scoped>\n",
       "    .dataframe tbody tr th:only-of-type {\n",
       "        vertical-align: middle;\n",
       "    }\n",
       "\n",
       "    .dataframe tbody tr th {\n",
       "        vertical-align: top;\n",
       "    }\n",
       "\n",
       "    .dataframe thead th {\n",
       "        text-align: right;\n",
       "    }\n",
       "</style>\n",
       "<table border=\"1\" class=\"dataframe\">\n",
       "  <thead>\n",
       "    <tr style=\"text-align: right;\">\n",
       "      <th></th>\n",
       "      <th>index</th>\n",
       "      <th>high_temp</th>\n",
       "      <th>low_temp</th>\n",
       "      <th>for_whom</th>\n",
       "    </tr>\n",
       "  </thead>\n",
       "  <tbody>\n",
       "    <tr>\n",
       "      <th>0</th>\n",
       "      <td>Wednesday</td>\n",
       "      <td>48</td>\n",
       "      <td>30</td>\n",
       "      <td>The camels</td>\n",
       "    </tr>\n",
       "    <tr>\n",
       "      <th>1</th>\n",
       "      <td>Thursday</td>\n",
       "      <td>54</td>\n",
       "      <td>38</td>\n",
       "      <td>The dogs</td>\n",
       "    </tr>\n",
       "    <tr>\n",
       "      <th>2</th>\n",
       "      <td>Friday</td>\n",
       "      <td>45</td>\n",
       "      <td>33</td>\n",
       "      <td>The cats</td>\n",
       "    </tr>\n",
       "    <tr>\n",
       "      <th>3</th>\n",
       "      <td>Saturday</td>\n",
       "      <td>61</td>\n",
       "      <td>45</td>\n",
       "      <td>The boys</td>\n",
       "    </tr>\n",
       "    <tr>\n",
       "      <th>4</th>\n",
       "      <td>Sunday</td>\n",
       "      <td>55</td>\n",
       "      <td>30</td>\n",
       "      <td>The girls</td>\n",
       "    </tr>\n",
       "    <tr>\n",
       "      <th>5</th>\n",
       "      <td>Monday</td>\n",
       "      <td>NaN</td>\n",
       "      <td>NaN</td>\n",
       "      <td>The birds</td>\n",
       "    </tr>\n",
       "    <tr>\n",
       "      <th>6</th>\n",
       "      <td>Tuesday</td>\n",
       "      <td>NaN</td>\n",
       "      <td>NaN</td>\n",
       "      <td>The non-binary</td>\n",
       "    </tr>\n",
       "  </tbody>\n",
       "</table>\n",
       "</div>"
      ],
      "text/plain": [
       "       index high_temp low_temp        for_whom\n",
       "0  Wednesday        48       30      The camels\n",
       "1   Thursday        54       38        The dogs\n",
       "2     Friday        45       33        The cats\n",
       "3   Saturday        61       45        The boys\n",
       "4     Sunday        55       30       The girls\n",
       "5     Monday       NaN      NaN       The birds\n",
       "6    Tuesday       NaN      NaN  The non-binary"
      ]
     },
     "execution_count": 92,
     "metadata": {},
     "output_type": "execute_result"
    }
   ],
   "source": [
    "# To get it back to the previous format we undo to the transformations\n",
    "idf = idft.T.reset_index()\n",
    "idf"
   ]
  },
  {
   "cell_type": "markdown",
   "metadata": {
    "slideshow": {
     "slide_type": "fragment"
    }
   },
   "source": [
    "# Notice\n",
    "- The Week days now have the column label 'index'\n",
    "- The original label was lost when we set them to be the index.\n",
    "- We lost the original index values. \n",
    "- We didn't have temps for Monday or Tuesday so those have been filled with NaNs"
   ]
  },
  {
   "cell_type": "code",
   "execution_count": 93,
   "metadata": {
    "slideshow": {
     "slide_type": "subslide"
    }
   },
   "outputs": [
    {
     "data": {
      "text/html": [
       "<div>\n",
       "<style scoped>\n",
       "    .dataframe tbody tr th:only-of-type {\n",
       "        vertical-align: middle;\n",
       "    }\n",
       "\n",
       "    .dataframe tbody tr th {\n",
       "        vertical-align: top;\n",
       "    }\n",
       "\n",
       "    .dataframe thead th {\n",
       "        text-align: right;\n",
       "    }\n",
       "</style>\n",
       "<table border=\"1\" class=\"dataframe\">\n",
       "  <thead>\n",
       "    <tr style=\"text-align: right;\">\n",
       "      <th></th>\n",
       "      <th>day_of_week</th>\n",
       "      <th>high_temp</th>\n",
       "      <th>low_temp</th>\n",
       "      <th>date</th>\n",
       "    </tr>\n",
       "  </thead>\n",
       "  <tbody>\n",
       "    <tr>\n",
       "      <th>2020-01-01</th>\n",
       "      <td>Wednesday</td>\n",
       "      <td>48</td>\n",
       "      <td>30</td>\n",
       "      <td>2020-01-01</td>\n",
       "    </tr>\n",
       "    <tr>\n",
       "      <th>2020-01-02</th>\n",
       "      <td>Thursday</td>\n",
       "      <td>54</td>\n",
       "      <td>38</td>\n",
       "      <td>2020-01-02</td>\n",
       "    </tr>\n",
       "    <tr>\n",
       "      <th>2020-01-03</th>\n",
       "      <td>Friday</td>\n",
       "      <td>45</td>\n",
       "      <td>33</td>\n",
       "      <td>2020-01-03</td>\n",
       "    </tr>\n",
       "    <tr>\n",
       "      <th>2020-01-04</th>\n",
       "      <td>Saturday</td>\n",
       "      <td>61</td>\n",
       "      <td>45</td>\n",
       "      <td>2020-01-04</td>\n",
       "    </tr>\n",
       "    <tr>\n",
       "      <th>2020-01-05</th>\n",
       "      <td>Sunday</td>\n",
       "      <td>55</td>\n",
       "      <td>30</td>\n",
       "      <td>2020-01-05</td>\n",
       "    </tr>\n",
       "  </tbody>\n",
       "</table>\n",
       "</div>"
      ],
      "text/plain": [
       "           day_of_week  high_temp  low_temp       date\n",
       "2020-01-01   Wednesday         48        30 2020-01-01\n",
       "2020-01-02    Thursday         54        38 2020-01-02\n",
       "2020-01-03      Friday         45        33 2020-01-03\n",
       "2020-01-04    Saturday         61        45 2020-01-04\n",
       "2020-01-05      Sunday         55        30 2020-01-05"
      ]
     },
     "execution_count": 93,
     "metadata": {},
     "output_type": "execute_result"
    }
   ],
   "source": [
    "# To retain the original index we need to save it in a column before setting the new index\n",
    "df['date'] = df.index\n",
    "df"
   ]
  },
  {
   "cell_type": "code",
   "execution_count": 94,
   "metadata": {
    "slideshow": {
     "slide_type": "fragment"
    }
   },
   "outputs": [
    {
     "data": {
      "text/html": [
       "<div>\n",
       "<style scoped>\n",
       "    .dataframe tbody tr th:only-of-type {\n",
       "        vertical-align: middle;\n",
       "    }\n",
       "\n",
       "    .dataframe tbody tr th {\n",
       "        vertical-align: top;\n",
       "    }\n",
       "\n",
       "    .dataframe thead th {\n",
       "        text-align: right;\n",
       "    }\n",
       "</style>\n",
       "<table border=\"1\" class=\"dataframe\">\n",
       "  <thead>\n",
       "    <tr style=\"text-align: right;\">\n",
       "      <th></th>\n",
       "      <th>index</th>\n",
       "      <th>high_temp</th>\n",
       "      <th>low_temp</th>\n",
       "      <th>date</th>\n",
       "      <th>for_whom</th>\n",
       "    </tr>\n",
       "  </thead>\n",
       "  <tbody>\n",
       "    <tr>\n",
       "      <th>0</th>\n",
       "      <td>Wednesday</td>\n",
       "      <td>48</td>\n",
       "      <td>30</td>\n",
       "      <td>2020-01-01</td>\n",
       "      <td>The camels</td>\n",
       "    </tr>\n",
       "    <tr>\n",
       "      <th>1</th>\n",
       "      <td>Thursday</td>\n",
       "      <td>54</td>\n",
       "      <td>38</td>\n",
       "      <td>2020-01-02</td>\n",
       "      <td>The dogs</td>\n",
       "    </tr>\n",
       "    <tr>\n",
       "      <th>2</th>\n",
       "      <td>Friday</td>\n",
       "      <td>45</td>\n",
       "      <td>33</td>\n",
       "      <td>2020-01-03</td>\n",
       "      <td>The cats</td>\n",
       "    </tr>\n",
       "    <tr>\n",
       "      <th>3</th>\n",
       "      <td>Saturday</td>\n",
       "      <td>61</td>\n",
       "      <td>45</td>\n",
       "      <td>2020-01-04</td>\n",
       "      <td>The boys</td>\n",
       "    </tr>\n",
       "    <tr>\n",
       "      <th>4</th>\n",
       "      <td>Sunday</td>\n",
       "      <td>55</td>\n",
       "      <td>30</td>\n",
       "      <td>2020-01-05</td>\n",
       "      <td>The girls</td>\n",
       "    </tr>\n",
       "    <tr>\n",
       "      <th>5</th>\n",
       "      <td>Monday</td>\n",
       "      <td>NaN</td>\n",
       "      <td>NaN</td>\n",
       "      <td>NaT</td>\n",
       "      <td>The birds</td>\n",
       "    </tr>\n",
       "    <tr>\n",
       "      <th>6</th>\n",
       "      <td>Tuesday</td>\n",
       "      <td>NaN</td>\n",
       "      <td>NaN</td>\n",
       "      <td>NaT</td>\n",
       "      <td>The non-binary</td>\n",
       "    </tr>\n",
       "  </tbody>\n",
       "</table>\n",
       "</div>"
      ],
      "text/plain": [
       "       index high_temp low_temp       date        for_whom\n",
       "0  Wednesday        48       30 2020-01-01      The camels\n",
       "1   Thursday        54       38 2020-01-02        The dogs\n",
       "2     Friday        45       33 2020-01-03        The cats\n",
       "3   Saturday        61       45 2020-01-04        The boys\n",
       "4     Sunday        55       30 2020-01-05       The girls\n",
       "5     Monday       NaN      NaN        NaT       The birds\n",
       "6    Tuesday       NaN      NaN        NaT  The non-binary"
      ]
     },
     "execution_count": 94,
     "metadata": {},
     "output_type": "execute_result"
    }
   ],
   "source": [
    "# Then proceed as before\n",
    "sdf = df.set_index('day_of_week').T.append(for_whom).T.reset_index()\n",
    "sdf"
   ]
  },
  {
   "cell_type": "markdown",
   "metadata": {
    "slideshow": {
     "slide_type": "slide"
    }
   },
   "source": [
    "# Joining a Dataframe to a Dataframe"
   ]
  },
  {
   "cell_type": "code",
   "execution_count": 95,
   "metadata": {
    "slideshow": {
     "slide_type": "fragment"
    }
   },
   "outputs": [
    {
     "data": {
      "text/html": [
       "<div>\n",
       "<style scoped>\n",
       "    .dataframe tbody tr th:only-of-type {\n",
       "        vertical-align: middle;\n",
       "    }\n",
       "\n",
       "    .dataframe tbody tr th {\n",
       "        vertical-align: top;\n",
       "    }\n",
       "\n",
       "    .dataframe thead th {\n",
       "        text-align: right;\n",
       "    }\n",
       "</style>\n",
       "<table border=\"1\" class=\"dataframe\">\n",
       "  <thead>\n",
       "    <tr style=\"text-align: right;\">\n",
       "      <th></th>\n",
       "      <th>day_of_week</th>\n",
       "      <th>date</th>\n",
       "      <th>high_temp</th>\n",
       "      <th>low_temp</th>\n",
       "    </tr>\n",
       "  </thead>\n",
       "  <tbody>\n",
       "    <tr>\n",
       "      <th>0</th>\n",
       "      <td>Sunday</td>\n",
       "      <td>2020-06-21</td>\n",
       "      <td>81</td>\n",
       "      <td>66</td>\n",
       "    </tr>\n",
       "    <tr>\n",
       "      <th>1</th>\n",
       "      <td>Monday</td>\n",
       "      <td>2020-06-22</td>\n",
       "      <td>81</td>\n",
       "      <td>66</td>\n",
       "    </tr>\n",
       "    <tr>\n",
       "      <th>2</th>\n",
       "      <td>Tuesday</td>\n",
       "      <td>2020-06-23</td>\n",
       "      <td>81</td>\n",
       "      <td>66</td>\n",
       "    </tr>\n",
       "    <tr>\n",
       "      <th>3</th>\n",
       "      <td>Wednesday</td>\n",
       "      <td>2020-06-24</td>\n",
       "      <td>82</td>\n",
       "      <td>66</td>\n",
       "    </tr>\n",
       "    <tr>\n",
       "      <th>4</th>\n",
       "      <td>Thursday</td>\n",
       "      <td>2020-06-25</td>\n",
       "      <td>82</td>\n",
       "      <td>67</td>\n",
       "    </tr>\n",
       "    <tr>\n",
       "      <th>5</th>\n",
       "      <td>Friday</td>\n",
       "      <td>2020-06-26</td>\n",
       "      <td>82</td>\n",
       "      <td>67</td>\n",
       "    </tr>\n",
       "    <tr>\n",
       "      <th>6</th>\n",
       "      <td>Saturday</td>\n",
       "      <td>2020-06-27</td>\n",
       "      <td>83</td>\n",
       "      <td>68</td>\n",
       "    </tr>\n",
       "  </tbody>\n",
       "</table>\n",
       "</div>"
      ],
      "text/plain": [
       "  day_of_week       date  high_temp  low_temp\n",
       "0      Sunday 2020-06-21         81        66\n",
       "1      Monday 2020-06-22         81        66\n",
       "2     Tuesday 2020-06-23         81        66\n",
       "3   Wednesday 2020-06-24         82        66\n",
       "4    Thursday 2020-06-25         82        67\n",
       "5      Friday 2020-06-26         82        67\n",
       "6    Saturday 2020-06-27         83        68"
      ]
     },
     "execution_count": 95,
     "metadata": {},
     "output_type": "execute_result"
    }
   ],
   "source": [
    "# In the last section we joined a 1-dimensional series to our dataframe, but what if we have a second dataframe\n",
    "df2 = pd.DataFrame({\n",
    "   'day_of_week': ['Sunday', 'Monday', 'Tuesday', 'Wednesday', 'Thursday', 'Friday', 'Saturday'],\n",
    "   'date': [\n",
    "       pd.Timestamp('20200621'),\n",
    "       pd.Timestamp('20200622'),\n",
    "       pd.Timestamp('20200623'),\n",
    "       pd.Timestamp('20200624'),\n",
    "       pd.Timestamp('20200625'),\n",
    "       pd.Timestamp('20200626'),\n",
    "       pd.Timestamp('20200627'),\n",
    "   ],\n",
    "    'high_temp': [81, 81, 81, 82, 82, 82, 83],\n",
    "    'low_temp': [66, 66, 66, 66, 67, 67, 68]\n",
    "})\n",
    "df2"
   ]
  },
  {
   "cell_type": "code",
   "execution_count": 96,
   "metadata": {
    "slideshow": {
     "slide_type": "subslide"
    }
   },
   "outputs": [
    {
     "data": {
      "text/html": [
       "<div>\n",
       "<style scoped>\n",
       "    .dataframe tbody tr th:only-of-type {\n",
       "        vertical-align: middle;\n",
       "    }\n",
       "\n",
       "    .dataframe tbody tr th {\n",
       "        vertical-align: top;\n",
       "    }\n",
       "\n",
       "    .dataframe thead th {\n",
       "        text-align: right;\n",
       "    }\n",
       "</style>\n",
       "<table border=\"1\" class=\"dataframe\">\n",
       "  <thead>\n",
       "    <tr style=\"text-align: right;\">\n",
       "      <th></th>\n",
       "      <th>day_of_week</th>\n",
       "      <th>date</th>\n",
       "      <th>high_temp</th>\n",
       "      <th>low_temp</th>\n",
       "    </tr>\n",
       "  </thead>\n",
       "  <tbody>\n",
       "    <tr>\n",
       "      <th>0</th>\n",
       "      <td>Sunday</td>\n",
       "      <td>2020-11-01</td>\n",
       "      <td>59</td>\n",
       "      <td>46</td>\n",
       "    </tr>\n",
       "    <tr>\n",
       "      <th>1</th>\n",
       "      <td>Monday</td>\n",
       "      <td>2020-11-02</td>\n",
       "      <td>58</td>\n",
       "      <td>45</td>\n",
       "    </tr>\n",
       "    <tr>\n",
       "      <th>2</th>\n",
       "      <td>Tuesday</td>\n",
       "      <td>2020-11-03</td>\n",
       "      <td>58</td>\n",
       "      <td>45</td>\n",
       "    </tr>\n",
       "    <tr>\n",
       "      <th>3</th>\n",
       "      <td>Wednesday</td>\n",
       "      <td>2020-11-04</td>\n",
       "      <td>57</td>\n",
       "      <td>45</td>\n",
       "    </tr>\n",
       "    <tr>\n",
       "      <th>4</th>\n",
       "      <td>Thursday</td>\n",
       "      <td>2020-11-05</td>\n",
       "      <td>57</td>\n",
       "      <td>45</td>\n",
       "    </tr>\n",
       "    <tr>\n",
       "      <th>5</th>\n",
       "      <td>Friday</td>\n",
       "      <td>2020-11-06</td>\n",
       "      <td>57</td>\n",
       "      <td>44</td>\n",
       "    </tr>\n",
       "    <tr>\n",
       "      <th>6</th>\n",
       "      <td>Saturday</td>\n",
       "      <td>2020-11-07</td>\n",
       "      <td>56</td>\n",
       "      <td>44</td>\n",
       "    </tr>\n",
       "  </tbody>\n",
       "</table>\n",
       "</div>"
      ],
      "text/plain": [
       "  day_of_week       date  high_temp  low_temp\n",
       "0      Sunday 2020-11-01         59        46\n",
       "1      Monday 2020-11-02         58        45\n",
       "2     Tuesday 2020-11-03         58        45\n",
       "3   Wednesday 2020-11-04         57        45\n",
       "4    Thursday 2020-11-05         57        45\n",
       "5      Friday 2020-11-06         57        44\n",
       "6    Saturday 2020-11-07         56        44"
      ]
     },
     "execution_count": 96,
     "metadata": {},
     "output_type": "execute_result"
    }
   ],
   "source": [
    "df3 = pd.DataFrame({\n",
    "   'day_of_week': ['Sunday', 'Monday', 'Tuesday', 'Wednesday', 'Thursday', 'Friday', 'Saturday'],\n",
    "   'date': [\n",
    "       pd.Timestamp('20201101'),\n",
    "       pd.Timestamp('20201102'),\n",
    "       pd.Timestamp('20201103'),\n",
    "       pd.Timestamp('20201104'),\n",
    "       pd.Timestamp('20201105'),\n",
    "       pd.Timestamp('20201106'),\n",
    "       pd.Timestamp('20201107'),\n",
    "   ],\n",
    "    'high_temp': [59, 58, 58, 57, 57, 57, 56],\n",
    "    'low_temp': [46, 45, 45, 45, 45, 44, 44]\n",
    "})\n",
    "df3"
   ]
  },
  {
   "cell_type": "markdown",
   "metadata": {
    "slideshow": {
     "slide_type": "fragment"
    }
   },
   "source": [
    "# How do we combine these datasets?"
   ]
  },
  {
   "cell_type": "code",
   "execution_count": 97,
   "metadata": {
    "slideshow": {
     "slide_type": "subslide"
    }
   },
   "outputs": [
    {
     "data": {
      "text/html": [
       "<div>\n",
       "<style scoped>\n",
       "    .dataframe tbody tr th:only-of-type {\n",
       "        vertical-align: middle;\n",
       "    }\n",
       "\n",
       "    .dataframe tbody tr th {\n",
       "        vertical-align: top;\n",
       "    }\n",
       "\n",
       "    .dataframe thead th {\n",
       "        text-align: right;\n",
       "    }\n",
       "</style>\n",
       "<table border=\"1\" class=\"dataframe\">\n",
       "  <thead>\n",
       "    <tr style=\"text-align: right;\">\n",
       "      <th></th>\n",
       "      <th>index</th>\n",
       "      <th>high_temp</th>\n",
       "      <th>low_temp</th>\n",
       "      <th>date</th>\n",
       "      <th>for_whom</th>\n",
       "      <th>day_of_week</th>\n",
       "    </tr>\n",
       "  </thead>\n",
       "  <tbody>\n",
       "    <tr>\n",
       "      <th>0</th>\n",
       "      <td>Wednesday</td>\n",
       "      <td>48</td>\n",
       "      <td>30</td>\n",
       "      <td>2020-01-01</td>\n",
       "      <td>The camels</td>\n",
       "      <td>NaN</td>\n",
       "    </tr>\n",
       "    <tr>\n",
       "      <th>1</th>\n",
       "      <td>Thursday</td>\n",
       "      <td>54</td>\n",
       "      <td>38</td>\n",
       "      <td>2020-01-02</td>\n",
       "      <td>The dogs</td>\n",
       "      <td>NaN</td>\n",
       "    </tr>\n",
       "    <tr>\n",
       "      <th>2</th>\n",
       "      <td>Friday</td>\n",
       "      <td>45</td>\n",
       "      <td>33</td>\n",
       "      <td>2020-01-03</td>\n",
       "      <td>The cats</td>\n",
       "      <td>NaN</td>\n",
       "    </tr>\n",
       "    <tr>\n",
       "      <th>3</th>\n",
       "      <td>Saturday</td>\n",
       "      <td>61</td>\n",
       "      <td>45</td>\n",
       "      <td>2020-01-04</td>\n",
       "      <td>The boys</td>\n",
       "      <td>NaN</td>\n",
       "    </tr>\n",
       "    <tr>\n",
       "      <th>4</th>\n",
       "      <td>Sunday</td>\n",
       "      <td>55</td>\n",
       "      <td>30</td>\n",
       "      <td>2020-01-05</td>\n",
       "      <td>The girls</td>\n",
       "      <td>NaN</td>\n",
       "    </tr>\n",
       "    <tr>\n",
       "      <th>5</th>\n",
       "      <td>Monday</td>\n",
       "      <td>NaN</td>\n",
       "      <td>NaN</td>\n",
       "      <td>NaT</td>\n",
       "      <td>The birds</td>\n",
       "      <td>NaN</td>\n",
       "    </tr>\n",
       "    <tr>\n",
       "      <th>6</th>\n",
       "      <td>Tuesday</td>\n",
       "      <td>NaN</td>\n",
       "      <td>NaN</td>\n",
       "      <td>NaT</td>\n",
       "      <td>The non-binary</td>\n",
       "      <td>NaN</td>\n",
       "    </tr>\n",
       "    <tr>\n",
       "      <th>0</th>\n",
       "      <td>NaN</td>\n",
       "      <td>81</td>\n",
       "      <td>66</td>\n",
       "      <td>2020-06-21</td>\n",
       "      <td>NaN</td>\n",
       "      <td>Sunday</td>\n",
       "    </tr>\n",
       "    <tr>\n",
       "      <th>1</th>\n",
       "      <td>NaN</td>\n",
       "      <td>81</td>\n",
       "      <td>66</td>\n",
       "      <td>2020-06-22</td>\n",
       "      <td>NaN</td>\n",
       "      <td>Monday</td>\n",
       "    </tr>\n",
       "    <tr>\n",
       "      <th>2</th>\n",
       "      <td>NaN</td>\n",
       "      <td>81</td>\n",
       "      <td>66</td>\n",
       "      <td>2020-06-23</td>\n",
       "      <td>NaN</td>\n",
       "      <td>Tuesday</td>\n",
       "    </tr>\n",
       "    <tr>\n",
       "      <th>3</th>\n",
       "      <td>NaN</td>\n",
       "      <td>82</td>\n",
       "      <td>66</td>\n",
       "      <td>2020-06-24</td>\n",
       "      <td>NaN</td>\n",
       "      <td>Wednesday</td>\n",
       "    </tr>\n",
       "    <tr>\n",
       "      <th>4</th>\n",
       "      <td>NaN</td>\n",
       "      <td>82</td>\n",
       "      <td>67</td>\n",
       "      <td>2020-06-25</td>\n",
       "      <td>NaN</td>\n",
       "      <td>Thursday</td>\n",
       "    </tr>\n",
       "    <tr>\n",
       "      <th>5</th>\n",
       "      <td>NaN</td>\n",
       "      <td>82</td>\n",
       "      <td>67</td>\n",
       "      <td>2020-06-26</td>\n",
       "      <td>NaN</td>\n",
       "      <td>Friday</td>\n",
       "    </tr>\n",
       "    <tr>\n",
       "      <th>6</th>\n",
       "      <td>NaN</td>\n",
       "      <td>83</td>\n",
       "      <td>68</td>\n",
       "      <td>2020-06-27</td>\n",
       "      <td>NaN</td>\n",
       "      <td>Saturday</td>\n",
       "    </tr>\n",
       "    <tr>\n",
       "      <th>0</th>\n",
       "      <td>NaN</td>\n",
       "      <td>59</td>\n",
       "      <td>46</td>\n",
       "      <td>2020-11-01</td>\n",
       "      <td>NaN</td>\n",
       "      <td>Sunday</td>\n",
       "    </tr>\n",
       "    <tr>\n",
       "      <th>1</th>\n",
       "      <td>NaN</td>\n",
       "      <td>58</td>\n",
       "      <td>45</td>\n",
       "      <td>2020-11-02</td>\n",
       "      <td>NaN</td>\n",
       "      <td>Monday</td>\n",
       "    </tr>\n",
       "    <tr>\n",
       "      <th>2</th>\n",
       "      <td>NaN</td>\n",
       "      <td>58</td>\n",
       "      <td>45</td>\n",
       "      <td>2020-11-03</td>\n",
       "      <td>NaN</td>\n",
       "      <td>Tuesday</td>\n",
       "    </tr>\n",
       "    <tr>\n",
       "      <th>3</th>\n",
       "      <td>NaN</td>\n",
       "      <td>57</td>\n",
       "      <td>45</td>\n",
       "      <td>2020-11-04</td>\n",
       "      <td>NaN</td>\n",
       "      <td>Wednesday</td>\n",
       "    </tr>\n",
       "    <tr>\n",
       "      <th>4</th>\n",
       "      <td>NaN</td>\n",
       "      <td>57</td>\n",
       "      <td>45</td>\n",
       "      <td>2020-11-05</td>\n",
       "      <td>NaN</td>\n",
       "      <td>Thursday</td>\n",
       "    </tr>\n",
       "    <tr>\n",
       "      <th>5</th>\n",
       "      <td>NaN</td>\n",
       "      <td>57</td>\n",
       "      <td>44</td>\n",
       "      <td>2020-11-06</td>\n",
       "      <td>NaN</td>\n",
       "      <td>Friday</td>\n",
       "    </tr>\n",
       "    <tr>\n",
       "      <th>6</th>\n",
       "      <td>NaN</td>\n",
       "      <td>56</td>\n",
       "      <td>44</td>\n",
       "      <td>2020-11-07</td>\n",
       "      <td>NaN</td>\n",
       "      <td>Saturday</td>\n",
       "    </tr>\n",
       "  </tbody>\n",
       "</table>\n",
       "</div>"
      ],
      "text/plain": [
       "       index high_temp low_temp       date        for_whom day_of_week\n",
       "0  Wednesday        48       30 2020-01-01      The camels         NaN\n",
       "1   Thursday        54       38 2020-01-02        The dogs         NaN\n",
       "2     Friday        45       33 2020-01-03        The cats         NaN\n",
       "3   Saturday        61       45 2020-01-04        The boys         NaN\n",
       "4     Sunday        55       30 2020-01-05       The girls         NaN\n",
       "5     Monday       NaN      NaN        NaT       The birds         NaN\n",
       "6    Tuesday       NaN      NaN        NaT  The non-binary         NaN\n",
       "0        NaN        81       66 2020-06-21             NaN      Sunday\n",
       "1        NaN        81       66 2020-06-22             NaN      Monday\n",
       "2        NaN        81       66 2020-06-23             NaN     Tuesday\n",
       "3        NaN        82       66 2020-06-24             NaN   Wednesday\n",
       "4        NaN        82       67 2020-06-25             NaN    Thursday\n",
       "5        NaN        82       67 2020-06-26             NaN      Friday\n",
       "6        NaN        83       68 2020-06-27             NaN    Saturday\n",
       "0        NaN        59       46 2020-11-01             NaN      Sunday\n",
       "1        NaN        58       45 2020-11-02             NaN      Monday\n",
       "2        NaN        58       45 2020-11-03             NaN     Tuesday\n",
       "3        NaN        57       45 2020-11-04             NaN   Wednesday\n",
       "4        NaN        57       45 2020-11-05             NaN    Thursday\n",
       "5        NaN        57       44 2020-11-06             NaN      Friday\n",
       "6        NaN        56       44 2020-11-07             NaN    Saturday"
      ]
     },
     "execution_count": 97,
     "metadata": {},
     "output_type": "execute_result"
    }
   ],
   "source": [
    "# The simplest is concat\n",
    "pd.concat([sdf, df2, df3])"
   ]
  },
  {
   "cell_type": "markdown",
   "metadata": {
    "slideshow": {
     "slide_type": "subslide"
    }
   },
   "source": [
    "- Stick one dataframe onto the end of another.\n",
    "- Notice that the data isn't perfectly aligned. 'day_of_week' and 'index' should be the same column"
   ]
  },
  {
   "cell_type": "code",
   "execution_count": 98,
   "metadata": {
    "slideshow": {
     "slide_type": "fragment"
    }
   },
   "outputs": [
    {
     "data": {
      "text/html": [
       "<div>\n",
       "<style scoped>\n",
       "    .dataframe tbody tr th:only-of-type {\n",
       "        vertical-align: middle;\n",
       "    }\n",
       "\n",
       "    .dataframe tbody tr th {\n",
       "        vertical-align: top;\n",
       "    }\n",
       "\n",
       "    .dataframe thead th {\n",
       "        text-align: right;\n",
       "    }\n",
       "</style>\n",
       "<table border=\"1\" class=\"dataframe\">\n",
       "  <thead>\n",
       "    <tr style=\"text-align: right;\">\n",
       "      <th></th>\n",
       "      <th>day_of_week</th>\n",
       "      <th>high_temp</th>\n",
       "      <th>low_temp</th>\n",
       "      <th>date</th>\n",
       "      <th>for_whom</th>\n",
       "    </tr>\n",
       "  </thead>\n",
       "  <tbody>\n",
       "    <tr>\n",
       "      <th>0</th>\n",
       "      <td>Wednesday</td>\n",
       "      <td>48</td>\n",
       "      <td>30</td>\n",
       "      <td>2020-01-01</td>\n",
       "      <td>The camels</td>\n",
       "    </tr>\n",
       "    <tr>\n",
       "      <th>1</th>\n",
       "      <td>Thursday</td>\n",
       "      <td>54</td>\n",
       "      <td>38</td>\n",
       "      <td>2020-01-02</td>\n",
       "      <td>The dogs</td>\n",
       "    </tr>\n",
       "    <tr>\n",
       "      <th>2</th>\n",
       "      <td>Friday</td>\n",
       "      <td>45</td>\n",
       "      <td>33</td>\n",
       "      <td>2020-01-03</td>\n",
       "      <td>The cats</td>\n",
       "    </tr>\n",
       "    <tr>\n",
       "      <th>3</th>\n",
       "      <td>Saturday</td>\n",
       "      <td>61</td>\n",
       "      <td>45</td>\n",
       "      <td>2020-01-04</td>\n",
       "      <td>The boys</td>\n",
       "    </tr>\n",
       "    <tr>\n",
       "      <th>4</th>\n",
       "      <td>Sunday</td>\n",
       "      <td>55</td>\n",
       "      <td>30</td>\n",
       "      <td>2020-01-05</td>\n",
       "      <td>The girls</td>\n",
       "    </tr>\n",
       "    <tr>\n",
       "      <th>5</th>\n",
       "      <td>Monday</td>\n",
       "      <td>NaN</td>\n",
       "      <td>NaN</td>\n",
       "      <td>NaT</td>\n",
       "      <td>The birds</td>\n",
       "    </tr>\n",
       "    <tr>\n",
       "      <th>6</th>\n",
       "      <td>Tuesday</td>\n",
       "      <td>NaN</td>\n",
       "      <td>NaN</td>\n",
       "      <td>NaT</td>\n",
       "      <td>The non-binary</td>\n",
       "    </tr>\n",
       "  </tbody>\n",
       "</table>\n",
       "</div>"
      ],
      "text/plain": [
       "  day_of_week high_temp low_temp       date        for_whom\n",
       "0   Wednesday        48       30 2020-01-01      The camels\n",
       "1    Thursday        54       38 2020-01-02        The dogs\n",
       "2      Friday        45       33 2020-01-03        The cats\n",
       "3    Saturday        61       45 2020-01-04        The boys\n",
       "4      Sunday        55       30 2020-01-05       The girls\n",
       "5      Monday       NaN      NaN        NaT       The birds\n",
       "6     Tuesday       NaN      NaN        NaT  The non-binary"
      ]
     },
     "execution_count": 98,
     "metadata": {},
     "output_type": "execute_result"
    }
   ],
   "source": [
    "# To fix this rename 'index'\n",
    "sdf = sdf.rename({'index': 'day_of_week'}, axis=1)\n",
    "# Axis 1 indicates to operate on 'columns'. The default is 'index'\n",
    "sdf"
   ]
  },
  {
   "cell_type": "code",
   "execution_count": 99,
   "metadata": {
    "slideshow": {
     "slide_type": "subslide"
    }
   },
   "outputs": [
    {
     "data": {
      "text/html": [
       "<div>\n",
       "<style scoped>\n",
       "    .dataframe tbody tr th:only-of-type {\n",
       "        vertical-align: middle;\n",
       "    }\n",
       "\n",
       "    .dataframe tbody tr th {\n",
       "        vertical-align: top;\n",
       "    }\n",
       "\n",
       "    .dataframe thead th {\n",
       "        text-align: right;\n",
       "    }\n",
       "</style>\n",
       "<table border=\"1\" class=\"dataframe\">\n",
       "  <thead>\n",
       "    <tr style=\"text-align: right;\">\n",
       "      <th></th>\n",
       "      <th>day_of_week</th>\n",
       "      <th>high_temp</th>\n",
       "      <th>low_temp</th>\n",
       "      <th>date</th>\n",
       "      <th>for_whom</th>\n",
       "    </tr>\n",
       "  </thead>\n",
       "  <tbody>\n",
       "    <tr>\n",
       "      <th>0</th>\n",
       "      <td>Wednesday</td>\n",
       "      <td>48</td>\n",
       "      <td>30</td>\n",
       "      <td>2020-01-01</td>\n",
       "      <td>The camels</td>\n",
       "    </tr>\n",
       "    <tr>\n",
       "      <th>1</th>\n",
       "      <td>Thursday</td>\n",
       "      <td>54</td>\n",
       "      <td>38</td>\n",
       "      <td>2020-01-02</td>\n",
       "      <td>The dogs</td>\n",
       "    </tr>\n",
       "    <tr>\n",
       "      <th>2</th>\n",
       "      <td>Friday</td>\n",
       "      <td>45</td>\n",
       "      <td>33</td>\n",
       "      <td>2020-01-03</td>\n",
       "      <td>The cats</td>\n",
       "    </tr>\n",
       "    <tr>\n",
       "      <th>3</th>\n",
       "      <td>Saturday</td>\n",
       "      <td>61</td>\n",
       "      <td>45</td>\n",
       "      <td>2020-01-04</td>\n",
       "      <td>The boys</td>\n",
       "    </tr>\n",
       "    <tr>\n",
       "      <th>4</th>\n",
       "      <td>Sunday</td>\n",
       "      <td>55</td>\n",
       "      <td>30</td>\n",
       "      <td>2020-01-05</td>\n",
       "      <td>The girls</td>\n",
       "    </tr>\n",
       "    <tr>\n",
       "      <th>5</th>\n",
       "      <td>Monday</td>\n",
       "      <td>NaN</td>\n",
       "      <td>NaN</td>\n",
       "      <td>NaT</td>\n",
       "      <td>The birds</td>\n",
       "    </tr>\n",
       "    <tr>\n",
       "      <th>6</th>\n",
       "      <td>Tuesday</td>\n",
       "      <td>NaN</td>\n",
       "      <td>NaN</td>\n",
       "      <td>NaT</td>\n",
       "      <td>The non-binary</td>\n",
       "    </tr>\n",
       "    <tr>\n",
       "      <th>0</th>\n",
       "      <td>Sunday</td>\n",
       "      <td>81</td>\n",
       "      <td>66</td>\n",
       "      <td>2020-06-21</td>\n",
       "      <td>NaN</td>\n",
       "    </tr>\n",
       "    <tr>\n",
       "      <th>1</th>\n",
       "      <td>Monday</td>\n",
       "      <td>81</td>\n",
       "      <td>66</td>\n",
       "      <td>2020-06-22</td>\n",
       "      <td>NaN</td>\n",
       "    </tr>\n",
       "    <tr>\n",
       "      <th>2</th>\n",
       "      <td>Tuesday</td>\n",
       "      <td>81</td>\n",
       "      <td>66</td>\n",
       "      <td>2020-06-23</td>\n",
       "      <td>NaN</td>\n",
       "    </tr>\n",
       "    <tr>\n",
       "      <th>3</th>\n",
       "      <td>Wednesday</td>\n",
       "      <td>82</td>\n",
       "      <td>66</td>\n",
       "      <td>2020-06-24</td>\n",
       "      <td>NaN</td>\n",
       "    </tr>\n",
       "    <tr>\n",
       "      <th>4</th>\n",
       "      <td>Thursday</td>\n",
       "      <td>82</td>\n",
       "      <td>67</td>\n",
       "      <td>2020-06-25</td>\n",
       "      <td>NaN</td>\n",
       "    </tr>\n",
       "    <tr>\n",
       "      <th>5</th>\n",
       "      <td>Friday</td>\n",
       "      <td>82</td>\n",
       "      <td>67</td>\n",
       "      <td>2020-06-26</td>\n",
       "      <td>NaN</td>\n",
       "    </tr>\n",
       "    <tr>\n",
       "      <th>6</th>\n",
       "      <td>Saturday</td>\n",
       "      <td>83</td>\n",
       "      <td>68</td>\n",
       "      <td>2020-06-27</td>\n",
       "      <td>NaN</td>\n",
       "    </tr>\n",
       "    <tr>\n",
       "      <th>0</th>\n",
       "      <td>Sunday</td>\n",
       "      <td>59</td>\n",
       "      <td>46</td>\n",
       "      <td>2020-11-01</td>\n",
       "      <td>NaN</td>\n",
       "    </tr>\n",
       "    <tr>\n",
       "      <th>1</th>\n",
       "      <td>Monday</td>\n",
       "      <td>58</td>\n",
       "      <td>45</td>\n",
       "      <td>2020-11-02</td>\n",
       "      <td>NaN</td>\n",
       "    </tr>\n",
       "    <tr>\n",
       "      <th>2</th>\n",
       "      <td>Tuesday</td>\n",
       "      <td>58</td>\n",
       "      <td>45</td>\n",
       "      <td>2020-11-03</td>\n",
       "      <td>NaN</td>\n",
       "    </tr>\n",
       "    <tr>\n",
       "      <th>3</th>\n",
       "      <td>Wednesday</td>\n",
       "      <td>57</td>\n",
       "      <td>45</td>\n",
       "      <td>2020-11-04</td>\n",
       "      <td>NaN</td>\n",
       "    </tr>\n",
       "    <tr>\n",
       "      <th>4</th>\n",
       "      <td>Thursday</td>\n",
       "      <td>57</td>\n",
       "      <td>45</td>\n",
       "      <td>2020-11-05</td>\n",
       "      <td>NaN</td>\n",
       "    </tr>\n",
       "    <tr>\n",
       "      <th>5</th>\n",
       "      <td>Friday</td>\n",
       "      <td>57</td>\n",
       "      <td>44</td>\n",
       "      <td>2020-11-06</td>\n",
       "      <td>NaN</td>\n",
       "    </tr>\n",
       "    <tr>\n",
       "      <th>6</th>\n",
       "      <td>Saturday</td>\n",
       "      <td>56</td>\n",
       "      <td>44</td>\n",
       "      <td>2020-11-07</td>\n",
       "      <td>NaN</td>\n",
       "    </tr>\n",
       "  </tbody>\n",
       "</table>\n",
       "</div>"
      ],
      "text/plain": [
       "  day_of_week high_temp low_temp       date        for_whom\n",
       "0   Wednesday        48       30 2020-01-01      The camels\n",
       "1    Thursday        54       38 2020-01-02        The dogs\n",
       "2      Friday        45       33 2020-01-03        The cats\n",
       "3    Saturday        61       45 2020-01-04        The boys\n",
       "4      Sunday        55       30 2020-01-05       The girls\n",
       "5      Monday       NaN      NaN        NaT       The birds\n",
       "6     Tuesday       NaN      NaN        NaT  The non-binary\n",
       "0      Sunday        81       66 2020-06-21             NaN\n",
       "1      Monday        81       66 2020-06-22             NaN\n",
       "2     Tuesday        81       66 2020-06-23             NaN\n",
       "3   Wednesday        82       66 2020-06-24             NaN\n",
       "4    Thursday        82       67 2020-06-25             NaN\n",
       "5      Friday        82       67 2020-06-26             NaN\n",
       "6    Saturday        83       68 2020-06-27             NaN\n",
       "0      Sunday        59       46 2020-11-01             NaN\n",
       "1      Monday        58       45 2020-11-02             NaN\n",
       "2     Tuesday        58       45 2020-11-03             NaN\n",
       "3   Wednesday        57       45 2020-11-04             NaN\n",
       "4    Thursday        57       45 2020-11-05             NaN\n",
       "5      Friday        57       44 2020-11-06             NaN\n",
       "6    Saturday        56       44 2020-11-07             NaN"
      ]
     },
     "execution_count": 99,
     "metadata": {},
     "output_type": "execute_result"
    }
   ],
   "source": [
    "pd.concat([sdf, df2, df3])"
   ]
  },
  {
   "cell_type": "markdown",
   "metadata": {
    "slideshow": {
     "slide_type": "fragment"
    }
   },
   "source": [
    "- Better but still not perfect\n",
    "- The values of 'for_whom' have a one-to-one correspondance to the values in 'day_of_week' so we can infer them"
   ]
  },
  {
   "cell_type": "markdown",
   "metadata": {
    "slideshow": {
     "slide_type": "subslide"
    }
   },
   "source": [
    "# We drop columns that aren't in all the dataframes"
   ]
  },
  {
   "cell_type": "code",
   "execution_count": 100,
   "metadata": {
    "slideshow": {
     "slide_type": "fragment"
    }
   },
   "outputs": [
    {
     "data": {
      "text/html": [
       "<div>\n",
       "<style scoped>\n",
       "    .dataframe tbody tr th:only-of-type {\n",
       "        vertical-align: middle;\n",
       "    }\n",
       "\n",
       "    .dataframe tbody tr th {\n",
       "        vertical-align: top;\n",
       "    }\n",
       "\n",
       "    .dataframe thead th {\n",
       "        text-align: right;\n",
       "    }\n",
       "</style>\n",
       "<table border=\"1\" class=\"dataframe\">\n",
       "  <thead>\n",
       "    <tr style=\"text-align: right;\">\n",
       "      <th></th>\n",
       "      <th>day_of_week</th>\n",
       "      <th>high_temp</th>\n",
       "      <th>low_temp</th>\n",
       "      <th>date</th>\n",
       "    </tr>\n",
       "  </thead>\n",
       "  <tbody>\n",
       "    <tr>\n",
       "      <th>0</th>\n",
       "      <td>Wednesday</td>\n",
       "      <td>48</td>\n",
       "      <td>30</td>\n",
       "      <td>2020-01-01</td>\n",
       "    </tr>\n",
       "    <tr>\n",
       "      <th>1</th>\n",
       "      <td>Thursday</td>\n",
       "      <td>54</td>\n",
       "      <td>38</td>\n",
       "      <td>2020-01-02</td>\n",
       "    </tr>\n",
       "    <tr>\n",
       "      <th>2</th>\n",
       "      <td>Friday</td>\n",
       "      <td>45</td>\n",
       "      <td>33</td>\n",
       "      <td>2020-01-03</td>\n",
       "    </tr>\n",
       "    <tr>\n",
       "      <th>3</th>\n",
       "      <td>Saturday</td>\n",
       "      <td>61</td>\n",
       "      <td>45</td>\n",
       "      <td>2020-01-04</td>\n",
       "    </tr>\n",
       "    <tr>\n",
       "      <th>4</th>\n",
       "      <td>Sunday</td>\n",
       "      <td>55</td>\n",
       "      <td>30</td>\n",
       "      <td>2020-01-05</td>\n",
       "    </tr>\n",
       "    <tr>\n",
       "      <th>5</th>\n",
       "      <td>Monday</td>\n",
       "      <td>NaN</td>\n",
       "      <td>NaN</td>\n",
       "      <td>NaT</td>\n",
       "    </tr>\n",
       "    <tr>\n",
       "      <th>6</th>\n",
       "      <td>Tuesday</td>\n",
       "      <td>NaN</td>\n",
       "      <td>NaN</td>\n",
       "      <td>NaT</td>\n",
       "    </tr>\n",
       "    <tr>\n",
       "      <th>0</th>\n",
       "      <td>Sunday</td>\n",
       "      <td>81</td>\n",
       "      <td>66</td>\n",
       "      <td>2020-06-21</td>\n",
       "    </tr>\n",
       "    <tr>\n",
       "      <th>1</th>\n",
       "      <td>Monday</td>\n",
       "      <td>81</td>\n",
       "      <td>66</td>\n",
       "      <td>2020-06-22</td>\n",
       "    </tr>\n",
       "    <tr>\n",
       "      <th>2</th>\n",
       "      <td>Tuesday</td>\n",
       "      <td>81</td>\n",
       "      <td>66</td>\n",
       "      <td>2020-06-23</td>\n",
       "    </tr>\n",
       "    <tr>\n",
       "      <th>3</th>\n",
       "      <td>Wednesday</td>\n",
       "      <td>82</td>\n",
       "      <td>66</td>\n",
       "      <td>2020-06-24</td>\n",
       "    </tr>\n",
       "    <tr>\n",
       "      <th>4</th>\n",
       "      <td>Thursday</td>\n",
       "      <td>82</td>\n",
       "      <td>67</td>\n",
       "      <td>2020-06-25</td>\n",
       "    </tr>\n",
       "    <tr>\n",
       "      <th>5</th>\n",
       "      <td>Friday</td>\n",
       "      <td>82</td>\n",
       "      <td>67</td>\n",
       "      <td>2020-06-26</td>\n",
       "    </tr>\n",
       "    <tr>\n",
       "      <th>6</th>\n",
       "      <td>Saturday</td>\n",
       "      <td>83</td>\n",
       "      <td>68</td>\n",
       "      <td>2020-06-27</td>\n",
       "    </tr>\n",
       "    <tr>\n",
       "      <th>0</th>\n",
       "      <td>Sunday</td>\n",
       "      <td>59</td>\n",
       "      <td>46</td>\n",
       "      <td>2020-11-01</td>\n",
       "    </tr>\n",
       "    <tr>\n",
       "      <th>1</th>\n",
       "      <td>Monday</td>\n",
       "      <td>58</td>\n",
       "      <td>45</td>\n",
       "      <td>2020-11-02</td>\n",
       "    </tr>\n",
       "    <tr>\n",
       "      <th>2</th>\n",
       "      <td>Tuesday</td>\n",
       "      <td>58</td>\n",
       "      <td>45</td>\n",
       "      <td>2020-11-03</td>\n",
       "    </tr>\n",
       "    <tr>\n",
       "      <th>3</th>\n",
       "      <td>Wednesday</td>\n",
       "      <td>57</td>\n",
       "      <td>45</td>\n",
       "      <td>2020-11-04</td>\n",
       "    </tr>\n",
       "    <tr>\n",
       "      <th>4</th>\n",
       "      <td>Thursday</td>\n",
       "      <td>57</td>\n",
       "      <td>45</td>\n",
       "      <td>2020-11-05</td>\n",
       "    </tr>\n",
       "    <tr>\n",
       "      <th>5</th>\n",
       "      <td>Friday</td>\n",
       "      <td>57</td>\n",
       "      <td>44</td>\n",
       "      <td>2020-11-06</td>\n",
       "    </tr>\n",
       "    <tr>\n",
       "      <th>6</th>\n",
       "      <td>Saturday</td>\n",
       "      <td>56</td>\n",
       "      <td>44</td>\n",
       "      <td>2020-11-07</td>\n",
       "    </tr>\n",
       "  </tbody>\n",
       "</table>\n",
       "</div>"
      ],
      "text/plain": [
       "  day_of_week high_temp low_temp       date\n",
       "0   Wednesday        48       30 2020-01-01\n",
       "1    Thursday        54       38 2020-01-02\n",
       "2      Friday        45       33 2020-01-03\n",
       "3    Saturday        61       45 2020-01-04\n",
       "4      Sunday        55       30 2020-01-05\n",
       "5      Monday       NaN      NaN        NaT\n",
       "6     Tuesday       NaN      NaN        NaT\n",
       "0      Sunday        81       66 2020-06-21\n",
       "1      Monday        81       66 2020-06-22\n",
       "2     Tuesday        81       66 2020-06-23\n",
       "3   Wednesday        82       66 2020-06-24\n",
       "4    Thursday        82       67 2020-06-25\n",
       "5      Friday        82       67 2020-06-26\n",
       "6    Saturday        83       68 2020-06-27\n",
       "0      Sunday        59       46 2020-11-01\n",
       "1      Monday        58       45 2020-11-02\n",
       "2     Tuesday        58       45 2020-11-03\n",
       "3   Wednesday        57       45 2020-11-04\n",
       "4    Thursday        57       45 2020-11-05\n",
       "5      Friday        57       44 2020-11-06\n",
       "6    Saturday        56       44 2020-11-07"
      ]
     },
     "execution_count": 100,
     "metadata": {},
     "output_type": "execute_result"
    }
   ],
   "source": [
    "big_df = pd.concat([sdf, df2, df3], join='inner') # Default value for `join` is 'outer'\n",
    "big_df"
   ]
  },
  {
   "cell_type": "code",
   "execution_count": 101,
   "metadata": {
    "slideshow": {
     "slide_type": "subslide"
    }
   },
   "outputs": [
    {
     "data": {
      "text/html": [
       "<div>\n",
       "<style scoped>\n",
       "    .dataframe tbody tr th:only-of-type {\n",
       "        vertical-align: middle;\n",
       "    }\n",
       "\n",
       "    .dataframe tbody tr th {\n",
       "        vertical-align: top;\n",
       "    }\n",
       "\n",
       "    .dataframe thead th {\n",
       "        text-align: right;\n",
       "    }\n",
       "</style>\n",
       "<table border=\"1\" class=\"dataframe\">\n",
       "  <thead>\n",
       "    <tr style=\"text-align: right;\">\n",
       "      <th></th>\n",
       "      <th>day_of_week</th>\n",
       "      <th>high_temp</th>\n",
       "      <th>low_temp</th>\n",
       "      <th>date</th>\n",
       "      <th>for_whom</th>\n",
       "    </tr>\n",
       "  </thead>\n",
       "  <tbody>\n",
       "    <tr>\n",
       "      <th>0</th>\n",
       "      <td>Wednesday</td>\n",
       "      <td>48</td>\n",
       "      <td>30</td>\n",
       "      <td>2020-01-01</td>\n",
       "      <td>The camels</td>\n",
       "    </tr>\n",
       "    <tr>\n",
       "      <th>1</th>\n",
       "      <td>Thursday</td>\n",
       "      <td>54</td>\n",
       "      <td>38</td>\n",
       "      <td>2020-01-02</td>\n",
       "      <td>The dogs</td>\n",
       "    </tr>\n",
       "    <tr>\n",
       "      <th>2</th>\n",
       "      <td>Friday</td>\n",
       "      <td>45</td>\n",
       "      <td>33</td>\n",
       "      <td>2020-01-03</td>\n",
       "      <td>The cats</td>\n",
       "    </tr>\n",
       "    <tr>\n",
       "      <th>3</th>\n",
       "      <td>Saturday</td>\n",
       "      <td>61</td>\n",
       "      <td>45</td>\n",
       "      <td>2020-01-04</td>\n",
       "      <td>The boys</td>\n",
       "    </tr>\n",
       "    <tr>\n",
       "      <th>4</th>\n",
       "      <td>Sunday</td>\n",
       "      <td>55</td>\n",
       "      <td>30</td>\n",
       "      <td>2020-01-05</td>\n",
       "      <td>The girls</td>\n",
       "    </tr>\n",
       "    <tr>\n",
       "      <th>5</th>\n",
       "      <td>Monday</td>\n",
       "      <td>NaN</td>\n",
       "      <td>NaN</td>\n",
       "      <td>NaT</td>\n",
       "      <td>The birds</td>\n",
       "    </tr>\n",
       "    <tr>\n",
       "      <th>6</th>\n",
       "      <td>Tuesday</td>\n",
       "      <td>NaN</td>\n",
       "      <td>NaN</td>\n",
       "      <td>NaT</td>\n",
       "      <td>The non-binary</td>\n",
       "    </tr>\n",
       "    <tr>\n",
       "      <th>7</th>\n",
       "      <td>Sunday</td>\n",
       "      <td>81</td>\n",
       "      <td>66</td>\n",
       "      <td>2020-06-21</td>\n",
       "      <td>The girls</td>\n",
       "    </tr>\n",
       "    <tr>\n",
       "      <th>8</th>\n",
       "      <td>Monday</td>\n",
       "      <td>81</td>\n",
       "      <td>66</td>\n",
       "      <td>2020-06-22</td>\n",
       "      <td>The birds</td>\n",
       "    </tr>\n",
       "    <tr>\n",
       "      <th>9</th>\n",
       "      <td>Tuesday</td>\n",
       "      <td>81</td>\n",
       "      <td>66</td>\n",
       "      <td>2020-06-23</td>\n",
       "      <td>The non-binary</td>\n",
       "    </tr>\n",
       "    <tr>\n",
       "      <th>10</th>\n",
       "      <td>Wednesday</td>\n",
       "      <td>82</td>\n",
       "      <td>66</td>\n",
       "      <td>2020-06-24</td>\n",
       "      <td>The camels</td>\n",
       "    </tr>\n",
       "    <tr>\n",
       "      <th>11</th>\n",
       "      <td>Thursday</td>\n",
       "      <td>82</td>\n",
       "      <td>67</td>\n",
       "      <td>2020-06-25</td>\n",
       "      <td>The dogs</td>\n",
       "    </tr>\n",
       "    <tr>\n",
       "      <th>12</th>\n",
       "      <td>Friday</td>\n",
       "      <td>82</td>\n",
       "      <td>67</td>\n",
       "      <td>2020-06-26</td>\n",
       "      <td>The cats</td>\n",
       "    </tr>\n",
       "    <tr>\n",
       "      <th>13</th>\n",
       "      <td>Saturday</td>\n",
       "      <td>83</td>\n",
       "      <td>68</td>\n",
       "      <td>2020-06-27</td>\n",
       "      <td>The boys</td>\n",
       "    </tr>\n",
       "    <tr>\n",
       "      <th>14</th>\n",
       "      <td>Sunday</td>\n",
       "      <td>59</td>\n",
       "      <td>46</td>\n",
       "      <td>2020-11-01</td>\n",
       "      <td>The girls</td>\n",
       "    </tr>\n",
       "    <tr>\n",
       "      <th>15</th>\n",
       "      <td>Monday</td>\n",
       "      <td>58</td>\n",
       "      <td>45</td>\n",
       "      <td>2020-11-02</td>\n",
       "      <td>The birds</td>\n",
       "    </tr>\n",
       "    <tr>\n",
       "      <th>16</th>\n",
       "      <td>Tuesday</td>\n",
       "      <td>58</td>\n",
       "      <td>45</td>\n",
       "      <td>2020-11-03</td>\n",
       "      <td>The non-binary</td>\n",
       "    </tr>\n",
       "    <tr>\n",
       "      <th>17</th>\n",
       "      <td>Wednesday</td>\n",
       "      <td>57</td>\n",
       "      <td>45</td>\n",
       "      <td>2020-11-04</td>\n",
       "      <td>The camels</td>\n",
       "    </tr>\n",
       "    <tr>\n",
       "      <th>18</th>\n",
       "      <td>Thursday</td>\n",
       "      <td>57</td>\n",
       "      <td>45</td>\n",
       "      <td>2020-11-05</td>\n",
       "      <td>The dogs</td>\n",
       "    </tr>\n",
       "    <tr>\n",
       "      <th>19</th>\n",
       "      <td>Friday</td>\n",
       "      <td>57</td>\n",
       "      <td>44</td>\n",
       "      <td>2020-11-06</td>\n",
       "      <td>The cats</td>\n",
       "    </tr>\n",
       "    <tr>\n",
       "      <th>20</th>\n",
       "      <td>Saturday</td>\n",
       "      <td>56</td>\n",
       "      <td>44</td>\n",
       "      <td>2020-11-07</td>\n",
       "      <td>The boys</td>\n",
       "    </tr>\n",
       "  </tbody>\n",
       "</table>\n",
       "</div>"
      ],
      "text/plain": [
       "   day_of_week high_temp low_temp       date        for_whom\n",
       "0    Wednesday        48       30 2020-01-01      The camels\n",
       "1     Thursday        54       38 2020-01-02        The dogs\n",
       "2       Friday        45       33 2020-01-03        The cats\n",
       "3     Saturday        61       45 2020-01-04        The boys\n",
       "4       Sunday        55       30 2020-01-05       The girls\n",
       "5       Monday       NaN      NaN        NaT       The birds\n",
       "6      Tuesday       NaN      NaN        NaT  The non-binary\n",
       "7       Sunday        81       66 2020-06-21       The girls\n",
       "8       Monday        81       66 2020-06-22       The birds\n",
       "9      Tuesday        81       66 2020-06-23  The non-binary\n",
       "10   Wednesday        82       66 2020-06-24      The camels\n",
       "11    Thursday        82       67 2020-06-25        The dogs\n",
       "12      Friday        82       67 2020-06-26        The cats\n",
       "13    Saturday        83       68 2020-06-27        The boys\n",
       "14      Sunday        59       46 2020-11-01       The girls\n",
       "15      Monday        58       45 2020-11-02       The birds\n",
       "16     Tuesday        58       45 2020-11-03  The non-binary\n",
       "17   Wednesday        57       45 2020-11-04      The camels\n",
       "18    Thursday        57       45 2020-11-05        The dogs\n",
       "19      Friday        57       44 2020-11-06        The cats\n",
       "20    Saturday        56       44 2020-11-07        The boys"
      ]
     },
     "execution_count": 101,
     "metadata": {},
     "output_type": "execute_result"
    }
   ],
   "source": [
    "# Then add the 'for_whom' information like we did before\n",
    "big_df = big_df.set_index('day_of_week').T.append(for_whom).T.reset_index()\n",
    "big_df"
   ]
  },
  {
   "cell_type": "markdown",
   "metadata": {
    "slideshow": {
     "slide_type": "subslide"
    }
   },
   "source": [
    "# Or we could perform database style merging"
   ]
  },
  {
   "cell_type": "code",
   "execution_count": 102,
   "metadata": {
    "slideshow": {
     "slide_type": "fragment"
    }
   },
   "outputs": [
    {
     "data": {
      "text/html": [
       "<div>\n",
       "<style scoped>\n",
       "    .dataframe tbody tr th:only-of-type {\n",
       "        vertical-align: middle;\n",
       "    }\n",
       "\n",
       "    .dataframe tbody tr th {\n",
       "        vertical-align: top;\n",
       "    }\n",
       "\n",
       "    .dataframe thead th {\n",
       "        text-align: right;\n",
       "    }\n",
       "</style>\n",
       "<table border=\"1\" class=\"dataframe\">\n",
       "  <thead>\n",
       "    <tr style=\"text-align: right;\">\n",
       "      <th></th>\n",
       "      <th>day_of_week</th>\n",
       "      <th>high_temp_x</th>\n",
       "      <th>low_temp_x</th>\n",
       "      <th>date_x</th>\n",
       "      <th>for_whom</th>\n",
       "      <th>date_y</th>\n",
       "      <th>high_temp_y</th>\n",
       "      <th>low_temp_y</th>\n",
       "    </tr>\n",
       "  </thead>\n",
       "  <tbody>\n",
       "    <tr>\n",
       "      <th>0</th>\n",
       "      <td>Wednesday</td>\n",
       "      <td>48</td>\n",
       "      <td>30</td>\n",
       "      <td>2020-01-01</td>\n",
       "      <td>The camels</td>\n",
       "      <td>2020-06-24</td>\n",
       "      <td>82</td>\n",
       "      <td>66</td>\n",
       "    </tr>\n",
       "    <tr>\n",
       "      <th>1</th>\n",
       "      <td>Thursday</td>\n",
       "      <td>54</td>\n",
       "      <td>38</td>\n",
       "      <td>2020-01-02</td>\n",
       "      <td>The dogs</td>\n",
       "      <td>2020-06-25</td>\n",
       "      <td>82</td>\n",
       "      <td>67</td>\n",
       "    </tr>\n",
       "    <tr>\n",
       "      <th>2</th>\n",
       "      <td>Friday</td>\n",
       "      <td>45</td>\n",
       "      <td>33</td>\n",
       "      <td>2020-01-03</td>\n",
       "      <td>The cats</td>\n",
       "      <td>2020-06-26</td>\n",
       "      <td>82</td>\n",
       "      <td>67</td>\n",
       "    </tr>\n",
       "    <tr>\n",
       "      <th>3</th>\n",
       "      <td>Saturday</td>\n",
       "      <td>61</td>\n",
       "      <td>45</td>\n",
       "      <td>2020-01-04</td>\n",
       "      <td>The boys</td>\n",
       "      <td>2020-06-27</td>\n",
       "      <td>83</td>\n",
       "      <td>68</td>\n",
       "    </tr>\n",
       "    <tr>\n",
       "      <th>4</th>\n",
       "      <td>Sunday</td>\n",
       "      <td>55</td>\n",
       "      <td>30</td>\n",
       "      <td>2020-01-05</td>\n",
       "      <td>The girls</td>\n",
       "      <td>2020-06-21</td>\n",
       "      <td>81</td>\n",
       "      <td>66</td>\n",
       "    </tr>\n",
       "    <tr>\n",
       "      <th>5</th>\n",
       "      <td>Monday</td>\n",
       "      <td>NaN</td>\n",
       "      <td>NaN</td>\n",
       "      <td>NaT</td>\n",
       "      <td>The birds</td>\n",
       "      <td>2020-06-22</td>\n",
       "      <td>81</td>\n",
       "      <td>66</td>\n",
       "    </tr>\n",
       "    <tr>\n",
       "      <th>6</th>\n",
       "      <td>Tuesday</td>\n",
       "      <td>NaN</td>\n",
       "      <td>NaN</td>\n",
       "      <td>NaT</td>\n",
       "      <td>The non-binary</td>\n",
       "      <td>2020-06-23</td>\n",
       "      <td>81</td>\n",
       "      <td>66</td>\n",
       "    </tr>\n",
       "  </tbody>\n",
       "</table>\n",
       "</div>"
      ],
      "text/plain": [
       "  day_of_week high_temp_x low_temp_x     date_x        for_whom     date_y  \\\n",
       "0   Wednesday          48         30 2020-01-01      The camels 2020-06-24   \n",
       "1    Thursday          54         38 2020-01-02        The dogs 2020-06-25   \n",
       "2      Friday          45         33 2020-01-03        The cats 2020-06-26   \n",
       "3    Saturday          61         45 2020-01-04        The boys 2020-06-27   \n",
       "4      Sunday          55         30 2020-01-05       The girls 2020-06-21   \n",
       "5      Monday         NaN        NaN        NaT       The birds 2020-06-22   \n",
       "6     Tuesday         NaN        NaN        NaT  The non-binary 2020-06-23   \n",
       "\n",
       "   high_temp_y  low_temp_y  \n",
       "0           82          66  \n",
       "1           82          67  \n",
       "2           82          67  \n",
       "3           83          68  \n",
       "4           81          66  \n",
       "5           81          66  \n",
       "6           81          66  "
      ]
     },
     "execution_count": 102,
     "metadata": {},
     "output_type": "execute_result"
    }
   ],
   "source": [
    "# You can 'merge'\n",
    "pd.merge(sdf, df2, on='day_of_week', how='outer')"
   ]
  },
  {
   "cell_type": "code",
   "execution_count": 103,
   "metadata": {
    "slideshow": {
     "slide_type": "subslide"
    }
   },
   "outputs": [
    {
     "data": {
      "text/html": [
       "<div>\n",
       "<style scoped>\n",
       "    .dataframe tbody tr th:only-of-type {\n",
       "        vertical-align: middle;\n",
       "    }\n",
       "\n",
       "    .dataframe tbody tr th {\n",
       "        vertical-align: top;\n",
       "    }\n",
       "\n",
       "    .dataframe thead th {\n",
       "        text-align: right;\n",
       "    }\n",
       "</style>\n",
       "<table border=\"1\" class=\"dataframe\">\n",
       "  <thead>\n",
       "    <tr style=\"text-align: right;\">\n",
       "      <th></th>\n",
       "      <th>high_temp_left</th>\n",
       "      <th>low_temp_left</th>\n",
       "      <th>date_left</th>\n",
       "      <th>for_whom</th>\n",
       "      <th>date</th>\n",
       "      <th>high_temp</th>\n",
       "      <th>low_temp</th>\n",
       "    </tr>\n",
       "    <tr>\n",
       "      <th>day_of_week</th>\n",
       "      <th></th>\n",
       "      <th></th>\n",
       "      <th></th>\n",
       "      <th></th>\n",
       "      <th></th>\n",
       "      <th></th>\n",
       "      <th></th>\n",
       "    </tr>\n",
       "  </thead>\n",
       "  <tbody>\n",
       "    <tr>\n",
       "      <th>Wednesday</th>\n",
       "      <td>48</td>\n",
       "      <td>30</td>\n",
       "      <td>2020-01-01</td>\n",
       "      <td>The camels</td>\n",
       "      <td>2020-06-24</td>\n",
       "      <td>82</td>\n",
       "      <td>66</td>\n",
       "    </tr>\n",
       "    <tr>\n",
       "      <th>Thursday</th>\n",
       "      <td>54</td>\n",
       "      <td>38</td>\n",
       "      <td>2020-01-02</td>\n",
       "      <td>The dogs</td>\n",
       "      <td>2020-06-25</td>\n",
       "      <td>82</td>\n",
       "      <td>67</td>\n",
       "    </tr>\n",
       "    <tr>\n",
       "      <th>Friday</th>\n",
       "      <td>45</td>\n",
       "      <td>33</td>\n",
       "      <td>2020-01-03</td>\n",
       "      <td>The cats</td>\n",
       "      <td>2020-06-26</td>\n",
       "      <td>82</td>\n",
       "      <td>67</td>\n",
       "    </tr>\n",
       "    <tr>\n",
       "      <th>Saturday</th>\n",
       "      <td>61</td>\n",
       "      <td>45</td>\n",
       "      <td>2020-01-04</td>\n",
       "      <td>The boys</td>\n",
       "      <td>2020-06-27</td>\n",
       "      <td>83</td>\n",
       "      <td>68</td>\n",
       "    </tr>\n",
       "    <tr>\n",
       "      <th>Sunday</th>\n",
       "      <td>55</td>\n",
       "      <td>30</td>\n",
       "      <td>2020-01-05</td>\n",
       "      <td>The girls</td>\n",
       "      <td>2020-06-21</td>\n",
       "      <td>81</td>\n",
       "      <td>66</td>\n",
       "    </tr>\n",
       "    <tr>\n",
       "      <th>Monday</th>\n",
       "      <td>NaN</td>\n",
       "      <td>NaN</td>\n",
       "      <td>NaT</td>\n",
       "      <td>The birds</td>\n",
       "      <td>2020-06-22</td>\n",
       "      <td>81</td>\n",
       "      <td>66</td>\n",
       "    </tr>\n",
       "    <tr>\n",
       "      <th>Tuesday</th>\n",
       "      <td>NaN</td>\n",
       "      <td>NaN</td>\n",
       "      <td>NaT</td>\n",
       "      <td>The non-binary</td>\n",
       "      <td>2020-06-23</td>\n",
       "      <td>81</td>\n",
       "      <td>66</td>\n",
       "    </tr>\n",
       "  </tbody>\n",
       "</table>\n",
       "</div>"
      ],
      "text/plain": [
       "            high_temp_left low_temp_left  date_left        for_whom  \\\n",
       "day_of_week                                                           \n",
       "Wednesday               48            30 2020-01-01      The camels   \n",
       "Thursday                54            38 2020-01-02        The dogs   \n",
       "Friday                  45            33 2020-01-03        The cats   \n",
       "Saturday                61            45 2020-01-04        The boys   \n",
       "Sunday                  55            30 2020-01-05       The girls   \n",
       "Monday                 NaN           NaN        NaT       The birds   \n",
       "Tuesday                NaN           NaN        NaT  The non-binary   \n",
       "\n",
       "                  date  high_temp  low_temp  \n",
       "day_of_week                                  \n",
       "Wednesday   2020-06-24         82        66  \n",
       "Thursday    2020-06-25         82        67  \n",
       "Friday      2020-06-26         82        67  \n",
       "Saturday    2020-06-27         83        68  \n",
       "Sunday      2020-06-21         81        66  \n",
       "Monday      2020-06-22         81        66  \n",
       "Tuesday     2020-06-23         81        66  "
      ]
     },
     "execution_count": 103,
     "metadata": {},
     "output_type": "execute_result"
    }
   ],
   "source": [
    "# Or you could join\n",
    "sdf.set_index('day_of_week').join(df2.set_index('day_of_week'), lsuffix='_left')"
   ]
  },
  {
   "cell_type": "markdown",
   "metadata": {
    "slideshow": {
     "slide_type": "fragment"
    }
   },
   "source": [
    "# Notice:\n",
    "- Columns other than 'day_of_week' and 'for_whom' each column has a duplicate entry\n",
    "- One for the 'left' dataframe (x)\n",
    "- One for the 'right' dataframe (y)\n",
    "- 'merge' and 'join' are largely equivalent. Join operates on the 'index' where as merge operates on a specified column"
   ]
  },
  {
   "cell_type": "markdown",
   "metadata": {
    "slideshow": {
     "slide_type": "subslide"
    }
   },
   "source": [
    "# That's all folks"
   ]
  }
 ],
 "metadata": {
  "celltoolbar": "Slideshow",
  "kernelspec": {
   "display_name": "Python 3",
   "language": "python",
   "name": "python3"
  },
  "language_info": {
   "codemirror_mode": {
    "name": "ipython",
    "version": 3
   },
   "file_extension": ".py",
   "mimetype": "text/x-python",
   "name": "python",
   "nbconvert_exporter": "python",
   "pygments_lexer": "ipython3",
   "version": "3.8.3"
  }
 },
 "nbformat": 4,
 "nbformat_minor": 2
}
