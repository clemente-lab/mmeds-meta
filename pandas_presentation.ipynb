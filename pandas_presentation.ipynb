{
 "cells": [
  {
   "cell_type": "markdown",
   "metadata": {
    "slideshow": {
     "slide_type": "slide"
    }
   },
   "source": [
    "# PANDAS\n",
    "\n",
    "## Like R in Python but better\n",
    "\n",
    "Today we'll cover\n",
    "- What are DataFrames  \n",
    "  - Indeces vs. Columns  \n",
    "  - Setting the index  \n",
    "  - Reference by name/Reference by position  \n",
    "- Basic operations on DataFrames  \n",
    "  - Filter  \n",
    "  - Iterate  \n",
    "  - Transform to other datatypes  \n",
    "- Advanced operations  \n",
    "  - join, merge, append  \n",
    "  - Multi index  "
   ]
  },
  {
   "cell_type": "markdown",
   "metadata": {
    "slideshow": {
     "slide_type": "slide"
    }
   },
   "source": [
    "# Prologue\n",
    "\n",
    "## DataTypes \n",
    "\n",
    "### Basic Types\n",
    "- Int\n",
    "  - 1\n",
    "  - 2\n",
    "  - 3\n",
    "- Float\n",
    "  - 2.2222\n",
    "  - 3.2333\n",
    "  - 3.14359\n",
    "- Char\n",
    "  - '2'\n",
    "  - 'a'\n",
    "  - 'b'\n",
    "  - '\"'\n",
    "\n",
    "### Structured Types\n",
    "- List\n",
    "  - `(a -> (b -> (c -> ...)))`\n",
    "- Array  \n",
    "  - `[a, b, c]`\n",
    "- Hashtable\n",
    "  - `[(1 -> 'a'), (2 -> 'b'), (3 -> 'c')]`\n",
    "\n",
    "### Abstractions\n",
    "- Char + List = String\n",
    "- Array + List = ArrayList (Creative Right?)"
   ]
  },
  {
   "cell_type": "markdown",
   "metadata": {
    "slideshow": {
     "slide_type": "subslide"
    }
   },
   "source": [
    "# Python is a liar\n",
    "- Strings are secretly Lists\n",
    "- Lists are secretly hashtables\n",
    "- Dicts are openly hashtables\n",
    "- Everything is hashtables"
   ]
  },
  {
   "cell_type": "markdown",
   "metadata": {
    "slideshow": {
     "slide_type": "subslide"
    }
   },
   "source": [
    "# What is a Dataframe?"
   ]
  },
  {
   "cell_type": "markdown",
   "metadata": {
    "slideshow": {
     "slide_type": "fragment"
    }
   },
   "source": [
    "# A bunch of hashtables "
   ]
  },
  {
   "cell_type": "markdown",
   "metadata": {
    "slideshow": {
     "slide_type": "subslide"
    }
   },
   "source": [
    "# What is special about them?"
   ]
  },
  {
   "cell_type": "code",
   "execution_count": 104,
   "metadata": {
    "slideshow": {
     "slide_type": "slide"
    }
   },
   "outputs": [
    {
     "data": {
      "text/plain": [
       "{Timestamp('2020-01-01 00:00:00'): 'Wednesday',\n",
       " Timestamp('2020-01-02 00:00:00'): 'Thursday',\n",
       " Timestamp('2020-01-03 00:00:00'): 'Friday',\n",
       " Timestamp('2020-01-04 00:00:00'): 'Saturday',\n",
       " Timestamp('2020-01-05 00:00:00'): 'Sunday'}"
      ]
     },
     "execution_count": 104,
     "metadata": {},
     "output_type": "execute_result"
    }
   ],
   "source": [
    "import numpy as np\n",
    "import pandas as pd\n",
    "from pprint import pprint\n",
    "# Let's say we want to collect information about particulars days\n",
    "# and access that information based on the date\n",
    "\n",
    "# We want to know the day of the week it was\n",
    "day_of_week = {\n",
    "    pd.Timestamp('20200101'): 'Wednesday',\n",
    "    pd.Timestamp('20200102'): 'Thursday',\n",
    "    pd.Timestamp('20200103'): 'Friday',\n",
    "    pd.Timestamp('20200104'): 'Saturday',\n",
    "    pd.Timestamp('20200105'): 'Sunday'\n",
    "}\n",
    "\n",
    "day_of_week"
   ]
  },
  {
   "cell_type": "code",
   "execution_count": 105,
   "metadata": {
    "slideshow": {
     "slide_type": "subslide"
    }
   },
   "outputs": [
    {
     "data": {
      "text/plain": [
       "{Timestamp('2020-01-01 00:00:00'): 48,\n",
       " Timestamp('2020-01-02 00:00:00'): 54,\n",
       " Timestamp('2020-01-03 00:00:00'): 45,\n",
       " Timestamp('2020-01-04 00:00:00'): 61,\n",
       " Timestamp('2020-01-05 00:00:00'): 55}"
      ]
     },
     "execution_count": 105,
     "metadata": {},
     "output_type": "execute_result"
    }
   ],
   "source": [
    "# We also want to know the high tempurature\n",
    "high_temp = {\n",
    "    pd.Timestamp('20200101'): 48,\n",
    "    pd.Timestamp('20200102'): 54,\n",
    "    pd.Timestamp('20200103'): 45,\n",
    "    pd.Timestamp('20200104'): 61,\n",
    "    pd.Timestamp('20200105'): 55\n",
    "}\n",
    "high_temp"
   ]
  },
  {
   "cell_type": "code",
   "execution_count": 106,
   "metadata": {
    "slideshow": {
     "slide_type": "fragment"
    }
   },
   "outputs": [
    {
     "data": {
      "text/plain": [
       "{Timestamp('2020-01-01 00:00:00'): 30,\n",
       " Timestamp('2020-01-02 00:00:00'): 38,\n",
       " Timestamp('2020-01-03 00:00:00'): 33,\n",
       " Timestamp('2020-01-04 00:00:00'): 45,\n",
       " Timestamp('2020-01-05 00:00:00'): 30}"
      ]
     },
     "execution_count": 106,
     "metadata": {},
     "output_type": "execute_result"
    }
   ],
   "source": [
    "# And the low tempurature \n",
    "low_temp = {\n",
    "    pd.Timestamp('20200101'): 30,\n",
    "    pd.Timestamp('20200102'): 38,\n",
    "    pd.Timestamp('20200103'): 33,\n",
    "    pd.Timestamp('20200104'): 45,\n",
    "    pd.Timestamp('20200105'): 30\n",
    "}\n",
    "low_temp"
   ]
  },
  {
   "cell_type": "code",
   "execution_count": 107,
   "metadata": {
    "slideshow": {
     "slide_type": "subslide"
    }
   },
   "outputs": [
    {
     "name": "stdout",
     "output_type": "stream",
     "text": [
      "Weekend average 58.0\n",
      "Weekday average 49.0\n"
     ]
    }
   ],
   "source": [
    "# This quickly gets difficult to work with\n",
    "# Let's say you want to compare weekday and weekend high temps\n",
    "# You'd have to do something terrible like the following\n",
    "weekends = []\n",
    "weekdays = []\n",
    "\n",
    "# Collect the info from one dict\n",
    "for timestamp, day in day_of_week.items():\n",
    "    if day == 'Saturday' or day == 'Sunday':\n",
    "        weekends.append(timestamp)\n",
    "    else:\n",
    "        weekdays.append(timestamp)\n",
    "\n",
    "weekend_temps = []\n",
    "weekday_temps = []\n",
    "# Use it to collect info from another dict\n",
    "for timestamp in weekends:\n",
    "    weekend_temps.append(high_temp[timestamp])\n",
    "for timestamp in weekdays:\n",
    "    weekday_temps.append(high_temp[timestamp])\n",
    "\n",
    "print(\"Weekend average {}\".format(np.mean(weekend_temps)))\n",
    "print(\"Weekday average {}\".format(np.mean(weekday_temps)))"
   ]
  },
  {
   "cell_type": "code",
   "execution_count": 108,
   "metadata": {
    "slideshow": {
     "slide_type": "slide"
    }
   },
   "outputs": [
    {
     "data": {
      "text/html": [
       "<div>\n",
       "<style scoped>\n",
       "    .dataframe tbody tr th:only-of-type {\n",
       "        vertical-align: middle;\n",
       "    }\n",
       "\n",
       "    .dataframe tbody tr th {\n",
       "        vertical-align: top;\n",
       "    }\n",
       "\n",
       "    .dataframe thead th {\n",
       "        text-align: right;\n",
       "    }\n",
       "</style>\n",
       "<table border=\"1\" class=\"dataframe\">\n",
       "  <thead>\n",
       "    <tr style=\"text-align: right;\">\n",
       "      <th></th>\n",
       "      <th>day_of_week</th>\n",
       "      <th>high_temp</th>\n",
       "      <th>low_temp</th>\n",
       "    </tr>\n",
       "  </thead>\n",
       "  <tbody>\n",
       "    <tr>\n",
       "      <td>2020-01-01</td>\n",
       "      <td>Wednesday</td>\n",
       "      <td>48</td>\n",
       "      <td>30</td>\n",
       "    </tr>\n",
       "    <tr>\n",
       "      <td>2020-01-02</td>\n",
       "      <td>Thursday</td>\n",
       "      <td>54</td>\n",
       "      <td>38</td>\n",
       "    </tr>\n",
       "    <tr>\n",
       "      <td>2020-01-03</td>\n",
       "      <td>Friday</td>\n",
       "      <td>45</td>\n",
       "      <td>33</td>\n",
       "    </tr>\n",
       "    <tr>\n",
       "      <td>2020-01-04</td>\n",
       "      <td>Saturday</td>\n",
       "      <td>61</td>\n",
       "      <td>45</td>\n",
       "    </tr>\n",
       "    <tr>\n",
       "      <td>2020-01-05</td>\n",
       "      <td>Sunday</td>\n",
       "      <td>55</td>\n",
       "      <td>30</td>\n",
       "    </tr>\n",
       "  </tbody>\n",
       "</table>\n",
       "</div>"
      ],
      "text/plain": [
       "           day_of_week  high_temp  low_temp\n",
       "2020-01-01   Wednesday         48        30\n",
       "2020-01-02    Thursday         54        38\n",
       "2020-01-03      Friday         45        33\n",
       "2020-01-04    Saturday         61        45\n",
       "2020-01-05      Sunday         55        30"
      ]
     },
     "execution_count": 108,
     "metadata": {},
     "output_type": "execute_result"
    }
   ],
   "source": [
    "## You want to access the data all in the same place\n",
    "df = pd.DataFrame({'day_of_week': day_of_week,\n",
    "                   'high_temp': high_temp,\n",
    "                   'low_temp': low_temp})\n",
    "df"
   ]
  },
  {
   "cell_type": "code",
   "execution_count": 109,
   "metadata": {
    "slideshow": {
     "slide_type": "fragment"
    }
   },
   "outputs": [
    {
     "name": "stdout",
     "output_type": "stream",
     "text": [
      "DatetimeIndex(['2020-01-01', '2020-01-02', '2020-01-03', '2020-01-04',\n",
      "               '2020-01-05'],\n",
      "              dtype='datetime64[ns]', freq=None)\n",
      "Index(['day_of_week', 'high_temp', 'low_temp'], dtype='object')\n"
     ]
    }
   ],
   "source": [
    "# How do you access it?\n",
    "# Indexes (Rows) and Columns (Columns)\n",
    "print(df.index)\n",
    "print(df.columns)"
   ]
  },
  {
   "cell_type": "code",
   "execution_count": 110,
   "metadata": {
    "slideshow": {
     "slide_type": "subslide"
    }
   },
   "outputs": [
    {
     "name": "stdout",
     "output_type": "stream",
     "text": [
      "Weekend average 49.0\n",
      "Weekday average 58.0\n"
     ]
    }
   ],
   "source": [
    "# So how would we find the weekday/weekend temps?\n",
    "weekends = ['Saturday', 'Sunday']\n",
    "weekend_data, weekday_data = df.groupby(df.day_of_week.isin(weekends))\n",
    "\n",
    "print(\"Weekend average {}\".format(weekend_data[1].high_temp.mean()))\n",
    "print(\"Weekday average {}\".format(weekday_data[1].high_temp.mean()))"
   ]
  },
  {
   "cell_type": "code",
   "execution_count": 111,
   "metadata": {
    "slideshow": {
     "slide_type": "fragment"
    }
   },
   "outputs": [
    {
     "data": {
      "text/plain": [
       "2020-01-01    Wednesday\n",
       "2020-01-02     Thursday\n",
       "2020-01-03       Friday\n",
       "2020-01-04     Saturday\n",
       "2020-01-05       Sunday\n",
       "Name: day_of_week, dtype: object"
      ]
     },
     "execution_count": 111,
     "metadata": {},
     "output_type": "execute_result"
    }
   ],
   "source": [
    "# Step 1: Accessing the day_of_week information\n",
    "day_of_week = df.day_of_week\n",
    "day_of_week"
   ]
  },
  {
   "cell_type": "code",
   "execution_count": 112,
   "metadata": {
    "slideshow": {
     "slide_type": "fragment"
    }
   },
   "outputs": [
    {
     "data": {
      "text/plain": [
       "2020-01-01    False\n",
       "2020-01-02    False\n",
       "2020-01-03    False\n",
       "2020-01-04     True\n",
       "2020-01-05     True\n",
       "Name: day_of_week, dtype: bool"
      ]
     },
     "execution_count": 112,
     "metadata": {},
     "output_type": "execute_result"
    }
   ],
   "source": [
    "# Step 2: Determining if it's a weekend\n",
    "is_weekend = day_of_week.isin(weekends)\n",
    "is_weekend"
   ]
  },
  {
   "cell_type": "code",
   "execution_count": 113,
   "metadata": {
    "slideshow": {
     "slide_type": "subslide"
    }
   },
   "outputs": [
    {
     "name": "stdout",
     "output_type": "stream",
     "text": [
      "False\n",
      "-----------\n",
      "           day_of_week  high_temp  low_temp\n",
      "2020-01-01   Wednesday         48        30\n",
      "2020-01-02    Thursday         54        38\n",
      "2020-01-03      Friday         45        33\n"
     ]
    }
   ],
   "source": [
    "# Step 3: Group the data based on those True/False values\n",
    "group1, group2 = df.groupby(is_weekend)\n",
    "# groupby returns a tuple e.g. (group_value, dataframe)\n",
    "# In this case group_value is True or False but it could be any value\n",
    "print(group1[0])\n",
    "print(\"-----------\")\n",
    "print(group1[1])\n"
   ]
  },
  {
   "cell_type": "code",
   "execution_count": 114,
   "metadata": {
    "slideshow": {
     "slide_type": "fragment"
    }
   },
   "outputs": [
    {
     "data": {
      "text/plain": [
       "2020-01-01    48\n",
       "2020-01-02    54\n",
       "2020-01-03    45\n",
       "Name: high_temp, dtype: int64"
      ]
     },
     "execution_count": 114,
     "metadata": {},
     "output_type": "execute_result"
    }
   ],
   "source": [
    "# Step 4: Get the high_temp from the group\n",
    "high_temps = group1[1].high_temp\n",
    "high_temps"
   ]
  },
  {
   "cell_type": "code",
   "execution_count": 115,
   "metadata": {
    "slideshow": {
     "slide_type": "fragment"
    }
   },
   "outputs": [
    {
     "data": {
      "text/plain": [
       "49.0"
      ]
     },
     "execution_count": 115,
     "metadata": {},
     "output_type": "execute_result"
    }
   ],
   "source": [
    "# Step 5: Calculate the average\n",
    "high_temps.mean()"
   ]
  },
  {
   "cell_type": "markdown",
   "metadata": {
    "slideshow": {
     "slide_type": "slide"
    }
   },
   "source": [
    "# Adding to a DataFrame\n",
    "Finding the average tempurature was very exciting but it's left a few things unanswered"
   ]
  },
  {
   "cell_type": "markdown",
   "metadata": {
    "slideshow": {
     "slide_type": "subslide"
    }
   },
   "source": [
    "Who are the days for?"
   ]
  },
  {
   "cell_type": "code",
   "execution_count": 116,
   "metadata": {
    "slideshow": {
     "slide_type": "subslide"
    }
   },
   "outputs": [
    {
     "data": {
      "text/plain": [
       "{'Sunday': 'The girls',\n",
       " 'Monday': 'The birds',\n",
       " 'Tuesday': 'The non-binary',\n",
       " 'Wednesday': 'The camels',\n",
       " 'Thursday': 'The dogs',\n",
       " 'Friday': 'The cats',\n",
       " 'Saturday': 'The boys'}"
      ]
     },
     "execution_count": 116,
     "metadata": {},
     "output_type": "execute_result"
    }
   ],
   "source": [
    "for_whom = {\n",
    "    'Sunday': 'The girls',\n",
    "    'Monday': 'The birds',\n",
    "    'Tuesday': 'The non-binary',\n",
    "    'Wednesday': 'The camels',\n",
    "    'Thursday': 'The dogs',\n",
    "    'Friday': 'The cats',\n",
    "    'Saturday': 'The boys',\n",
    "}\n",
    "for_whom"
   ]
  },
  {
   "cell_type": "code",
   "execution_count": 117,
   "metadata": {
    "slideshow": {
     "slide_type": "fragment"
    }
   },
   "outputs": [
    {
     "data": {
      "text/plain": [
       "Sunday            The girls\n",
       "Monday            The birds\n",
       "Tuesday      The non-binary\n",
       "Wednesday        The camels\n",
       "Thursday           The dogs\n",
       "Friday             The cats\n",
       "Saturday           The boys\n",
       "Name: for_whom, dtype: object"
      ]
     },
     "execution_count": 117,
     "metadata": {},
     "output_type": "execute_result"
    }
   ],
   "source": [
    "for_whom = pd.Series(for_whom, name='for_whom')\n",
    "for_whom"
   ]
  },
  {
   "cell_type": "code",
   "execution_count": 118,
   "metadata": {
    "slideshow": {
     "slide_type": "subslide"
    }
   },
   "outputs": [
    {
     "data": {
      "text/html": [
       "<div>\n",
       "<style scoped>\n",
       "    .dataframe tbody tr th:only-of-type {\n",
       "        vertical-align: middle;\n",
       "    }\n",
       "\n",
       "    .dataframe tbody tr th {\n",
       "        vertical-align: top;\n",
       "    }\n",
       "\n",
       "    .dataframe thead th {\n",
       "        text-align: right;\n",
       "    }\n",
       "</style>\n",
       "<table border=\"1\" class=\"dataframe\">\n",
       "  <thead>\n",
       "    <tr style=\"text-align: right;\">\n",
       "      <th></th>\n",
       "      <th>day_of_week</th>\n",
       "      <th>high_temp</th>\n",
       "      <th>low_temp</th>\n",
       "      <th>Friday</th>\n",
       "      <th>Monday</th>\n",
       "      <th>Saturday</th>\n",
       "      <th>Sunday</th>\n",
       "      <th>Thursday</th>\n",
       "      <th>Tuesday</th>\n",
       "      <th>Wednesday</th>\n",
       "    </tr>\n",
       "  </thead>\n",
       "  <tbody>\n",
       "    <tr>\n",
       "      <td>2020-01-01 00:00:00</td>\n",
       "      <td>Wednesday</td>\n",
       "      <td>48.0</td>\n",
       "      <td>30.0</td>\n",
       "      <td>NaN</td>\n",
       "      <td>NaN</td>\n",
       "      <td>NaN</td>\n",
       "      <td>NaN</td>\n",
       "      <td>NaN</td>\n",
       "      <td>NaN</td>\n",
       "      <td>NaN</td>\n",
       "    </tr>\n",
       "    <tr>\n",
       "      <td>2020-01-02 00:00:00</td>\n",
       "      <td>Thursday</td>\n",
       "      <td>54.0</td>\n",
       "      <td>38.0</td>\n",
       "      <td>NaN</td>\n",
       "      <td>NaN</td>\n",
       "      <td>NaN</td>\n",
       "      <td>NaN</td>\n",
       "      <td>NaN</td>\n",
       "      <td>NaN</td>\n",
       "      <td>NaN</td>\n",
       "    </tr>\n",
       "    <tr>\n",
       "      <td>2020-01-03 00:00:00</td>\n",
       "      <td>Friday</td>\n",
       "      <td>45.0</td>\n",
       "      <td>33.0</td>\n",
       "      <td>NaN</td>\n",
       "      <td>NaN</td>\n",
       "      <td>NaN</td>\n",
       "      <td>NaN</td>\n",
       "      <td>NaN</td>\n",
       "      <td>NaN</td>\n",
       "      <td>NaN</td>\n",
       "    </tr>\n",
       "    <tr>\n",
       "      <td>2020-01-04 00:00:00</td>\n",
       "      <td>Saturday</td>\n",
       "      <td>61.0</td>\n",
       "      <td>45.0</td>\n",
       "      <td>NaN</td>\n",
       "      <td>NaN</td>\n",
       "      <td>NaN</td>\n",
       "      <td>NaN</td>\n",
       "      <td>NaN</td>\n",
       "      <td>NaN</td>\n",
       "      <td>NaN</td>\n",
       "    </tr>\n",
       "    <tr>\n",
       "      <td>2020-01-05 00:00:00</td>\n",
       "      <td>Sunday</td>\n",
       "      <td>55.0</td>\n",
       "      <td>30.0</td>\n",
       "      <td>NaN</td>\n",
       "      <td>NaN</td>\n",
       "      <td>NaN</td>\n",
       "      <td>NaN</td>\n",
       "      <td>NaN</td>\n",
       "      <td>NaN</td>\n",
       "      <td>NaN</td>\n",
       "    </tr>\n",
       "    <tr>\n",
       "      <td>for_whom</td>\n",
       "      <td>NaN</td>\n",
       "      <td>NaN</td>\n",
       "      <td>NaN</td>\n",
       "      <td>The cats</td>\n",
       "      <td>The birds</td>\n",
       "      <td>The boys</td>\n",
       "      <td>The girls</td>\n",
       "      <td>The dogs</td>\n",
       "      <td>The non-binary</td>\n",
       "      <td>The camels</td>\n",
       "    </tr>\n",
       "  </tbody>\n",
       "</table>\n",
       "</div>"
      ],
      "text/plain": [
       "                    day_of_week  high_temp  low_temp    Friday     Monday  \\\n",
       "2020-01-01 00:00:00   Wednesday       48.0      30.0       NaN        NaN   \n",
       "2020-01-02 00:00:00    Thursday       54.0      38.0       NaN        NaN   \n",
       "2020-01-03 00:00:00      Friday       45.0      33.0       NaN        NaN   \n",
       "2020-01-04 00:00:00    Saturday       61.0      45.0       NaN        NaN   \n",
       "2020-01-05 00:00:00      Sunday       55.0      30.0       NaN        NaN   \n",
       "for_whom                    NaN        NaN       NaN  The cats  The birds   \n",
       "\n",
       "                     Saturday     Sunday  Thursday         Tuesday   Wednesday  \n",
       "2020-01-01 00:00:00       NaN        NaN       NaN             NaN         NaN  \n",
       "2020-01-02 00:00:00       NaN        NaN       NaN             NaN         NaN  \n",
       "2020-01-03 00:00:00       NaN        NaN       NaN             NaN         NaN  \n",
       "2020-01-04 00:00:00       NaN        NaN       NaN             NaN         NaN  \n",
       "2020-01-05 00:00:00       NaN        NaN       NaN             NaN         NaN  \n",
       "for_whom             The boys  The girls  The dogs  The non-binary  The camels  "
      ]
     },
     "execution_count": 118,
     "metadata": {},
     "output_type": "execute_result"
    }
   ],
   "source": [
    "df.append(for_whom)"
   ]
  },
  {
   "cell_type": "markdown",
   "metadata": {
    "slideshow": {
     "slide_type": "fragment"
    }
   },
   "source": [
    "Thats not right"
   ]
  },
  {
   "cell_type": "code",
   "execution_count": 119,
   "metadata": {
    "slideshow": {
     "slide_type": "subslide"
    }
   },
   "outputs": [
    {
     "data": {
      "text/html": [
       "<div>\n",
       "<style scoped>\n",
       "    .dataframe tbody tr th:only-of-type {\n",
       "        vertical-align: middle;\n",
       "    }\n",
       "\n",
       "    .dataframe tbody tr th {\n",
       "        vertical-align: top;\n",
       "    }\n",
       "\n",
       "    .dataframe thead th {\n",
       "        text-align: right;\n",
       "    }\n",
       "</style>\n",
       "<table border=\"1\" class=\"dataframe\">\n",
       "  <thead>\n",
       "    <tr style=\"text-align: right;\">\n",
       "      <th></th>\n",
       "      <th>high_temp</th>\n",
       "      <th>low_temp</th>\n",
       "    </tr>\n",
       "    <tr>\n",
       "      <th>day_of_week</th>\n",
       "      <th></th>\n",
       "      <th></th>\n",
       "    </tr>\n",
       "  </thead>\n",
       "  <tbody>\n",
       "    <tr>\n",
       "      <td>Wednesday</td>\n",
       "      <td>48</td>\n",
       "      <td>30</td>\n",
       "    </tr>\n",
       "    <tr>\n",
       "      <td>Thursday</td>\n",
       "      <td>54</td>\n",
       "      <td>38</td>\n",
       "    </tr>\n",
       "    <tr>\n",
       "      <td>Friday</td>\n",
       "      <td>45</td>\n",
       "      <td>33</td>\n",
       "    </tr>\n",
       "    <tr>\n",
       "      <td>Saturday</td>\n",
       "      <td>61</td>\n",
       "      <td>45</td>\n",
       "    </tr>\n",
       "    <tr>\n",
       "      <td>Sunday</td>\n",
       "      <td>55</td>\n",
       "      <td>30</td>\n",
       "    </tr>\n",
       "  </tbody>\n",
       "</table>\n",
       "</div>"
      ],
      "text/plain": [
       "             high_temp  low_temp\n",
       "day_of_week                     \n",
       "Wednesday           48        30\n",
       "Thursday            54        38\n",
       "Friday              45        33\n",
       "Saturday            61        45\n",
       "Sunday              55        30"
      ]
     },
     "execution_count": 119,
     "metadata": {},
     "output_type": "execute_result"
    }
   ],
   "source": [
    "# We need to transform the data frame so pandas can match the new data to the original\n",
    "idf = df.set_index('day_of_week')\n",
    "idf"
   ]
  },
  {
   "cell_type": "code",
   "execution_count": 120,
   "metadata": {
    "slideshow": {
     "slide_type": "fragment"
    }
   },
   "outputs": [
    {
     "data": {
      "text/html": [
       "<div>\n",
       "<style scoped>\n",
       "    .dataframe tbody tr th:only-of-type {\n",
       "        vertical-align: middle;\n",
       "    }\n",
       "\n",
       "    .dataframe tbody tr th {\n",
       "        vertical-align: top;\n",
       "    }\n",
       "\n",
       "    .dataframe thead th {\n",
       "        text-align: right;\n",
       "    }\n",
       "</style>\n",
       "<table border=\"1\" class=\"dataframe\">\n",
       "  <thead>\n",
       "    <tr style=\"text-align: right;\">\n",
       "      <th></th>\n",
       "      <th>high_temp</th>\n",
       "      <th>low_temp</th>\n",
       "      <th>Friday</th>\n",
       "      <th>Monday</th>\n",
       "      <th>Saturday</th>\n",
       "      <th>Sunday</th>\n",
       "      <th>Thursday</th>\n",
       "      <th>Tuesday</th>\n",
       "      <th>Wednesday</th>\n",
       "    </tr>\n",
       "    <tr>\n",
       "      <th>day_of_week</th>\n",
       "      <th></th>\n",
       "      <th></th>\n",
       "      <th></th>\n",
       "      <th></th>\n",
       "      <th></th>\n",
       "      <th></th>\n",
       "      <th></th>\n",
       "      <th></th>\n",
       "      <th></th>\n",
       "    </tr>\n",
       "  </thead>\n",
       "  <tbody>\n",
       "    <tr>\n",
       "      <td>Wednesday</td>\n",
       "      <td>48.0</td>\n",
       "      <td>30.0</td>\n",
       "      <td>NaN</td>\n",
       "      <td>NaN</td>\n",
       "      <td>NaN</td>\n",
       "      <td>NaN</td>\n",
       "      <td>NaN</td>\n",
       "      <td>NaN</td>\n",
       "      <td>NaN</td>\n",
       "    </tr>\n",
       "    <tr>\n",
       "      <td>Thursday</td>\n",
       "      <td>54.0</td>\n",
       "      <td>38.0</td>\n",
       "      <td>NaN</td>\n",
       "      <td>NaN</td>\n",
       "      <td>NaN</td>\n",
       "      <td>NaN</td>\n",
       "      <td>NaN</td>\n",
       "      <td>NaN</td>\n",
       "      <td>NaN</td>\n",
       "    </tr>\n",
       "    <tr>\n",
       "      <td>Friday</td>\n",
       "      <td>45.0</td>\n",
       "      <td>33.0</td>\n",
       "      <td>NaN</td>\n",
       "      <td>NaN</td>\n",
       "      <td>NaN</td>\n",
       "      <td>NaN</td>\n",
       "      <td>NaN</td>\n",
       "      <td>NaN</td>\n",
       "      <td>NaN</td>\n",
       "    </tr>\n",
       "    <tr>\n",
       "      <td>Saturday</td>\n",
       "      <td>61.0</td>\n",
       "      <td>45.0</td>\n",
       "      <td>NaN</td>\n",
       "      <td>NaN</td>\n",
       "      <td>NaN</td>\n",
       "      <td>NaN</td>\n",
       "      <td>NaN</td>\n",
       "      <td>NaN</td>\n",
       "      <td>NaN</td>\n",
       "    </tr>\n",
       "    <tr>\n",
       "      <td>Sunday</td>\n",
       "      <td>55.0</td>\n",
       "      <td>30.0</td>\n",
       "      <td>NaN</td>\n",
       "      <td>NaN</td>\n",
       "      <td>NaN</td>\n",
       "      <td>NaN</td>\n",
       "      <td>NaN</td>\n",
       "      <td>NaN</td>\n",
       "      <td>NaN</td>\n",
       "    </tr>\n",
       "    <tr>\n",
       "      <td>for_whom</td>\n",
       "      <td>NaN</td>\n",
       "      <td>NaN</td>\n",
       "      <td>The cats</td>\n",
       "      <td>The birds</td>\n",
       "      <td>The boys</td>\n",
       "      <td>The girls</td>\n",
       "      <td>The dogs</td>\n",
       "      <td>The non-binary</td>\n",
       "      <td>The camels</td>\n",
       "    </tr>\n",
       "  </tbody>\n",
       "</table>\n",
       "</div>"
      ],
      "text/plain": [
       "             high_temp  low_temp    Friday     Monday  Saturday     Sunday  \\\n",
       "day_of_week                                                                  \n",
       "Wednesday         48.0      30.0       NaN        NaN       NaN        NaN   \n",
       "Thursday          54.0      38.0       NaN        NaN       NaN        NaN   \n",
       "Friday            45.0      33.0       NaN        NaN       NaN        NaN   \n",
       "Saturday          61.0      45.0       NaN        NaN       NaN        NaN   \n",
       "Sunday            55.0      30.0       NaN        NaN       NaN        NaN   \n",
       "for_whom           NaN       NaN  The cats  The birds  The boys  The girls   \n",
       "\n",
       "             Thursday         Tuesday   Wednesday  \n",
       "day_of_week                                        \n",
       "Wednesday         NaN             NaN         NaN  \n",
       "Thursday          NaN             NaN         NaN  \n",
       "Friday            NaN             NaN         NaN  \n",
       "Saturday          NaN             NaN         NaN  \n",
       "Sunday            NaN             NaN         NaN  \n",
       "for_whom     The dogs  The non-binary  The camels  "
      ]
     },
     "execution_count": 120,
     "metadata": {},
     "output_type": "execute_result"
    }
   ],
   "source": [
    "idf.append(for_whom)"
   ]
  },
  {
   "cell_type": "markdown",
   "metadata": {
    "slideshow": {
     "slide_type": "fragment"
    }
   },
   "source": [
    "Still not right"
   ]
  },
  {
   "cell_type": "code",
   "execution_count": 121,
   "metadata": {
    "slideshow": {
     "slide_type": "subslide"
    }
   },
   "outputs": [
    {
     "data": {
      "text/html": [
       "<div>\n",
       "<style scoped>\n",
       "    .dataframe tbody tr th:only-of-type {\n",
       "        vertical-align: middle;\n",
       "    }\n",
       "\n",
       "    .dataframe tbody tr th {\n",
       "        vertical-align: top;\n",
       "    }\n",
       "\n",
       "    .dataframe thead th {\n",
       "        text-align: right;\n",
       "    }\n",
       "</style>\n",
       "<table border=\"1\" class=\"dataframe\">\n",
       "  <thead>\n",
       "    <tr style=\"text-align: right;\">\n",
       "      <th>day_of_week</th>\n",
       "      <th>Wednesday</th>\n",
       "      <th>Thursday</th>\n",
       "      <th>Friday</th>\n",
       "      <th>Saturday</th>\n",
       "      <th>Sunday</th>\n",
       "    </tr>\n",
       "  </thead>\n",
       "  <tbody>\n",
       "    <tr>\n",
       "      <td>high_temp</td>\n",
       "      <td>48</td>\n",
       "      <td>54</td>\n",
       "      <td>45</td>\n",
       "      <td>61</td>\n",
       "      <td>55</td>\n",
       "    </tr>\n",
       "    <tr>\n",
       "      <td>low_temp</td>\n",
       "      <td>30</td>\n",
       "      <td>38</td>\n",
       "      <td>33</td>\n",
       "      <td>45</td>\n",
       "      <td>30</td>\n",
       "    </tr>\n",
       "  </tbody>\n",
       "</table>\n",
       "</div>"
      ],
      "text/plain": [
       "day_of_week  Wednesday  Thursday  Friday  Saturday  Sunday\n",
       "high_temp           48        54      45        61      55\n",
       "low_temp            30        38      33        45      30"
      ]
     },
     "execution_count": 121,
     "metadata": {},
     "output_type": "execute_result"
    }
   ],
   "source": [
    "idft = idf.T\n",
    "idft"
   ]
  },
  {
   "cell_type": "code",
   "execution_count": 122,
   "metadata": {
    "slideshow": {
     "slide_type": "fragment"
    }
   },
   "outputs": [
    {
     "data": {
      "text/html": [
       "<div>\n",
       "<style scoped>\n",
       "    .dataframe tbody tr th:only-of-type {\n",
       "        vertical-align: middle;\n",
       "    }\n",
       "\n",
       "    .dataframe tbody tr th {\n",
       "        vertical-align: top;\n",
       "    }\n",
       "\n",
       "    .dataframe thead th {\n",
       "        text-align: right;\n",
       "    }\n",
       "</style>\n",
       "<table border=\"1\" class=\"dataframe\">\n",
       "  <thead>\n",
       "    <tr style=\"text-align: right;\">\n",
       "      <th></th>\n",
       "      <th>Wednesday</th>\n",
       "      <th>Thursday</th>\n",
       "      <th>Friday</th>\n",
       "      <th>Saturday</th>\n",
       "      <th>Sunday</th>\n",
       "      <th>Monday</th>\n",
       "      <th>Tuesday</th>\n",
       "    </tr>\n",
       "  </thead>\n",
       "  <tbody>\n",
       "    <tr>\n",
       "      <td>high_temp</td>\n",
       "      <td>48</td>\n",
       "      <td>54</td>\n",
       "      <td>45</td>\n",
       "      <td>61</td>\n",
       "      <td>55</td>\n",
       "      <td>NaN</td>\n",
       "      <td>NaN</td>\n",
       "    </tr>\n",
       "    <tr>\n",
       "      <td>low_temp</td>\n",
       "      <td>30</td>\n",
       "      <td>38</td>\n",
       "      <td>33</td>\n",
       "      <td>45</td>\n",
       "      <td>30</td>\n",
       "      <td>NaN</td>\n",
       "      <td>NaN</td>\n",
       "    </tr>\n",
       "    <tr>\n",
       "      <td>for_whom</td>\n",
       "      <td>The camels</td>\n",
       "      <td>The dogs</td>\n",
       "      <td>The cats</td>\n",
       "      <td>The boys</td>\n",
       "      <td>The girls</td>\n",
       "      <td>The birds</td>\n",
       "      <td>The non-binary</td>\n",
       "    </tr>\n",
       "  </tbody>\n",
       "</table>\n",
       "</div>"
      ],
      "text/plain": [
       "            Wednesday  Thursday    Friday  Saturday     Sunday     Monday  \\\n",
       "high_temp          48        54        45        61         55        NaN   \n",
       "low_temp           30        38        33        45         30        NaN   \n",
       "for_whom   The camels  The dogs  The cats  The boys  The girls  The birds   \n",
       "\n",
       "                  Tuesday  \n",
       "high_temp             NaN  \n",
       "low_temp              NaN  \n",
       "for_whom   The non-binary  "
      ]
     },
     "execution_count": 122,
     "metadata": {},
     "output_type": "execute_result"
    }
   ],
   "source": [
    "df = idft.append(for_whom)\n",
    "df"
   ]
  },
  {
   "cell_type": "markdown",
   "metadata": {
    "slideshow": {
     "slide_type": "fragment"
    }
   },
   "source": [
    "That's better"
   ]
  },
  {
   "cell_type": "code",
   "execution_count": 123,
   "metadata": {
    "slideshow": {
     "slide_type": "subslide"
    }
   },
   "outputs": [
    {
     "data": {
      "text/html": [
       "<div>\n",
       "<style scoped>\n",
       "    .dataframe tbody tr th:only-of-type {\n",
       "        vertical-align: middle;\n",
       "    }\n",
       "\n",
       "    .dataframe tbody tr th {\n",
       "        vertical-align: top;\n",
       "    }\n",
       "\n",
       "    .dataframe thead th {\n",
       "        text-align: right;\n",
       "    }\n",
       "</style>\n",
       "<table border=\"1\" class=\"dataframe\">\n",
       "  <thead>\n",
       "    <tr style=\"text-align: right;\">\n",
       "      <th></th>\n",
       "      <th>high_temp</th>\n",
       "      <th>low_temp</th>\n",
       "      <th>for_whom</th>\n",
       "    </tr>\n",
       "  </thead>\n",
       "  <tbody>\n",
       "    <tr>\n",
       "      <td>Wednesday</td>\n",
       "      <td>48</td>\n",
       "      <td>30</td>\n",
       "      <td>The camels</td>\n",
       "    </tr>\n",
       "    <tr>\n",
       "      <td>Thursday</td>\n",
       "      <td>54</td>\n",
       "      <td>38</td>\n",
       "      <td>The dogs</td>\n",
       "    </tr>\n",
       "    <tr>\n",
       "      <td>Friday</td>\n",
       "      <td>45</td>\n",
       "      <td>33</td>\n",
       "      <td>The cats</td>\n",
       "    </tr>\n",
       "    <tr>\n",
       "      <td>Saturday</td>\n",
       "      <td>61</td>\n",
       "      <td>45</td>\n",
       "      <td>The boys</td>\n",
       "    </tr>\n",
       "    <tr>\n",
       "      <td>Sunday</td>\n",
       "      <td>55</td>\n",
       "      <td>30</td>\n",
       "      <td>The girls</td>\n",
       "    </tr>\n",
       "    <tr>\n",
       "      <td>Monday</td>\n",
       "      <td>NaN</td>\n",
       "      <td>NaN</td>\n",
       "      <td>The birds</td>\n",
       "    </tr>\n",
       "    <tr>\n",
       "      <td>Tuesday</td>\n",
       "      <td>NaN</td>\n",
       "      <td>NaN</td>\n",
       "      <td>The non-binary</td>\n",
       "    </tr>\n",
       "  </tbody>\n",
       "</table>\n",
       "</div>"
      ],
      "text/plain": [
       "          high_temp low_temp        for_whom\n",
       "Wednesday        48       30      The camels\n",
       "Thursday         54       38        The dogs\n",
       "Friday           45       33        The cats\n",
       "Saturday         61       45        The boys\n",
       "Sunday           55       30       The girls\n",
       "Monday          NaN      NaN       The birds\n",
       "Tuesday         NaN      NaN  The non-binary"
      ]
     },
     "execution_count": 123,
     "metadata": {},
     "output_type": "execute_result"
    }
   ],
   "source": [
    "# To get it back to the previous format we undo to the transformations\n",
    "df = df.T\n",
    "df"
   ]
  },
  {
   "cell_type": "code",
   "execution_count": 124,
   "metadata": {
    "slideshow": {
     "slide_type": "fragment"
    }
   },
   "outputs": [
    {
     "data": {
      "text/html": [
       "<div>\n",
       "<style scoped>\n",
       "    .dataframe tbody tr th:only-of-type {\n",
       "        vertical-align: middle;\n",
       "    }\n",
       "\n",
       "    .dataframe tbody tr th {\n",
       "        vertical-align: top;\n",
       "    }\n",
       "\n",
       "    .dataframe thead th {\n",
       "        text-align: right;\n",
       "    }\n",
       "</style>\n",
       "<table border=\"1\" class=\"dataframe\">\n",
       "  <thead>\n",
       "    <tr style=\"text-align: right;\">\n",
       "      <th></th>\n",
       "      <th>index</th>\n",
       "      <th>high_temp</th>\n",
       "      <th>low_temp</th>\n",
       "      <th>for_whom</th>\n",
       "    </tr>\n",
       "  </thead>\n",
       "  <tbody>\n",
       "    <tr>\n",
       "      <td>0</td>\n",
       "      <td>Wednesday</td>\n",
       "      <td>48</td>\n",
       "      <td>30</td>\n",
       "      <td>The camels</td>\n",
       "    </tr>\n",
       "    <tr>\n",
       "      <td>1</td>\n",
       "      <td>Thursday</td>\n",
       "      <td>54</td>\n",
       "      <td>38</td>\n",
       "      <td>The dogs</td>\n",
       "    </tr>\n",
       "    <tr>\n",
       "      <td>2</td>\n",
       "      <td>Friday</td>\n",
       "      <td>45</td>\n",
       "      <td>33</td>\n",
       "      <td>The cats</td>\n",
       "    </tr>\n",
       "    <tr>\n",
       "      <td>3</td>\n",
       "      <td>Saturday</td>\n",
       "      <td>61</td>\n",
       "      <td>45</td>\n",
       "      <td>The boys</td>\n",
       "    </tr>\n",
       "    <tr>\n",
       "      <td>4</td>\n",
       "      <td>Sunday</td>\n",
       "      <td>55</td>\n",
       "      <td>30</td>\n",
       "      <td>The girls</td>\n",
       "    </tr>\n",
       "    <tr>\n",
       "      <td>5</td>\n",
       "      <td>Monday</td>\n",
       "      <td>NaN</td>\n",
       "      <td>NaN</td>\n",
       "      <td>The birds</td>\n",
       "    </tr>\n",
       "    <tr>\n",
       "      <td>6</td>\n",
       "      <td>Tuesday</td>\n",
       "      <td>NaN</td>\n",
       "      <td>NaN</td>\n",
       "      <td>The non-binary</td>\n",
       "    </tr>\n",
       "  </tbody>\n",
       "</table>\n",
       "</div>"
      ],
      "text/plain": [
       "       index high_temp low_temp        for_whom\n",
       "0  Wednesday        48       30      The camels\n",
       "1   Thursday        54       38        The dogs\n",
       "2     Friday        45       33        The cats\n",
       "3   Saturday        61       45        The boys\n",
       "4     Sunday        55       30       The girls\n",
       "5     Monday       NaN      NaN       The birds\n",
       "6    Tuesday       NaN      NaN  The non-binary"
      ]
     },
     "execution_count": 124,
     "metadata": {},
     "output_type": "execute_result"
    }
   ],
   "source": [
    "df = df.reset_index()\n",
    "df"
   ]
  },
  {
   "cell_type": "markdown",
   "metadata": {
    "slideshow": {
     "slide_type": "fragment"
    }
   },
   "source": [
    "Notice the Week days now have the column label 'index'. The original label was lost when we set them to be the index"
   ]
  }
 ],
 "metadata": {
  "celltoolbar": "Slideshow",
  "kernelspec": {
   "display_name": "Python 3",
   "language": "python",
   "name": "python3"
  },
  "language_info": {
   "codemirror_mode": {
    "name": "ipython",
    "version": 3
   },
   "file_extension": ".py",
   "mimetype": "text/x-python",
   "name": "python",
   "nbconvert_exporter": "python",
   "pygments_lexer": "ipython3",
   "version": "3.7.4"
  }
 },
 "nbformat": 4,
 "nbformat_minor": 2
}
